{
 "cells": [
  {
   "cell_type": "markdown",
   "id": "1673bf50",
   "metadata": {
    "toc": true
   },
   "source": [
    "<h1>Table of Contents<span class=\"tocSkip\"></span></h1>\n",
    "<div class=\"toc\"><ul class=\"toc-item\"><li><span><a href=\"#Определение-стоимости-автомобилей\" data-toc-modified-id=\"Определение-стоимости-автомобилей-1\"><span class=\"toc-item-num\">1&nbsp;&nbsp;</span>Определение стоимости автомобилей</a></span><ul class=\"toc-item\"><li><span><a href=\"#Подготовка-данных\" data-toc-modified-id=\"Подготовка-данных-1.1\"><span class=\"toc-item-num\">1.1&nbsp;&nbsp;</span>Подготовка данных</a></span><ul class=\"toc-item\"><li><span><a href=\"#Общая-информация-о-данных\" data-toc-modified-id=\"Общая-информация-о-данных-1.1.1\"><span class=\"toc-item-num\">1.1.1&nbsp;&nbsp;</span>Общая информация о данных</a></span></li><li><span><a href=\"#Переименуем-столбцы\" data-toc-modified-id=\"Переименуем-столбцы-1.1.2\"><span class=\"toc-item-num\">1.1.2&nbsp;&nbsp;</span>Переименуем столбцы</a></span></li><li><span><a href=\"#Изменение-типа-данных-на-Datetime\" data-toc-modified-id=\"Изменение-типа-данных-на-Datetime-1.1.3\"><span class=\"toc-item-num\">1.1.3&nbsp;&nbsp;</span>Изменение типа данных на Datetime</a></span></li><li><span><a href=\"#Обработка-столбца-с-ценой\" data-toc-modified-id=\"Обработка-столбца-с-ценой-1.1.4\"><span class=\"toc-item-num\">1.1.4&nbsp;&nbsp;</span>Обработка столбца с ценой</a></span></li><li><span><a href=\"#Обработка-столбца-с-типом-кузова.\" data-toc-modified-id=\"Обработка-столбца-с-типом-кузова.-1.1.5\"><span class=\"toc-item-num\">1.1.5&nbsp;&nbsp;</span>Обработка столбца с типом кузова.</a></span></li><li><span><a href=\"#Обработка-столбца-с-годом-выпуска-автомобиля.\" data-toc-modified-id=\"Обработка-столбца-с-годом-выпуска-автомобиля.-1.1.6\"><span class=\"toc-item-num\">1.1.6&nbsp;&nbsp;</span>Обработка столбца с годом выпуска автомобиля.</a></span></li><li><span><a href=\"#Обработка-столбца-с-типом-коробки-передач.\" data-toc-modified-id=\"Обработка-столбца-с-типом-коробки-передач.-1.1.7\"><span class=\"toc-item-num\">1.1.7&nbsp;&nbsp;</span>Обработка столбца с типом коробки передач.</a></span></li><li><span><a href=\"#Обработка-столбца-с-мощностью.\" data-toc-modified-id=\"Обработка-столбца-с-мощностью.-1.1.8\"><span class=\"toc-item-num\">1.1.8&nbsp;&nbsp;</span>Обработка столбца с мощностью.</a></span></li><li><span><a href=\"#Обработка-столбца-с-типом-моделей-авто.\" data-toc-modified-id=\"Обработка-столбца-с-типом-моделей-авто.-1.1.9\"><span class=\"toc-item-num\">1.1.9&nbsp;&nbsp;</span>Обработка столбца с типом моделей авто.</a></span></li><li><span><a href=\"#Обработка-столбца-с-пробегом-авто.\" data-toc-modified-id=\"Обработка-столбца-с-пробегом-авто.-1.1.10\"><span class=\"toc-item-num\">1.1.10&nbsp;&nbsp;</span>Обработка столбца с пробегом авто.</a></span></li><li><span><a href=\"#Обработка-столбца-с-месяцем-регистрации-авто.\" data-toc-modified-id=\"Обработка-столбца-с-месяцем-регистрации-авто.-1.1.11\"><span class=\"toc-item-num\">1.1.11&nbsp;&nbsp;</span>Обработка столбца с месяцем регистрации авто.</a></span></li><li><span><a href=\"#Обработка-столбца-с-типом-топлива.\" data-toc-modified-id=\"Обработка-столбца-с-типом-топлива.-1.1.12\"><span class=\"toc-item-num\">1.1.12&nbsp;&nbsp;</span>Обработка столбца с типом топлива.</a></span></li><li><span><a href=\"#Обработка-столбца-с-маркой-машин.\" data-toc-modified-id=\"Обработка-столбца-с-маркой-машин.-1.1.13\"><span class=\"toc-item-num\">1.1.13&nbsp;&nbsp;</span>Обработка столбца с маркой машин.</a></span></li><li><span><a href=\"#Обработка-столбца-с-ремонтом-авто.\" data-toc-modified-id=\"Обработка-столбца-с-ремонтом-авто.-1.1.14\"><span class=\"toc-item-num\">1.1.14&nbsp;&nbsp;</span>Обработка столбца с ремонтом авто.</a></span></li><li><span><a href=\"#Обработка-столбца-с-индексом-владельца.\" data-toc-modified-id=\"Обработка-столбца-с-индексом-владельца.-1.1.15\"><span class=\"toc-item-num\">1.1.15&nbsp;&nbsp;</span>Обработка столбца с индексом владельца.</a></span></li><li><span><a href=\"#Удаление-ненужных-признаков.\" data-toc-modified-id=\"Удаление-ненужных-признаков.-1.1.16\"><span class=\"toc-item-num\">1.1.16&nbsp;&nbsp;</span>Удаление ненужных признаков.</a></span></li><li><span><a href=\"#Проверка-на-наличие-зависимостей-в-данных.\" data-toc-modified-id=\"Проверка-на-наличие-зависимостей-в-данных.-1.1.17\"><span class=\"toc-item-num\">1.1.17&nbsp;&nbsp;</span>Проверка на наличие зависимостей в данных.</a></span></li></ul></li><li><span><a href=\"#Обучение-моделей\" data-toc-modified-id=\"Обучение-моделей-1.2\"><span class=\"toc-item-num\">1.2&nbsp;&nbsp;</span>Обучение моделей</a></span><ul class=\"toc-item\"><li><span><a href=\"#Разделение-на-выборки.\" data-toc-modified-id=\"Разделение-на-выборки.-1.2.1\"><span class=\"toc-item-num\">1.2.1&nbsp;&nbsp;</span>Разделение на выборки.</a></span></li><li><span><a href=\"#Linear-Regression\" data-toc-modified-id=\"Linear-Regression-1.2.2\"><span class=\"toc-item-num\">1.2.2&nbsp;&nbsp;</span>Linear Regression</a></span></li><li><span><a href=\"#Преобразование-признаков-для-LR.\" data-toc-modified-id=\"Преобразование-признаков-для-LR.-1.2.3\"><span class=\"toc-item-num\">1.2.3&nbsp;&nbsp;</span>Преобразование признаков для LR.</a></span></li><li><span><a href=\"#SGDRegressor\" data-toc-modified-id=\"SGDRegressor-1.2.4\"><span class=\"toc-item-num\">1.2.4&nbsp;&nbsp;</span>SGDRegressor</a></span></li><li><span><a href=\"#Преобразование-признаков-для-SGDR.\" data-toc-modified-id=\"Преобразование-признаков-для-SGDR.-1.2.5\"><span class=\"toc-item-num\">1.2.5&nbsp;&nbsp;</span>Преобразование признаков для SGDR.</a></span></li><li><span><a href=\"#CatBoost\" data-toc-modified-id=\"CatBoost-1.2.6\"><span class=\"toc-item-num\">1.2.6&nbsp;&nbsp;</span>CatBoost</a></span></li><li><span><a href=\"#Преобразование-признаков-для-CB.\" data-toc-modified-id=\"Преобразование-признаков-для-CB.-1.2.7\"><span class=\"toc-item-num\">1.2.7&nbsp;&nbsp;</span>Преобразование признаков для CB.</a></span></li><li><span><a href=\"#LightGBM\" data-toc-modified-id=\"LightGBM-1.2.8\"><span class=\"toc-item-num\">1.2.8&nbsp;&nbsp;</span>LightGBM</a></span></li><li><span><a href=\"#Преобразование-признаков-для-LGBM.\" data-toc-modified-id=\"Преобразование-признаков-для-LGBM.-1.2.9\"><span class=\"toc-item-num\">1.2.9&nbsp;&nbsp;</span>Преобразование признаков для LGBM.</a></span></li><li><span><a href=\"#RandomForestRegressor\" data-toc-modified-id=\"RandomForestRegressor-1.2.10\"><span class=\"toc-item-num\">1.2.10&nbsp;&nbsp;</span>RandomForestRegressor</a></span></li><li><span><a href=\"#Преобразование-признаков-для-RFR.\" data-toc-modified-id=\"Преобразование-признаков-для-RFR.-1.2.11\"><span class=\"toc-item-num\">1.2.11&nbsp;&nbsp;</span>Преобразование признаков для RFR.</a></span></li></ul></li><li><span><a href=\"#Анализ-моделей\" data-toc-modified-id=\"Анализ-моделей-1.3\"><span class=\"toc-item-num\">1.3&nbsp;&nbsp;</span>Анализ моделей</a></span><ul class=\"toc-item\"><li><span><a href=\"#Проверка-качества-модели-LightGBM\" data-toc-modified-id=\"Проверка-качества-модели-LightGBM-1.3.1\"><span class=\"toc-item-num\">1.3.1&nbsp;&nbsp;</span>Проверка качества модели LightGBM</a></span></li></ul></li></ul></li></ul></div>"
   ]
  },
  {
   "cell_type": "markdown",
   "id": "0ab246f5",
   "metadata": {},
   "source": [
    "Инструкция по выполнению проекта\n",
    "\n",
    "Чтобы усилить исследование, не ограничивайтесь градиентным бустингом. Попробуйте более простые модели — иногда они работают лучше. Эти редкие случаи легко пропустить, если всегда применять только бустинг.\n",
    "Поэкспериментируйте и сравните характеристики моделей: время обучения, время предсказания, точность результата."
   ]
  },
  {
   "cell_type": "markdown",
   "id": "597f129f",
   "metadata": {},
   "source": [
    "# Определение стоимости автомобилей"
   ]
  },
  {
   "cell_type": "markdown",
   "id": "c06c8970",
   "metadata": {},
   "source": [
    "Сервис по продаже автомобилей с пробегом «Не бит, не крашен» разрабатывает приложение для привлечения новых клиентов. В нём можно быстро узнать рыночную стоимость своего автомобиля. В вашем распоряжении исторические данные: технические характеристики, комплектации и цены автомобилей. Вам нужно построить модель для определения стоимости. \n",
    "\n",
    "Заказчику важны:\n",
    "\n",
    "- качество предсказания;\n",
    "- скорость предсказания;\n",
    "- время обучения.\n",
    "\n",
    "**Описание данных**\n",
    "\n",
    "Данные находятся в файле /datasets/autos.csv.\n",
    "\n",
    "**Признаки**\n",
    "\n",
    "▲ DateCrawled — дата скачивания анкеты из базы\n",
    "\n",
    "▲ VehicleType — тип автомобильного кузова\n",
    "\n",
    "▲ RegistrationYear — год регистрации автомобиля\n",
    "\n",
    "▲ Gearbox — тип коробки передач\n",
    "\n",
    "▲ Power — мощность (л. с.)\n",
    "\n",
    "▲ Model — модель автомобиля\n",
    "\n",
    "▲ Kilometer — пробег (км)\n",
    "\n",
    "▲ RegistrationMonth — месяц регистрации автомобиля\n",
    "\n",
    "▲ FuelType — тип топлива\n",
    "\n",
    "▲ Brand — марка автомобиля\n",
    "\n",
    "▲ Repaired — была машина в ремонте или нет\n",
    "\n",
    "▲ DateCreated — дата создания анкеты\n",
    "\n",
    "▲ NumberOfPictures — количество фотографий автомобиля\n",
    "\n",
    "▲ PostalCode — почтовый индекс владельца анкеты (пользователя)\n",
    "\n",
    "▲ LastSeen — дата последней активности пользователя\n",
    "\n",
    "\n",
    "**Целевой признак**\n",
    "\n",
    "Price — цена (евро)\n",
    "\n",
    "Основные шаги:\n",
    "\n",
    "1) Загрузите данные, путь к файлу: /datasets/autos.csv.\n",
    "\n",
    "2) Изучите данные. Заполните пропущенные значения и обработайте аномалии в столбцах. Если среди признаков имеются неинформативные, удалите их.\n",
    "\n",
    "3)Подготовьте выборки для обучения моделей.\n",
    "\n",
    "4) Обучите разные модели, одна из которых — LightGBM, как минимум одна — не бустинг. Для каждой модели попробуйте разные гиперпараметры.\n",
    "\n",
    "5)Проанализируйте время обучения, время предсказания и качество моделей.\n",
    "\n",
    "6)Опираясь на критерии заказчика, выберете лучшую модель, проверьте её качество на тестовой выборке.\n",
    "\n",
    "**Примечания:**\n",
    "\n",
    "◯ Для оценки качества моделей применяйте метрику RMSE.\n",
    "\n",
    "◯ Значение метрики RMSE должно быть меньше 2500.\n",
    "\n",
    "◯ Самостоятельно освойте библиотеку LightGBM и её средствами постройте модели градиентного бустинга.\n",
    "\n",
    "◯ Время выполнения ячейки кода Jupyter Notebook можно получить специальной командой. Найдите её.\n",
    "\n",
    "◯ Модель градиентного бустинга может долго обучаться, поэтому измените у неё только два-три параметра."
   ]
  },
  {
   "cell_type": "markdown",
   "id": "483ef0bd",
   "metadata": {
    "toc": true
   },
   "source": [
    "<h1>Table of Contents<span class=\"tocSkip\"></span></h1>\n",
    "<div class=\"toc\"><ul class=\"toc-item\"><li><span><a href=\"#Определение-стоимости-автомобилей\" data-toc-modified-id=\"Определение-стоимости-автомобилей-1\"><span class=\"toc-item-num\">1&nbsp;&nbsp;</span>Определение стоимости автомобилей</a></span><ul class=\"toc-item\"><li><span><a href=\"#Подготовка-данных\" data-toc-modified-id=\"Подготовка-данных-1.1\"><span class=\"toc-item-num\">1.1&nbsp;&nbsp;</span>Подготовка данных</a></span><ul class=\"toc-item\"><li><span><a href=\"#Общая-информация-о-данных\" data-toc-modified-id=\"Общая-информация-о-данных-1.1.1\"><span class=\"toc-item-num\">1.1.1&nbsp;&nbsp;</span>Общая информация о данных</a></span></li><li><span><a href=\"#Переименуем-столбцы\" data-toc-modified-id=\"Переименуем-столбцы-1.1.2\"><span class=\"toc-item-num\">1.1.2&nbsp;&nbsp;</span>Переименуем столбцы</a></span></li><li><span><a href=\"#Изменение-типа-данных-на-Datetime\" data-toc-modified-id=\"Изменение-типа-данных-на-Datetime-1.1.3\"><span class=\"toc-item-num\">1.1.3&nbsp;&nbsp;</span>Изменение типа данных на Datetime</a></span></li><li><span><a href=\"#Обработка-столбца-с-ценой\" data-toc-modified-id=\"Обработка-столбца-с-ценой-1.1.4\"><span class=\"toc-item-num\">1.1.4&nbsp;&nbsp;</span>Обработка столбца с ценой</a></span></li><li><span><a href=\"#Обработка-столбца-с-типом-кузова.\" data-toc-modified-id=\"Обработка-столбца-с-типом-кузова.-1.1.5\"><span class=\"toc-item-num\">1.1.5&nbsp;&nbsp;</span>Обработка столбца с типом кузова.</a></span></li><li><span><a href=\"#Обработка-столбца-с-годом-выпуска-автомобиля.\" data-toc-modified-id=\"Обработка-столбца-с-годом-выпуска-автомобиля.-1.1.6\"><span class=\"toc-item-num\">1.1.6&nbsp;&nbsp;</span>Обработка столбца с годом выпуска автомобиля.</a></span></li><li><span><a href=\"#Обработка-столбца-с-типом-коробки-передач.\" data-toc-modified-id=\"Обработка-столбца-с-типом-коробки-передач.-1.1.7\"><span class=\"toc-item-num\">1.1.7&nbsp;&nbsp;</span>Обработка столбца с типом коробки передач.</a></span></li><li><span><a href=\"#Обработка-столбца-с-мощностью.\" data-toc-modified-id=\"Обработка-столбца-с-мощностью.-1.1.8\"><span class=\"toc-item-num\">1.1.8&nbsp;&nbsp;</span>Обработка столбца с мощностью.</a></span></li><li><span><a href=\"#Обработка-столбца-с-типом-моделей-авто.\" data-toc-modified-id=\"Обработка-столбца-с-типом-моделей-авто.-1.1.9\"><span class=\"toc-item-num\">1.1.9&nbsp;&nbsp;</span>Обработка столбца с типом моделей авто.</a></span></li><li><span><a href=\"#Обработка-столбца-с-пробегом-авто.\" data-toc-modified-id=\"Обработка-столбца-с-пробегом-авто.-1.1.10\"><span class=\"toc-item-num\">1.1.10&nbsp;&nbsp;</span>Обработка столбца с пробегом авто.</a></span></li><li><span><a href=\"#Обработка-столбца-с-месяцем-регистрации-авто.\" data-toc-modified-id=\"Обработка-столбца-с-месяцем-регистрации-авто.-1.1.11\"><span class=\"toc-item-num\">1.1.11&nbsp;&nbsp;</span>Обработка столбца с месяцем регистрации авто.</a></span></li><li><span><a href=\"#Обработка-столбца-с-типом-топлива.\" data-toc-modified-id=\"Обработка-столбца-с-типом-топлива.-1.1.12\"><span class=\"toc-item-num\">1.1.12&nbsp;&nbsp;</span>Обработка столбца с типом топлива.</a></span></li><li><span><a href=\"#Обработка-столбца-с-маркой-машин.\" data-toc-modified-id=\"Обработка-столбца-с-маркой-машин.-1.1.13\"><span class=\"toc-item-num\">1.1.13&nbsp;&nbsp;</span>Обработка столбца с маркой машин.</a></span></li><li><span><a href=\"#Обработка-столбца-с-ремонтом-авто.\" data-toc-modified-id=\"Обработка-столбца-с-ремонтом-авто.-1.1.14\"><span class=\"toc-item-num\">1.1.14&nbsp;&nbsp;</span>Обработка столбца с ремонтом авто.</a></span></li><li><span><a href=\"#Обработка-столбца-с-индексом-владельца.\" data-toc-modified-id=\"Обработка-столбца-с-индексом-владельца.-1.1.15\"><span class=\"toc-item-num\">1.1.15&nbsp;&nbsp;</span>Обработка столбца с индексом владельца.</a></span></li><li><span><a href=\"#Удаление-ненужных-признаков.\" data-toc-modified-id=\"Удаление-ненужных-признаков.-1.1.16\"><span class=\"toc-item-num\">1.1.16&nbsp;&nbsp;</span>Удаление ненужных признаков.</a></span></li><li><span><a href=\"#Проверка-на-наличие-зависимостей-в-данных.\" data-toc-modified-id=\"Проверка-на-наличие-зависимостей-в-данных.-1.1.17\"><span class=\"toc-item-num\">1.1.17&nbsp;&nbsp;</span>Проверка на наличие зависимостей в данных.</a></span></li></ul></li><li><span><a href=\"#Обучение-моделей\" data-toc-modified-id=\"Обучение-моделей-1.2\"><span class=\"toc-item-num\">1.2&nbsp;&nbsp;</span>Обучение моделей</a></span><ul class=\"toc-item\"><li><span><a href=\"#Разделение-на-выборки.\" data-toc-modified-id=\"Разделение-на-выборки.-1.2.1\"><span class=\"toc-item-num\">1.2.1&nbsp;&nbsp;</span>Разделение на выборки.</a></span></li><li><span><a href=\"#Преобразование-признаков.\" data-toc-modified-id=\"Преобразование-признаков.-1.2.2\"><span class=\"toc-item-num\">1.2.2&nbsp;&nbsp;</span>Преобразование признаков.</a></span></li><li><span><a href=\"#Масштабирование-признаков\" data-toc-modified-id=\"Масштабирование-признаков-1.2.3\"><span class=\"toc-item-num\">1.2.3&nbsp;&nbsp;</span>Масштабирование признаков</a></span></li><li><span><a href=\"#Linear-Regression\" data-toc-modified-id=\"Linear-Regression-1.2.4\"><span class=\"toc-item-num\">1.2.4&nbsp;&nbsp;</span>Linear Regression</a></span></li><li><span><a href=\"#SGDRegressor\" data-toc-modified-id=\"SGDRegressor-1.2.5\"><span class=\"toc-item-num\">1.2.5&nbsp;&nbsp;</span>SGDRegressor</a></span></li><li><span><a href=\"#CatBoost\" data-toc-modified-id=\"CatBoost-1.2.6\"><span class=\"toc-item-num\">1.2.6&nbsp;&nbsp;</span>CatBoost</a></span></li><li><span><a href=\"#LightGBM\" data-toc-modified-id=\"LightGBM-1.2.7\"><span class=\"toc-item-num\">1.2.7&nbsp;&nbsp;</span>LightGBM</a></span></li><li><span><a href=\"#RandomForestRegressor\" data-toc-modified-id=\"RandomForestRegressor-1.2.8\"><span class=\"toc-item-num\">1.2.8&nbsp;&nbsp;</span>RandomForestRegressor</a></span></li></ul></li><li><span><a href=\"#Анализ-моделей\" data-toc-modified-id=\"Анализ-моделей-1.3\"><span class=\"toc-item-num\">1.3&nbsp;&nbsp;</span>Анализ моделей</a></span><ul class=\"toc-item\"><li><span><a href=\"#Проверка-качества-модели-CatBoostRegressor-и-LightGBM\" data-toc-modified-id=\"Проверка-качества-модели-CatBoostRegressor-и-LightGBM-1.3.1\"><span class=\"toc-item-num\">1.3.1&nbsp;&nbsp;</span>Проверка качества модели CatBoostRegressor и LightGBM</a></span></li></ul></li></ul></li></ul></div>"
   ]
  },
  {
   "cell_type": "markdown",
   "id": "73dee31e",
   "metadata": {},
   "source": [
    "## Подготовка данных"
   ]
  },
  {
   "cell_type": "markdown",
   "id": "0e6427e0",
   "metadata": {},
   "source": [
    "### Общая информация о данных"
   ]
  },
  {
   "cell_type": "code",
   "execution_count": 1,
   "id": "015ee671",
   "metadata": {
    "ExecuteTime": {
     "end_time": "2022-12-02T20:24:35.216809Z",
     "start_time": "2022-12-02T20:24:31.164906Z"
    }
   },
   "outputs": [],
   "source": [
    "import time\n",
    "import pandas as pd\n",
    "import numpy as np\n",
    "import matplotlib.pyplot as plt\n",
    "import seaborn as sns\n",
    "from sklearn.model_selection import GridSearchCV, train_test_split\n",
    "from sklearn.preprocessing import OrdinalEncoder\n",
    "from sklearn.preprocessing import StandardScaler\n",
    "from sklearn.linear_model import LinearRegression\n",
    "import warnings\n",
    "warnings.filterwarnings('ignore')\n",
    "from sklearn.metrics import mean_squared_error\n",
    "import math\n",
    "from sklearn.linear_model import SGDRegressor\n",
    "from catboost import CatBoostRegressor\n",
    "from catboost import Pool, cv\n",
    "from tqdm.notebook import tqdm\n",
    "import lightgbm as lgbm\n",
    "from sklearn.ensemble import RandomForestRegressor\n"
   ]
  },
  {
   "cell_type": "code",
   "execution_count": 2,
   "id": "44c22152",
   "metadata": {
    "ExecuteTime": {
     "end_time": "2022-12-02T20:24:38.119773Z",
     "start_time": "2022-12-02T20:24:35.216809Z"
    }
   },
   "outputs": [],
   "source": [
    "# открываем файл\n",
    "try:\n",
    "    data = pd.read_csv('G:\\DataS\\projects/autos.csv')\n",
    "except:\n",
    "    data = pd.read_csv('/datasets/autos.csv')"
   ]
  },
  {
   "cell_type": "code",
   "execution_count": 3,
   "id": "2e20e049",
   "metadata": {
    "ExecuteTime": {
     "end_time": "2022-12-02T20:24:38.134629Z",
     "start_time": "2022-12-02T20:24:38.119773Z"
    }
   },
   "outputs": [
    {
     "name": "stdout",
     "output_type": "stream",
     "text": [
      "(354369, 16)\n"
     ]
    }
   ],
   "source": [
    "# выведем размеры датафрейма \n",
    "print(data.shape)"
   ]
  },
  {
   "cell_type": "code",
   "execution_count": 4,
   "id": "67f53df3",
   "metadata": {
    "ExecuteTime": {
     "end_time": "2022-12-02T20:24:38.774855Z",
     "start_time": "2022-12-02T20:24:38.137628Z"
    }
   },
   "outputs": [
    {
     "name": "stdout",
     "output_type": "stream",
     "text": [
      "<class 'pandas.core.frame.DataFrame'>\n",
      "RangeIndex: 354369 entries, 0 to 354368\n",
      "Data columns (total 16 columns):\n",
      " #   Column             Non-Null Count   Dtype \n",
      "---  ------             --------------   ----- \n",
      " 0   DateCrawled        354369 non-null  object\n",
      " 1   Price              354369 non-null  int64 \n",
      " 2   VehicleType        316879 non-null  object\n",
      " 3   RegistrationYear   354369 non-null  int64 \n",
      " 4   Gearbox            334536 non-null  object\n",
      " 5   Power              354369 non-null  int64 \n",
      " 6   Model              334664 non-null  object\n",
      " 7   Kilometer          354369 non-null  int64 \n",
      " 8   RegistrationMonth  354369 non-null  int64 \n",
      " 9   FuelType           321474 non-null  object\n",
      " 10  Brand              354369 non-null  object\n",
      " 11  Repaired           283215 non-null  object\n",
      " 12  DateCreated        354369 non-null  object\n",
      " 13  NumberOfPictures   354369 non-null  int64 \n",
      " 14  PostalCode         354369 non-null  int64 \n",
      " 15  LastSeen           354369 non-null  object\n",
      "dtypes: int64(7), object(9)\n",
      "memory usage: 43.3+ MB\n"
     ]
    }
   ],
   "source": [
    "data.info()"
   ]
  },
  {
   "cell_type": "code",
   "execution_count": 5,
   "id": "f0bc1746",
   "metadata": {
    "ExecuteTime": {
     "end_time": "2022-12-02T20:24:38.806817Z",
     "start_time": "2022-12-02T20:24:38.777835Z"
    },
    "scrolled": true
   },
   "outputs": [
    {
     "data": {
      "text/html": [
       "<div>\n",
       "<style scoped>\n",
       "    .dataframe tbody tr th:only-of-type {\n",
       "        vertical-align: middle;\n",
       "    }\n",
       "\n",
       "    .dataframe tbody tr th {\n",
       "        vertical-align: top;\n",
       "    }\n",
       "\n",
       "    .dataframe thead th {\n",
       "        text-align: right;\n",
       "    }\n",
       "</style>\n",
       "<table border=\"1\" class=\"dataframe\">\n",
       "  <thead>\n",
       "    <tr style=\"text-align: right;\">\n",
       "      <th></th>\n",
       "      <th>DateCrawled</th>\n",
       "      <th>Price</th>\n",
       "      <th>VehicleType</th>\n",
       "      <th>RegistrationYear</th>\n",
       "      <th>Gearbox</th>\n",
       "      <th>Power</th>\n",
       "      <th>Model</th>\n",
       "      <th>Kilometer</th>\n",
       "      <th>RegistrationMonth</th>\n",
       "      <th>FuelType</th>\n",
       "      <th>Brand</th>\n",
       "      <th>Repaired</th>\n",
       "      <th>DateCreated</th>\n",
       "      <th>NumberOfPictures</th>\n",
       "      <th>PostalCode</th>\n",
       "      <th>LastSeen</th>\n",
       "    </tr>\n",
       "  </thead>\n",
       "  <tbody>\n",
       "    <tr>\n",
       "      <th>0</th>\n",
       "      <td>2016-03-24 11:52:17</td>\n",
       "      <td>480</td>\n",
       "      <td>NaN</td>\n",
       "      <td>1993</td>\n",
       "      <td>manual</td>\n",
       "      <td>0</td>\n",
       "      <td>golf</td>\n",
       "      <td>150000</td>\n",
       "      <td>0</td>\n",
       "      <td>petrol</td>\n",
       "      <td>volkswagen</td>\n",
       "      <td>NaN</td>\n",
       "      <td>2016-03-24 00:00:00</td>\n",
       "      <td>0</td>\n",
       "      <td>70435</td>\n",
       "      <td>2016-04-07 03:16:57</td>\n",
       "    </tr>\n",
       "    <tr>\n",
       "      <th>1</th>\n",
       "      <td>2016-03-24 10:58:45</td>\n",
       "      <td>18300</td>\n",
       "      <td>coupe</td>\n",
       "      <td>2011</td>\n",
       "      <td>manual</td>\n",
       "      <td>190</td>\n",
       "      <td>NaN</td>\n",
       "      <td>125000</td>\n",
       "      <td>5</td>\n",
       "      <td>gasoline</td>\n",
       "      <td>audi</td>\n",
       "      <td>yes</td>\n",
       "      <td>2016-03-24 00:00:00</td>\n",
       "      <td>0</td>\n",
       "      <td>66954</td>\n",
       "      <td>2016-04-07 01:46:50</td>\n",
       "    </tr>\n",
       "    <tr>\n",
       "      <th>2</th>\n",
       "      <td>2016-03-14 12:52:21</td>\n",
       "      <td>9800</td>\n",
       "      <td>suv</td>\n",
       "      <td>2004</td>\n",
       "      <td>auto</td>\n",
       "      <td>163</td>\n",
       "      <td>grand</td>\n",
       "      <td>125000</td>\n",
       "      <td>8</td>\n",
       "      <td>gasoline</td>\n",
       "      <td>jeep</td>\n",
       "      <td>NaN</td>\n",
       "      <td>2016-03-14 00:00:00</td>\n",
       "      <td>0</td>\n",
       "      <td>90480</td>\n",
       "      <td>2016-04-05 12:47:46</td>\n",
       "    </tr>\n",
       "    <tr>\n",
       "      <th>3</th>\n",
       "      <td>2016-03-17 16:54:04</td>\n",
       "      <td>1500</td>\n",
       "      <td>small</td>\n",
       "      <td>2001</td>\n",
       "      <td>manual</td>\n",
       "      <td>75</td>\n",
       "      <td>golf</td>\n",
       "      <td>150000</td>\n",
       "      <td>6</td>\n",
       "      <td>petrol</td>\n",
       "      <td>volkswagen</td>\n",
       "      <td>no</td>\n",
       "      <td>2016-03-17 00:00:00</td>\n",
       "      <td>0</td>\n",
       "      <td>91074</td>\n",
       "      <td>2016-03-17 17:40:17</td>\n",
       "    </tr>\n",
       "    <tr>\n",
       "      <th>4</th>\n",
       "      <td>2016-03-31 17:25:20</td>\n",
       "      <td>3600</td>\n",
       "      <td>small</td>\n",
       "      <td>2008</td>\n",
       "      <td>manual</td>\n",
       "      <td>69</td>\n",
       "      <td>fabia</td>\n",
       "      <td>90000</td>\n",
       "      <td>7</td>\n",
       "      <td>gasoline</td>\n",
       "      <td>skoda</td>\n",
       "      <td>no</td>\n",
       "      <td>2016-03-31 00:00:00</td>\n",
       "      <td>0</td>\n",
       "      <td>60437</td>\n",
       "      <td>2016-04-06 10:17:21</td>\n",
       "    </tr>\n",
       "  </tbody>\n",
       "</table>\n",
       "</div>"
      ],
      "text/plain": [
       "           DateCrawled  Price VehicleType  RegistrationYear Gearbox  Power  \\\n",
       "0  2016-03-24 11:52:17    480         NaN              1993  manual      0   \n",
       "1  2016-03-24 10:58:45  18300       coupe              2011  manual    190   \n",
       "2  2016-03-14 12:52:21   9800         suv              2004    auto    163   \n",
       "3  2016-03-17 16:54:04   1500       small              2001  manual     75   \n",
       "4  2016-03-31 17:25:20   3600       small              2008  manual     69   \n",
       "\n",
       "   Model  Kilometer  RegistrationMonth  FuelType       Brand Repaired  \\\n",
       "0   golf     150000                  0    petrol  volkswagen      NaN   \n",
       "1    NaN     125000                  5  gasoline        audi      yes   \n",
       "2  grand     125000                  8  gasoline        jeep      NaN   \n",
       "3   golf     150000                  6    petrol  volkswagen       no   \n",
       "4  fabia      90000                  7  gasoline       skoda       no   \n",
       "\n",
       "           DateCreated  NumberOfPictures  PostalCode             LastSeen  \n",
       "0  2016-03-24 00:00:00                 0       70435  2016-04-07 03:16:57  \n",
       "1  2016-03-24 00:00:00                 0       66954  2016-04-07 01:46:50  \n",
       "2  2016-03-14 00:00:00                 0       90480  2016-04-05 12:47:46  \n",
       "3  2016-03-17 00:00:00                 0       91074  2016-03-17 17:40:17  \n",
       "4  2016-03-31 00:00:00                 0       60437  2016-04-06 10:17:21  "
      ]
     },
     "metadata": {},
     "output_type": "display_data"
    }
   ],
   "source": [
    "# открываем первые 5 строк датафрейма\n",
    "display(data.head(5))"
   ]
  },
  {
   "cell_type": "code",
   "execution_count": 6,
   "id": "31b75c93",
   "metadata": {
    "ExecuteTime": {
     "end_time": "2022-12-02T20:24:39.410311Z",
     "start_time": "2022-12-02T20:24:38.810816Z"
    }
   },
   "outputs": [
    {
     "data": {
      "text/plain": [
       "DateCrawled              0\n",
       "Price                    0\n",
       "VehicleType          37490\n",
       "RegistrationYear         0\n",
       "Gearbox              19833\n",
       "Power                    0\n",
       "Model                19705\n",
       "Kilometer                0\n",
       "RegistrationMonth        0\n",
       "FuelType             32895\n",
       "Brand                    0\n",
       "Repaired             71154\n",
       "DateCreated              0\n",
       "NumberOfPictures         0\n",
       "PostalCode               0\n",
       "LastSeen                 0\n",
       "dtype: int64"
      ]
     },
     "execution_count": 6,
     "metadata": {},
     "output_type": "execute_result"
    }
   ],
   "source": [
    "# Проверка на наличие пропусков в данных\n",
    "data.isnull().sum()"
   ]
  },
  {
   "cell_type": "code",
   "execution_count": 7,
   "id": "f025fc12",
   "metadata": {
    "ExecuteTime": {
     "end_time": "2022-12-02T20:24:39.520200Z",
     "start_time": "2022-12-02T20:24:39.413262Z"
    }
   },
   "outputs": [
    {
     "data": {
      "text/html": [
       "<div>\n",
       "<style scoped>\n",
       "    .dataframe tbody tr th:only-of-type {\n",
       "        vertical-align: middle;\n",
       "    }\n",
       "\n",
       "    .dataframe tbody tr th {\n",
       "        vertical-align: top;\n",
       "    }\n",
       "\n",
       "    .dataframe thead th {\n",
       "        text-align: right;\n",
       "    }\n",
       "</style>\n",
       "<table border=\"1\" class=\"dataframe\">\n",
       "  <thead>\n",
       "    <tr style=\"text-align: right;\">\n",
       "      <th></th>\n",
       "      <th>Price</th>\n",
       "      <th>RegistrationYear</th>\n",
       "      <th>Power</th>\n",
       "      <th>Kilometer</th>\n",
       "      <th>RegistrationMonth</th>\n",
       "      <th>NumberOfPictures</th>\n",
       "      <th>PostalCode</th>\n",
       "    </tr>\n",
       "  </thead>\n",
       "  <tbody>\n",
       "    <tr>\n",
       "      <th>count</th>\n",
       "      <td>354369.000000</td>\n",
       "      <td>354369.000000</td>\n",
       "      <td>354369.000000</td>\n",
       "      <td>354369.000000</td>\n",
       "      <td>354369.000000</td>\n",
       "      <td>354369.0</td>\n",
       "      <td>354369.000000</td>\n",
       "    </tr>\n",
       "    <tr>\n",
       "      <th>mean</th>\n",
       "      <td>4416.656776</td>\n",
       "      <td>2004.234448</td>\n",
       "      <td>110.094337</td>\n",
       "      <td>128211.172535</td>\n",
       "      <td>5.714645</td>\n",
       "      <td>0.0</td>\n",
       "      <td>50508.689087</td>\n",
       "    </tr>\n",
       "    <tr>\n",
       "      <th>std</th>\n",
       "      <td>4514.158514</td>\n",
       "      <td>90.227958</td>\n",
       "      <td>189.850405</td>\n",
       "      <td>37905.341530</td>\n",
       "      <td>3.726421</td>\n",
       "      <td>0.0</td>\n",
       "      <td>25783.096248</td>\n",
       "    </tr>\n",
       "    <tr>\n",
       "      <th>min</th>\n",
       "      <td>0.000000</td>\n",
       "      <td>1000.000000</td>\n",
       "      <td>0.000000</td>\n",
       "      <td>5000.000000</td>\n",
       "      <td>0.000000</td>\n",
       "      <td>0.0</td>\n",
       "      <td>1067.000000</td>\n",
       "    </tr>\n",
       "    <tr>\n",
       "      <th>25%</th>\n",
       "      <td>1050.000000</td>\n",
       "      <td>1999.000000</td>\n",
       "      <td>69.000000</td>\n",
       "      <td>125000.000000</td>\n",
       "      <td>3.000000</td>\n",
       "      <td>0.0</td>\n",
       "      <td>30165.000000</td>\n",
       "    </tr>\n",
       "    <tr>\n",
       "      <th>50%</th>\n",
       "      <td>2700.000000</td>\n",
       "      <td>2003.000000</td>\n",
       "      <td>105.000000</td>\n",
       "      <td>150000.000000</td>\n",
       "      <td>6.000000</td>\n",
       "      <td>0.0</td>\n",
       "      <td>49413.000000</td>\n",
       "    </tr>\n",
       "    <tr>\n",
       "      <th>75%</th>\n",
       "      <td>6400.000000</td>\n",
       "      <td>2008.000000</td>\n",
       "      <td>143.000000</td>\n",
       "      <td>150000.000000</td>\n",
       "      <td>9.000000</td>\n",
       "      <td>0.0</td>\n",
       "      <td>71083.000000</td>\n",
       "    </tr>\n",
       "    <tr>\n",
       "      <th>max</th>\n",
       "      <td>20000.000000</td>\n",
       "      <td>9999.000000</td>\n",
       "      <td>20000.000000</td>\n",
       "      <td>150000.000000</td>\n",
       "      <td>12.000000</td>\n",
       "      <td>0.0</td>\n",
       "      <td>99998.000000</td>\n",
       "    </tr>\n",
       "  </tbody>\n",
       "</table>\n",
       "</div>"
      ],
      "text/plain": [
       "               Price  RegistrationYear          Power      Kilometer  \\\n",
       "count  354369.000000     354369.000000  354369.000000  354369.000000   \n",
       "mean     4416.656776       2004.234448     110.094337  128211.172535   \n",
       "std      4514.158514         90.227958     189.850405   37905.341530   \n",
       "min         0.000000       1000.000000       0.000000    5000.000000   \n",
       "25%      1050.000000       1999.000000      69.000000  125000.000000   \n",
       "50%      2700.000000       2003.000000     105.000000  150000.000000   \n",
       "75%      6400.000000       2008.000000     143.000000  150000.000000   \n",
       "max     20000.000000       9999.000000   20000.000000  150000.000000   \n",
       "\n",
       "       RegistrationMonth  NumberOfPictures     PostalCode  \n",
       "count      354369.000000          354369.0  354369.000000  \n",
       "mean            5.714645               0.0   50508.689087  \n",
       "std             3.726421               0.0   25783.096248  \n",
       "min             0.000000               0.0    1067.000000  \n",
       "25%             3.000000               0.0   30165.000000  \n",
       "50%             6.000000               0.0   49413.000000  \n",
       "75%             9.000000               0.0   71083.000000  \n",
       "max            12.000000               0.0   99998.000000  "
      ]
     },
     "execution_count": 7,
     "metadata": {},
     "output_type": "execute_result"
    }
   ],
   "source": [
    "data.describe()"
   ]
  },
  {
   "cell_type": "markdown",
   "id": "57216c6a",
   "metadata": {},
   "source": [
    "На мой взгляд для начала необходимо выполнить следующее:\n",
    "\n",
    "1) переименовать столбцы (для обучения моделей это не важно, но вроде как порядочно все переименовывать-вдруг какие-то зависимости искать нужно будет или еще что)\n",
    "\n",
    "2) изменить тип данных-пока что бросилась в глаза дата (возможно я потом вообще удалю этот столбец, но не зря ж про это писали ранее и не зря я хоть что-то с этого курса запомнила)\n",
    "\n",
    "3) ну и конечно же нужно что-то придумать с пропусками.\n",
    "\n",
    "4) в задании еще не двояко намекают на наличие аномалий, значит нужно будет их поискать- из ярковыраженных это 1000 год (2лошадинные силы) нулевая мощность и нулевой месяц регистрации.\n",
    "\n",
    "Для упрощения задачи я буду каждый потенциальный признак (столбец) исследоваь отдельно. И начну с простого (так как еще толком не поняла, что делать с другими аномалиями)."
   ]
  },
  {
   "cell_type": "markdown",
   "id": "6d9c8d0b",
   "metadata": {},
   "source": [
    "### Переименуем столбцы"
   ]
  },
  {
   "cell_type": "code",
   "execution_count": 8,
   "id": "a5c3f041",
   "metadata": {
    "ExecuteTime": {
     "end_time": "2022-12-02T20:24:39.584163Z",
     "start_time": "2022-12-02T20:24:39.523200Z"
    }
   },
   "outputs": [],
   "source": [
    "data = data.rename(columns={\n",
    "    \"DateCrawled\": \"date_crawled\",\n",
    "                            \"Price\": \"price\",\n",
    "                            \"VehicleType\": \"vehicle_type\",\n",
    "                            \"RegistrationYear\": \"registration_year\",\n",
    "                           \"Gearbox\": \"gearbox\",\n",
    "                            \"Power\": \"power\",\n",
    "                           \"Model\": \"model\",\n",
    "                           \"Kilometer\": \"kilometer\",\n",
    "                           \"RegistrationMonth\": \"registration_month\",\n",
    "                           \"FuelType\": \"fuel_type\",\n",
    "                           \"Brand\": \"brand\",\n",
    "                           \"Repaired\": \"repaired\",\n",
    "                           \"DateCreated\": \"date_created\",\n",
    "                           \"NumberOfPictures\": \"number_of_pictures\",\n",
    "                           \"PostalCode\": \"postal_code\",\n",
    "                           \"LastSeen\": \"last_seen\"\n",
    "    }\n",
    ")"
   ]
  },
  {
   "cell_type": "code",
   "execution_count": 9,
   "id": "d28be32f",
   "metadata": {
    "ExecuteTime": {
     "end_time": "2022-12-02T20:24:40.221797Z",
     "start_time": "2022-12-02T20:24:39.588161Z"
    }
   },
   "outputs": [
    {
     "name": "stdout",
     "output_type": "stream",
     "text": [
      "<class 'pandas.core.frame.DataFrame'>\n",
      "RangeIndex: 354369 entries, 0 to 354368\n",
      "Data columns (total 16 columns):\n",
      " #   Column              Non-Null Count   Dtype \n",
      "---  ------              --------------   ----- \n",
      " 0   date_crawled        354369 non-null  object\n",
      " 1   price               354369 non-null  int64 \n",
      " 2   vehicle_type        316879 non-null  object\n",
      " 3   registration_year   354369 non-null  int64 \n",
      " 4   gearbox             334536 non-null  object\n",
      " 5   power               354369 non-null  int64 \n",
      " 6   model               334664 non-null  object\n",
      " 7   kilometer           354369 non-null  int64 \n",
      " 8   registration_month  354369 non-null  int64 \n",
      " 9   fuel_type           321474 non-null  object\n",
      " 10  brand               354369 non-null  object\n",
      " 11  repaired            283215 non-null  object\n",
      " 12  date_created        354369 non-null  object\n",
      " 13  number_of_pictures  354369 non-null  int64 \n",
      " 14  postal_code         354369 non-null  int64 \n",
      " 15  last_seen           354369 non-null  object\n",
      "dtypes: int64(7), object(9)\n",
      "memory usage: 43.3+ MB\n"
     ]
    }
   ],
   "source": [
    "data.info()"
   ]
  },
  {
   "cell_type": "markdown",
   "id": "85cfa422",
   "metadata": {},
   "source": [
    "### Изменение типа данных на Datetime"
   ]
  },
  {
   "cell_type": "code",
   "execution_count": 10,
   "id": "d84da575",
   "metadata": {
    "ExecuteTime": {
     "end_time": "2022-12-02T20:24:40.965431Z",
     "start_time": "2022-12-02T20:24:40.224796Z"
    }
   },
   "outputs": [],
   "source": [
    "#изменим тип даты скачивания анкеты\n",
    "data['date_crawled'] = pd.to_datetime(data['date_crawled'], format='%Y-%m-%d %H:%M:%S')\n",
    "\n",
    "#изменим тип даты создания анкеты\n",
    "data['date_created'] = pd.to_datetime(data['date_created'], format='%Y-%m-%d %H:%M:%S')\n",
    "\n",
    "#изменим тип даты последней активности пользователя\n",
    "data['last_seen'] = pd.to_datetime(data['last_seen'], format='%Y-%m-%d %H:%M:%S')"
   ]
  },
  {
   "cell_type": "markdown",
   "id": "92208be6",
   "metadata": {},
   "source": [
    "### Обработка столбца с ценой"
   ]
  },
  {
   "cell_type": "code",
   "execution_count": 11,
   "id": "cd782f40",
   "metadata": {
    "ExecuteTime": {
     "end_time": "2022-12-02T20:24:41.028616Z",
     "start_time": "2022-12-02T20:24:40.965431Z"
    }
   },
   "outputs": [
    {
     "data": {
      "text/plain": [
       "array([    0,     1,     2, ..., 19998, 19999, 20000], dtype=int64)"
      ]
     },
     "execution_count": 11,
     "metadata": {},
     "output_type": "execute_result"
    }
   ],
   "source": [
    "data['price'].sort_values().unique() #проверим значения"
   ]
  },
  {
   "cell_type": "code",
   "execution_count": 12,
   "id": "ada4d82f",
   "metadata": {
    "ExecuteTime": {
     "end_time": "2022-12-02T20:24:41.552523Z",
     "start_time": "2022-12-02T20:24:41.031615Z"
    }
   },
   "outputs": [
    {
     "data": {
      "text/plain": [
       "Text(0, 0.5, 'Количество машин')"
      ]
     },
     "execution_count": 12,
     "metadata": {},
     "output_type": "execute_result"
    },
    {
     "data": {
      "image/png": "[encoded data removed]",
      "text/plain": [
       "<Figure size 600x500 with 1 Axes>"
      ]
     },
     "metadata": {},
     "output_type": "display_data"
    }
   ],
   "source": [
    "# посмотрим на ассортимент цен\n",
    "data.plot(y='price', kind='hist', bins=50, figsize=(6,5), grid=True)\n",
    "plt.title('Гистограмма цен автомобилей')\n",
    "plt.xlabel('Цена,  €')\n",
    "plt.ylabel('Количество машин')"
   ]
  },
  {
   "cell_type": "markdown",
   "id": "b19f6af4",
   "metadata": {},
   "source": [
    "Интрига - почему есть машины с нулевой стоймостью? может, на запчасти? "
   ]
  },
  {
   "cell_type": "code",
   "execution_count": 13,
   "id": "b103b022",
   "metadata": {
    "ExecuteTime": {
     "end_time": "2022-12-02T20:24:42.187257Z",
     "start_time": "2022-12-02T20:24:41.555521Z"
    }
   },
   "outputs": [
    {
     "data": {
      "image/png": "[encoded data removed]",
      "text/plain": [
       "<Figure size 800x1200 with 1 Axes>"
      ]
     },
     "metadata": {},
     "output_type": "display_data"
    }
   ],
   "source": [
    "data.boxplot(['price'], figsize=(8,12))\n",
    "plt.title('Диаграмма размаха значений стоимости автомобилей')\n",
    "\n",
    "plt.ylabel('Цена, €')\n",
    "plt.show()"
   ]
  },
  {
   "cell_type": "markdown",
   "id": "95d89212",
   "metadata": {},
   "source": [
    "К сожалению с авторынком не знакома и не сталкивалась. Но нули явно нужно удалять, также есть аномально низкие цены. Я предположила, судя по валюте, что это Европа и, поискав в интернете, прикинула, что машина минимум стоит 50 €, поэтому все значения ниже решено удалить."
   ]
  },
  {
   "cell_type": "code",
   "execution_count": 14,
   "id": "2f08e2ad",
   "metadata": {
    "ExecuteTime": {
     "end_time": "2022-12-02T20:24:42.265792Z",
     "start_time": "2022-12-02T20:24:42.190835Z"
    },
    "scrolled": true
   },
   "outputs": [
    {
     "data": {
      "text/plain": [
       "0"
      ]
     },
     "execution_count": 14,
     "metadata": {},
     "output_type": "execute_result"
    }
   ],
   "source": [
    "data = data.query('price > 50')\n",
    "data['price'].isnull().sum()"
   ]
  },
  {
   "cell_type": "markdown",
   "id": "c10c53e1",
   "metadata": {},
   "source": [
    "От нулей и странных цен вроде как избавились. Переходим к следующему столбцу - тип кузова."
   ]
  },
  {
   "cell_type": "markdown",
   "id": "8c4232d9",
   "metadata": {},
   "source": [
    "### Обработка столбца с типом кузова."
   ]
  },
  {
   "cell_type": "code",
   "execution_count": 15,
   "id": "057addda",
   "metadata": {
    "ExecuteTime": {
     "end_time": "2022-12-02T20:24:42.695543Z",
     "start_time": "2022-12-02T20:24:42.268790Z"
    }
   },
   "outputs": [
    {
     "data": {
      "text/plain": [
       "array(['bus', 'convertible', 'coupe', 'other', 'sedan', 'small', 'suv',\n",
       "       'wagon', nan], dtype=object)"
      ]
     },
     "execution_count": 15,
     "metadata": {},
     "output_type": "execute_result"
    }
   ],
   "source": [
    "data['vehicle_type'].sort_values().unique()"
   ]
  },
  {
   "cell_type": "markdown",
   "id": "d818e5f1",
   "metadata": {},
   "source": [
    "Все типы кузовов представлены на рынке (ошибочных нет), также есть пропуски. \n",
    "\n",
    "По информации из слака, я узнала, что, как правило моделям кормят тип данных 'object', поэтому пропуски оставлять нельзя, но тут их больше 10% данных и удалять вроде как нельзя. Тогда просто переведем пропуски в 'object'. Если что-то пойдет не так, то придется удалить."
   ]
  },
  {
   "cell_type": "code",
   "execution_count": 16,
   "id": "461e0564",
   "metadata": {
    "ExecuteTime": {
     "end_time": "2022-12-02T20:24:43.670759Z",
     "start_time": "2022-12-02T20:24:42.698542Z"
    }
   },
   "outputs": [],
   "source": [
    "data['vehicle_type'] = data['vehicle_type'].fillna('n/a')"
   ]
  },
  {
   "cell_type": "code",
   "execution_count": 17,
   "id": "d177c944",
   "metadata": {
    "ExecuteTime": {
     "end_time": "2022-12-02T20:24:43.703534Z",
     "start_time": "2022-12-02T20:24:43.670759Z"
    }
   },
   "outputs": [
    {
     "data": {
      "text/plain": [
       "0"
      ]
     },
     "execution_count": 17,
     "metadata": {},
     "output_type": "execute_result"
    }
   ],
   "source": [
    "data['vehicle_type'].isnull().sum()"
   ]
  },
  {
   "cell_type": "markdown",
   "id": "03b97730",
   "metadata": {},
   "source": [
    "Я не придумала, что тут еще можно исследовать, поэтому перехожу к следующему столбцу."
   ]
  },
  {
   "cell_type": "markdown",
   "id": "66f48f75",
   "metadata": {},
   "source": [
    "### Обработка столбца с годом выпуска автомобиля."
   ]
  },
  {
   "cell_type": "code",
   "execution_count": 18,
   "id": "cd74cd63",
   "metadata": {
    "ExecuteTime": {
     "end_time": "2022-12-02T20:24:43.767600Z",
     "start_time": "2022-12-02T20:24:43.707635Z"
    }
   },
   "outputs": [
    {
     "data": {
      "text/plain": [
       "array([1000, 1001, 1039, 1111, 1234, 1255, 1300, 1400, 1500, 1600, 1602,\n",
       "       1800, 1910, 1923, 1925, 1927, 1928, 1929, 1930, 1931, 1932, 1933,\n",
       "       1934, 1935, 1936, 1937, 1938, 1940, 1941, 1942, 1943, 1944, 1945,\n",
       "       1946, 1947, 1948, 1949, 1950, 1951, 1952, 1953, 1954, 1955, 1956,\n",
       "       1957, 1958, 1959, 1960, 1961, 1962, 1963, 1964, 1965, 1966, 1967,\n",
       "       1968, 1969, 1970, 1971, 1972, 1973, 1974, 1975, 1976, 1977, 1978,\n",
       "       1979, 1980, 1981, 1982, 1983, 1984, 1985, 1986, 1987, 1988, 1989,\n",
       "       1990, 1991, 1992, 1993, 1994, 1995, 1996, 1997, 1998, 1999, 2000,\n",
       "       2001, 2002, 2003, 2004, 2005, 2006, 2007, 2008, 2009, 2010, 2011,\n",
       "       2012, 2013, 2014, 2015, 2016, 2017, 2018, 2019, 2066, 2200, 2222,\n",
       "       2290, 2500, 2800, 2900, 3000, 3200, 3700, 3800, 4000, 4100, 4500,\n",
       "       4800, 5000, 5300, 5555, 5600, 5900, 5911, 6000, 7000, 7100, 7800,\n",
       "       8000, 8200, 8500, 8888, 9000, 9450, 9999], dtype=int64)"
      ]
     },
     "execution_count": 18,
     "metadata": {},
     "output_type": "execute_result"
    }
   ],
   "source": [
    "data['registration_year'].sort_values().unique()"
   ]
  },
  {
   "cell_type": "markdown",
   "id": "37aa036d",
   "metadata": {},
   "source": [
    "Мда. Ассортимент годов регистрации авто просто покоряет. Просветившись в интернетe, я узнала, Что Бенц выпустил свой первый автомобиль в 1885 году.\n",
    "\n",
    "Это, я считаю, отдельная категория ретро-автомобилей и они вроде бы как на другом рынке продаются. Хотя тут могут быть любые данные и уточнить тип рынка мне не у кого, поэтому я принимаю решение удалить все года после 2019 и до 1910."
   ]
  },
  {
   "cell_type": "code",
   "execution_count": 19,
   "id": "9bfadc9c",
   "metadata": {
    "ExecuteTime": {
     "end_time": "2022-12-02T20:24:43.783598Z",
     "start_time": "2022-12-02T20:24:43.769600Z"
    }
   },
   "outputs": [],
   "source": [
    "#data = data.query('registration_year >= 1910 & registration_year < 2019')\n",
    "#data['registration_year'].sort_values().unique()"
   ]
  },
  {
   "cell_type": "code",
   "execution_count": 20,
   "id": "d1f5b8f9",
   "metadata": {
    "ExecuteTime": {
     "end_time": "2022-12-02T20:24:43.895526Z",
     "start_time": "2022-12-02T20:24:43.789591Z"
    }
   },
   "outputs": [
    {
     "data": {
      "text/plain": [
       "array(['2016-03-05T14:06:22.000000000', '2016-03-05T14:06:23.000000000',\n",
       "       '2016-03-05T14:06:24.000000000', ...,\n",
       "       '2016-04-07T14:36:55.000000000', '2016-04-07T14:36:56.000000000',\n",
       "       '2016-04-07T14:36:58.000000000'], dtype='datetime64[ns]')"
      ]
     },
     "execution_count": 20,
     "metadata": {},
     "output_type": "execute_result"
    }
   ],
   "source": [
    "data['date_crawled'].sort_values().unique()"
   ]
  },
  {
   "cell_type": "markdown",
   "id": "d63c2523",
   "metadata": {},
   "source": [
    "По дате выгрузки последним является 2016 года, значит сокращаю диапазон и добавлю знак равенства."
   ]
  },
  {
   "cell_type": "code",
   "execution_count": 21,
   "id": "c2c207c2",
   "metadata": {
    "ExecuteTime": {
     "end_time": "2022-12-02T20:24:44.039443Z",
     "start_time": "2022-12-02T20:24:43.898525Z"
    }
   },
   "outputs": [
    {
     "data": {
      "text/plain": [
       "array([1910, 1923, 1925, 1927, 1928, 1929, 1930, 1931, 1932, 1933, 1934,\n",
       "       1935, 1936, 1937, 1938, 1940, 1941, 1942, 1943, 1944, 1945, 1946,\n",
       "       1947, 1948, 1949, 1950, 1951, 1952, 1953, 1954, 1955, 1956, 1957,\n",
       "       1958, 1959, 1960, 1961, 1962, 1963, 1964, 1965, 1966, 1967, 1968,\n",
       "       1969, 1970, 1971, 1972, 1973, 1974, 1975, 1976, 1977, 1978, 1979,\n",
       "       1980, 1981, 1982, 1983, 1984, 1985, 1986, 1987, 1988, 1989, 1990,\n",
       "       1991, 1992, 1993, 1994, 1995, 1996, 1997, 1998, 1999, 2000, 2001,\n",
       "       2002, 2003, 2004, 2005, 2006, 2007, 2008, 2009, 2010, 2011, 2012,\n",
       "       2013, 2014, 2015, 2016], dtype=int64)"
      ]
     },
     "execution_count": 21,
     "metadata": {},
     "output_type": "execute_result"
    }
   ],
   "source": [
    "data = data.query('registration_year >= 1910 & registration_year <= 2016')\n",
    "data['registration_year'].sort_values().unique()"
   ]
  },
  {
   "cell_type": "code",
   "execution_count": 22,
   "id": "b7f49c76",
   "metadata": {
    "ExecuteTime": {
     "end_time": "2022-12-02T20:24:44.551163Z",
     "start_time": "2022-12-02T20:24:44.042442Z"
    }
   },
   "outputs": [
    {
     "data": {
      "text/plain": [
       "<AxesSubplot:ylabel='Frequency'>"
      ]
     },
     "execution_count": 22,
     "metadata": {},
     "output_type": "execute_result"
    },
    {
     "data": {
      "image/png": "[encoded data removed]",
      "text/plain": [
       "<Figure size 1200x600 with 1 Axes>"
      ]
     },
     "metadata": {},
     "output_type": "display_data"
    }
   ],
   "source": [
    "data['registration_year'].sort_values(ascending=False).plot(\n",
    "    kind='hist',\n",
    "    figsize=(12,6),\n",
    "    grid=True,\n",
    "    bins=111\n",
    ")"
   ]
  },
  {
   "cell_type": "code",
   "execution_count": 23,
   "id": "71eba371",
   "metadata": {
    "ExecuteTime": {
     "end_time": "2022-12-02T20:24:44.567161Z",
     "start_time": "2022-12-02T20:24:44.554147Z"
    }
   },
   "outputs": [
    {
     "data": {
      "text/plain": [
       "213"
      ]
     },
     "execution_count": 23,
     "metadata": {},
     "output_type": "execute_result"
    }
   ],
   "source": [
    "data.loc[data['registration_year'] < 1958]['registration_year'].count()"
   ]
  },
  {
   "cell_type": "markdown",
   "id": "035f2bae",
   "metadata": {},
   "source": [
    "На гистограмме я увидела, что в основном продаются машины начиная с 1960 года регистрации. Я посмотрела сколько машин в срезе до 1958 года и там их всего 213 и я решила и их тоже удалить, так как их довольно мало и они будут выбиваться из рынка. \n",
    "\n",
    "Даже если там какая-то ретромашина, то я считаю, что для них нужно проводить отдельное исследование, так как они совсем другой категории. "
   ]
  },
  {
   "cell_type": "code",
   "execution_count": 24,
   "id": "60d74a4c",
   "metadata": {
    "ExecuteTime": {
     "end_time": "2022-12-02T20:24:44.677077Z",
     "start_time": "2022-12-02T20:24:44.570138Z"
    }
   },
   "outputs": [
    {
     "data": {
      "text/plain": [
       "array([1958, 1959, 1960, 1961, 1962, 1963, 1964, 1965, 1966, 1967, 1968,\n",
       "       1969, 1970, 1971, 1972, 1973, 1974, 1975, 1976, 1977, 1978, 1979,\n",
       "       1980, 1981, 1982, 1983, 1984, 1985, 1986, 1987, 1988, 1989, 1990,\n",
       "       1991, 1992, 1993, 1994, 1995, 1996, 1997, 1998, 1999, 2000, 2001,\n",
       "       2002, 2003, 2004, 2005, 2006, 2007, 2008, 2009, 2010, 2011, 2012,\n",
       "       2013, 2014, 2015, 2016], dtype=int64)"
      ]
     },
     "execution_count": 24,
     "metadata": {},
     "output_type": "execute_result"
    }
   ],
   "source": [
    "data = data.query('registration_year >= 1958' )\n",
    "data['registration_year'].sort_values().unique()"
   ]
  },
  {
   "cell_type": "code",
   "execution_count": 25,
   "id": "47677ddd",
   "metadata": {
    "ExecuteTime": {
     "end_time": "2022-12-02T20:24:45.060855Z",
     "start_time": "2022-12-02T20:24:44.679076Z"
    }
   },
   "outputs": [
    {
     "data": {
      "text/plain": [
       "date_crawled              0\n",
       "price                     0\n",
       "vehicle_type              0\n",
       "registration_year         0\n",
       "gearbox               14761\n",
       "power                     0\n",
       "model                 15164\n",
       "kilometer                 0\n",
       "registration_month        0\n",
       "fuel_type             23281\n",
       "brand                     0\n",
       "repaired              58663\n",
       "date_created              0\n",
       "number_of_pictures        0\n",
       "postal_code               0\n",
       "last_seen                 0\n",
       "dtype: int64"
      ]
     },
     "execution_count": 25,
     "metadata": {},
     "output_type": "execute_result"
    }
   ],
   "source": [
    "data.isnull().sum()"
   ]
  },
  {
   "cell_type": "markdown",
   "id": "5ef9e1b1",
   "metadata": {},
   "source": [
    "Вот и тут нет нулевых значений, а в других столбцах их стало меньше. Продолжаем."
   ]
  },
  {
   "cell_type": "markdown",
   "id": "dcb5bc6f",
   "metadata": {},
   "source": [
    "### Обработка столбца с типом коробки передач."
   ]
  },
  {
   "cell_type": "code",
   "execution_count": 26,
   "id": "edf08d22",
   "metadata": {
    "ExecuteTime": {
     "end_time": "2022-12-02T20:24:45.348689Z",
     "start_time": "2022-12-02T20:24:45.063854Z"
    }
   },
   "outputs": [
    {
     "data": {
      "text/plain": [
       "array(['auto', 'manual', nan], dtype=object)"
      ]
     },
     "execution_count": 26,
     "metadata": {},
     "output_type": "execute_result"
    }
   ],
   "source": [
    "data['gearbox'].sort_values().unique()"
   ]
  },
  {
   "cell_type": "markdown",
   "id": "e155beab",
   "metadata": {},
   "source": [
    "Тут вроде бы все ОК, не считая пропусков. Мы не можем играть в угадайку с типом коробки передач, поэтому тут без сомнений удаляем все пропуски. Здесь нет смысла переводить пропуски в тип данных  'object',как было ранее, так как дополнительный тип коробки нет смысла создавать."
   ]
  },
  {
   "cell_type": "code",
   "execution_count": 27,
   "id": "eff00ae2",
   "metadata": {
    "ExecuteTime": {
     "end_time": "2022-12-02T20:24:45.394663Z",
     "start_time": "2022-12-02T20:24:45.355687Z"
    }
   },
   "outputs": [],
   "source": [
    "data['gearbox'] = data['gearbox'].fillna('unbox')"
   ]
  },
  {
   "cell_type": "code",
   "execution_count": 28,
   "id": "7191bcdb",
   "metadata": {
    "ExecuteTime": {
     "end_time": "2022-12-02T20:24:45.410654Z",
     "start_time": "2022-12-02T20:24:45.396662Z"
    }
   },
   "outputs": [],
   "source": [
    "#data.dropna(subset=['gearbox'], inplace=True)\n",
    "#data.isnull().sum()"
   ]
  },
  {
   "cell_type": "markdown",
   "id": "9e7dbbe4",
   "metadata": {},
   "source": [
    "Отлично! Пропуски ~удалены~ заменены. Четыре параметра исследовали - продолжаем)."
   ]
  },
  {
   "cell_type": "markdown",
   "id": "48cd0824",
   "metadata": {},
   "source": [
    "### Обработка столбца с мощностью."
   ]
  },
  {
   "cell_type": "markdown",
   "id": "9cb6c851",
   "metadata": {},
   "source": [
    "В столбце с мощностью пропусков нет, поэтому тут проверка на аномальные значения"
   ]
  },
  {
   "cell_type": "code",
   "execution_count": 29,
   "id": "3ea001f4",
   "metadata": {
    "ExecuteTime": {
     "end_time": "2022-12-02T20:24:45.474618Z",
     "start_time": "2022-12-02T20:24:45.413653Z"
    }
   },
   "outputs": [
    {
     "data": {
      "text/plain": [
       "array([    0,     1,     2,     3,     4,     5,     6,     7,     8,\n",
       "           9,    10,    11,    12,    13,    14,    15,    16,    17,\n",
       "          18,    19,    20,    21,    22,    23,    24,    25,    26,\n",
       "          27,    28,    29,    30,    31,    32,    33,    34,    35,\n",
       "          36,    37,    38,    39,    40,    41,    42,    43,    44,\n",
       "          45,    46,    47,    48,    49,    50,    51,    52,    53,\n",
       "          54,    55,    56,    57,    58,    59,    60,    61,    62,\n",
       "          63,    64,    65,    66,    67,    68,    69,    70,    71,\n",
       "          72,    73,    74,    75,    76,    77,    78,    79,    80,\n",
       "          81,    82,    83,    84,    85,    86,    87,    88,    89,\n",
       "          90,    91,    92,    93,    94,    95,    96,    97,    98,\n",
       "          99,   100,   101,   102,   103,   104,   105,   106,   107,\n",
       "         108,   109,   110,   111,   112,   113,   114,   115,   116,\n",
       "         117,   118,   119,   120,   121,   122,   123,   124,   125,\n",
       "         126,   127,   128,   129,   130,   131,   132,   133,   134,\n",
       "         135,   136,   137,   138,   139,   140,   141,   142,   143,\n",
       "         144,   145,   146,   147,   148,   149,   150,   151,   152,\n",
       "         153,   154,   155,   156,   157,   158,   159,   160,   161,\n",
       "         162,   163,   164,   165,   166,   167,   168,   169,   170,\n",
       "         171,   172,   173,   174,   175,   176,   177,   178,   179,\n",
       "         180,   181,   182,   183,   184,   185,   186,   187,   188,\n",
       "         189,   190,   191,   192,   193,   194,   195,   196,   197,\n",
       "         198,   199,   200,   201,   202,   203,   204,   205,   206,\n",
       "         207,   208,   209,   210,   211,   212,   213,   214,   215,\n",
       "         216,   217,   218,   219,   220,   221,   222,   223,   224,\n",
       "         225,   226,   227,   228,   229,   230,   231,   232,   233,\n",
       "         234,   235,   236,   237,   238,   239,   240,   241,   242,\n",
       "         243,   244,   245,   246,   247,   248,   249,   250,   251,\n",
       "         252,   253,   254,   255,   256,   257,   258,   259,   260,\n",
       "         261,   262,   264,   265,   266,   267,   268,   269,   270,\n",
       "         271,   272,   273,   274,   275,   276,   277,   278,   279,\n",
       "         280,   281,   282,   283,   284,   285,   286,   287,   288,\n",
       "         289,   290,   292,   293,   294,   295,   296,   297,   298,\n",
       "         299,   300,   301,   303,   304,   305,   306,   307,   308,\n",
       "         309,   310,   311,   313,   314,   315,   316,   317,   318,\n",
       "         320,   321,   322,   323,   324,   325,   326,   328,   329,\n",
       "         330,   331,   332,   333,   334,   335,   336,   337,   338,\n",
       "         339,   340,   341,   343,   344,   345,   346,   347,   348,\n",
       "         349,   350,   351,   352,   353,   354,   355,   356,   357,\n",
       "         358,   360,   361,   362,   363,   364,   365,   367,   368,\n",
       "         370,   371,   374,   375,   376,   377,   379,   380,   381,\n",
       "         382,   385,   386,   387,   388,   390,   392,   394,   396,\n",
       "         398,   399,   400,   401,   405,   408,   409,   411,   416,\n",
       "         420,   421,   425,   426,   428,   430,   431,   435,   440,\n",
       "         442,   445,   449,   450,   454,   457,   459,   460,   475,\n",
       "         476,   487,   489,   490,   500,   504,   505,   507,   508,\n",
       "         510,   514,   515,   517,   519,   520,   521,   525,   540,\n",
       "         541,   544,   550,   551,   553,   560,   572,   579,   580,\n",
       "         584,   585,   600,   601,   602,   603,   604,   606,   610,\n",
       "         612,   620,   640,   645,   650,   651,   671,   678,   682,\n",
       "         685,   696,   700,   702,   703,   732,   743,   750,   751,\n",
       "         754,   771,   776,   800,   805,   850,   851,   871,   900,\n",
       "         902,   903,   907,   909,   923,   950,   952,   953,   998,\n",
       "         999,  1000,  1001,  1002,  1003,  1004,  1005,  1011,  1012,\n",
       "        1016,  1017,  1021,  1024,  1054,  1055,  1056,  1062,  1079,\n",
       "        1082,  1090,  1100,  1103,  1105,  1115,  1120,  1149,  1151,\n",
       "        1158,  1160,  1162,  1164,  1199,  1200,  1202,  1221,  1223,\n",
       "        1230,  1239,  1240,  1241,  1250,  1256,  1275,  1288,  1299,\n",
       "        1300,  1312,  1317,  1324,  1339,  1360,  1362,  1363,  1367,\n",
       "        1390,  1398,  1399,  1400,  1401,  1403,  1405,  1416,  1432,\n",
       "        1433,  1436,  1500,  1501,  1502,  1503,  1506,  1521,  1548,\n",
       "        1595,  1596,  1597,  1598,  1600,  1625,  1631,  1653,  1659,\n",
       "        1689,  1700,  1701,  1703,  1704,  1707,  1753,  1771,  1779,\n",
       "        1780,  1781,  1783,  1793,  1796,  1799,  1800,  1801,  1870,\n",
       "        1895,  1896,  1900,  1920,  1922,  1933,  1937,  1968,  1988,\n",
       "        1992,  1993,  1995,  1998,  1999,  2000,  2004,  2005,  2007,\n",
       "        2009,  2016,  2017,  2018,  2172,  2331,  2340,  2389,  2402,\n",
       "        2461,  2598,  2729,  2789,  2792,  2799,  3199,  3454,  3500,\n",
       "        3750,  4400,  4507,  4700,  5411,  5420,  5575,  5809,  5815,\n",
       "        5867,  6006,  6010,  6011,  6012,  6018,  6045,  6062,  6226,\n",
       "        6512,  6920,  7508,  7511,  7512,  7515,  7518,  7529,  7544,\n",
       "        8259,  8404,  8500,  9007,  9012,  9013, 10000, 10110, 10218,\n",
       "       10311, 10520, 10522, 10710, 10910, 10912, 11011, 11025, 11111,\n",
       "       11509, 11530, 11635, 12012, 12510, 12512, 12684, 13616, 13636,\n",
       "       14009, 15001, 15017, 15020, 15033, 16051, 16311, 16312, 17011,\n",
       "       17019, 17410, 17700, 17932, 19208, 19211, 19312, 20000],\n",
       "      dtype=int64)"
      ]
     },
     "execution_count": 29,
     "metadata": {},
     "output_type": "execute_result"
    }
   ],
   "source": [
    "data['power'].sort_values().unique()"
   ]
  },
  {
   "cell_type": "markdown",
   "id": "5a5bec83",
   "metadata": {},
   "source": [
    "И снова аномалии, и снова я обратилась к великому и могучему поиску в интернете и нашла, что самая минимальная мощность когда-то была 0,75 л.с., но сейчас данные авто попадают под ретрокатегорию, поэтому я решила убрать значения меньше 50 лошадинных сил.\n",
    "\n",
    "также мною была прочитана статья \"топ 10 самых мощных машин\", в которой я узнала, что максимальная мощность авто моежт быть 1400 л.с., выше только у какой-нибудь спецтехники, но если вспомнить марки, тип кузова, то у нас простые машины, а не суперкары и не техника.\n",
    "\n",
    "Я решила ограничить мощнось 800 л.с., а значения от 800 до 8404 поделить на 10, а выше 8404 поделить на 100, предполагая, что автор объявления, просто ошибся в порядке или у него залипла кнопка."
   ]
  },
  {
   "cell_type": "code",
   "execution_count": 30,
   "id": "eb9e3770",
   "metadata": {
    "ExecuteTime": {
     "end_time": "2022-12-02T20:24:45.602544Z",
     "start_time": "2022-12-02T20:24:45.476617Z"
    }
   },
   "outputs": [],
   "source": [
    "# Убираем значения меньше 50\n",
    "data = data.query('power >= 50 ')\n",
    "\n",
    "# разделим средний диапазон на 10\n",
    "data.loc[(data['power'] < 8404) &(data['power'] > 800), 'power'] = (data['power']/10)\n",
    "\n",
    "# разделим самые высокие значения на 100\n",
    "data.loc[(data['power'] >= 8404), 'power'] = (data['power']/100)"
   ]
  },
  {
   "cell_type": "code",
   "execution_count": 31,
   "id": "4e9268e8",
   "metadata": {
    "ExecuteTime": {
     "end_time": "2022-12-02T20:24:45.664508Z",
     "start_time": "2022-12-02T20:24:45.605544Z"
    }
   },
   "outputs": [
    {
     "data": {
      "text/plain": [
       "array([ 50.  ,  51.  ,  52.  ,  53.  ,  54.  ,  55.  ,  56.  ,  57.  ,\n",
       "        58.  ,  59.  ,  60.  ,  61.  ,  62.  ,  63.  ,  64.  ,  65.  ,\n",
       "        66.  ,  67.  ,  68.  ,  69.  ,  70.  ,  71.  ,  72.  ,  73.  ,\n",
       "        74.  ,  75.  ,  76.  ,  77.  ,  78.  ,  79.  ,  80.  ,  80.5 ,\n",
       "        81.  ,  82.  ,  83.  ,  84.  ,  84.04,  85.  ,  85.1 ,  86.  ,\n",
       "        87.  ,  87.1 ,  88.  ,  89.  ,  90.  ,  90.07,  90.12,  90.13,\n",
       "        90.2 ,  90.3 ,  90.7 ,  90.9 ,  91.  ,  92.  ,  92.3 ,  93.  ,\n",
       "        94.  ,  95.  ,  95.2 ,  95.3 ,  96.  ,  97.  ,  98.  ,  99.  ,\n",
       "        99.8 ,  99.9 , 100.  , 100.1 , 100.2 , 100.3 , 100.4 , 100.5 ,\n",
       "       101.  , 101.1 , 101.2 , 101.6 , 101.7 , 102.  , 102.1 , 102.18,\n",
       "       102.4 , 103.  , 103.11, 104.  , 105.  , 105.2 , 105.22, 105.4 ,\n",
       "       105.5 , 105.6 , 106.  , 106.2 , 107.  , 107.1 , 107.9 , 108.  ,\n",
       "       108.2 , 109.  , 109.1 , 109.12, 110.  , 110.11, 110.25, 110.3 ,\n",
       "       110.5 , 111.  , 111.11, 111.5 , 112.  , 113.  , 114.  , 114.9 ,\n",
       "       115.  , 115.09, 115.1 , 115.3 , 115.8 , 116.  , 116.2 , 116.35,\n",
       "       116.4 , 117.  , 118.  , 119.  , 119.9 , 120.  , 120.12, 120.2 ,\n",
       "       121.  , 122.  , 122.1 , 122.3 , 123.  , 123.9 , 124.  , 124.1 ,\n",
       "       125.  , 125.1 , 125.12, 125.6 , 126.  , 126.84, 127.  , 127.5 ,\n",
       "       128.  , 128.8 , 129.  , 129.9 , 130.  , 131.  , 131.2 , 131.7 ,\n",
       "       132.  , 132.4 , 133.  , 133.9 , 134.  , 135.  , 136.  , 136.16,\n",
       "       136.2 , 136.3 , 136.36, 136.7 , 137.  , 138.  , 139.  , 139.8 ,\n",
       "       139.9 , 140.  , 140.09, 140.1 , 140.3 , 140.5 , 141.  , 141.6 ,\n",
       "       142.  , 143.  , 143.2 , 143.3 , 143.6 , 144.  , 145.  , 146.  ,\n",
       "       147.  , 148.  , 149.  , 150.  , 150.01, 150.1 , 150.17, 150.2 ,\n",
       "       150.3 , 150.33, 150.6 , 151.  , 152.  , 152.1 , 153.  , 154.  ,\n",
       "       154.8 , 155.  , 156.  , 157.  , 158.  , 159.  , 159.5 , 159.6 ,\n",
       "       159.7 , 159.8 , 160.  , 160.51, 161.  , 162.  , 162.5 , 163.  ,\n",
       "       163.1 , 163.11, 163.12, 164.  , 165.  , 165.3 , 165.9 , 166.  ,\n",
       "       167.  , 168.  , 168.9 , 169.  , 170.  , 170.1 , 170.11, 170.19,\n",
       "       170.3 , 170.4 , 170.7 , 171.  , 172.  , 173.  , 174.  , 174.1 ,\n",
       "       175.  , 175.3 , 176.  , 177.  , 177.1 , 177.9 , 178.  , 178.1 ,\n",
       "       178.3 , 179.  , 179.3 , 179.32, 179.6 , 179.9 , 180.  , 180.1 ,\n",
       "       181.  , 182.  , 183.  , 184.  , 185.  , 186.  , 187.  , 188.  ,\n",
       "       189.  , 189.5 , 189.6 , 190.  , 191.  , 192.  , 192.08, 192.11,\n",
       "       192.2 , 193.  , 193.12, 193.3 , 193.7 , 194.  , 195.  , 196.  ,\n",
       "       196.8 , 197.  , 198.  , 198.8 , 199.  , 199.2 , 199.3 , 199.5 ,\n",
       "       199.8 , 199.9 , 200.  , 200.4 , 200.5 , 200.7 , 200.9 , 201.  ,\n",
       "       201.6 , 201.7 , 201.8 , 202.  , 203.  , 204.  , 205.  , 206.  ,\n",
       "       207.  , 208.  , 209.  , 210.  , 211.  , 212.  , 213.  , 214.  ,\n",
       "       215.  , 216.  , 217.  , 217.2 , 218.  , 219.  , 220.  , 221.  ,\n",
       "       222.  , 223.  , 224.  , 225.  , 226.  , 227.  , 228.  , 229.  ,\n",
       "       230.  , 231.  , 232.  , 233.  , 233.1 , 234.  , 235.  , 236.  ,\n",
       "       237.  , 238.  , 238.9 , 239.  , 240.  , 240.2 , 241.  , 242.  ,\n",
       "       243.  , 244.  , 245.  , 246.  , 246.1 , 247.  , 248.  , 249.  ,\n",
       "       250.  , 251.  , 252.  , 253.  , 254.  , 255.  , 256.  , 257.  ,\n",
       "       258.  , 259.  , 259.8 , 260.  , 261.  , 262.  , 264.  , 265.  ,\n",
       "       266.  , 267.  , 268.  , 269.  , 270.  , 271.  , 272.  , 272.9 ,\n",
       "       273.  , 274.  , 275.  , 276.  , 277.  , 278.  , 278.9 , 279.  ,\n",
       "       279.2 , 279.9 , 280.  , 281.  , 282.  , 283.  , 284.  , 285.  ,\n",
       "       286.  , 287.  , 288.  , 289.  , 290.  , 292.  , 293.  , 294.  ,\n",
       "       295.  , 296.  , 297.  , 298.  , 299.  , 300.  , 301.  , 303.  ,\n",
       "       304.  , 305.  , 306.  , 307.  , 308.  , 309.  , 310.  , 311.  ,\n",
       "       313.  , 314.  , 315.  , 316.  , 317.  , 318.  , 319.9 , 320.  ,\n",
       "       321.  , 322.  , 323.  , 324.  , 325.  , 326.  , 328.  , 329.  ,\n",
       "       330.  , 331.  , 332.  , 333.  , 334.  , 335.  , 336.  , 337.  ,\n",
       "       338.  , 339.  , 340.  , 341.  , 343.  , 344.  , 345.  , 345.4 ,\n",
       "       346.  , 347.  , 348.  , 349.  , 350.  , 351.  , 352.  , 353.  ,\n",
       "       354.  , 355.  , 356.  , 357.  , 358.  , 360.  , 361.  , 362.  ,\n",
       "       363.  , 364.  , 365.  , 367.  , 368.  , 370.  , 371.  , 374.  ,\n",
       "       375.  , 376.  , 377.  , 379.  , 380.  , 381.  , 382.  , 385.  ,\n",
       "       386.  , 387.  , 388.  , 390.  , 392.  , 394.  , 396.  , 398.  ,\n",
       "       399.  , 400.  , 401.  , 405.  , 408.  , 409.  , 411.  , 416.  ,\n",
       "       420.  , 421.  , 425.  , 426.  , 428.  , 430.  , 431.  , 435.  ,\n",
       "       440.  , 442.  , 445.  , 449.  , 450.  , 450.7 , 454.  , 457.  ,\n",
       "       459.  , 460.  , 470.  , 475.  , 476.  , 487.  , 489.  , 490.  ,\n",
       "       500.  , 504.  , 505.  , 507.  , 508.  , 510.  , 514.  , 515.  ,\n",
       "       517.  , 519.  , 520.  , 521.  , 525.  , 540.  , 541.  , 541.1 ,\n",
       "       542.  , 544.  , 550.  , 551.  , 553.  , 557.5 , 560.  , 572.  ,\n",
       "       579.  , 580.  , 580.9 , 581.5 , 584.  , 585.  , 586.7 , 600.  ,\n",
       "       600.6 , 601.  , 601.1 , 601.2 , 601.8 , 602.  , 603.  , 604.  ,\n",
       "       604.5 , 606.  , 606.2 , 610.  , 612.  , 620.  , 622.6 , 640.  ,\n",
       "       645.  , 650.  , 651.  , 651.2 , 671.  , 678.  , 682.  , 685.  ,\n",
       "       692.  , 696.  , 700.  , 702.  , 703.  , 732.  , 743.  , 750.  ,\n",
       "       750.8 , 751.  , 751.1 , 751.2 , 751.5 , 751.8 , 752.9 , 754.  ,\n",
       "       754.4 , 771.  , 776.  , 800.  , 825.9 ])"
      ]
     },
     "execution_count": 31,
     "metadata": {},
     "output_type": "execute_result"
    }
   ],
   "source": [
    "data['power'].sort_values().unique()"
   ]
  },
  {
   "cell_type": "markdown",
   "id": "7c7fd78e",
   "metadata": {},
   "source": [
    "Врожде бы получилoсь. Пыталась сделать это всемогущим where, но он почему-то отказывался \"съедать\" два условия. Один раз что-то наколдовала, но результат был в экспоненциальных значениях и пришлось использовать лок. Но изменился тип данных и я решила его вернуть в целочисленные значения."
   ]
  },
  {
   "cell_type": "code",
   "execution_count": 32,
   "id": "485d6262",
   "metadata": {
    "ExecuteTime": {
     "end_time": "2022-12-02T20:24:45.680501Z",
     "start_time": "2022-12-02T20:24:45.667507Z"
    }
   },
   "outputs": [],
   "source": [
    "data['power'] = data['power'].astype('int') "
   ]
  },
  {
   "cell_type": "code",
   "execution_count": 33,
   "id": "fc8f50ea",
   "metadata": {
    "ExecuteTime": {
     "end_time": "2022-12-02T20:24:45.711481Z",
     "start_time": "2022-12-02T20:24:45.682500Z"
    }
   },
   "outputs": [
    {
     "name": "stdout",
     "output_type": "stream",
     "text": [
      "<class 'pandas.core.series.Series'>\n",
      "Int64Index: 290480 entries, 1 to 354368\n",
      "Series name: power\n",
      "Non-Null Count   Dtype\n",
      "--------------   -----\n",
      "290480 non-null  int32\n",
      "dtypes: int32(1)\n",
      "memory usage: 11.4 MB\n"
     ]
    }
   ],
   "source": [
    "data['power'].info()"
   ]
  },
  {
   "cell_type": "code",
   "execution_count": 34,
   "id": "e596e0e9",
   "metadata": {
    "ExecuteTime": {
     "end_time": "2022-12-02T20:24:45.757455Z",
     "start_time": "2022-12-02T20:24:45.713482Z"
    }
   },
   "outputs": [
    {
     "data": {
      "text/plain": [
       "array([ 50,  51,  52,  53,  54,  55,  56,  57,  58,  59,  60,  61,  62,\n",
       "        63,  64,  65,  66,  67,  68,  69,  70,  71,  72,  73,  74,  75,\n",
       "        76,  77,  78,  79,  80,  81,  82,  83,  84,  85,  86,  87,  88,\n",
       "        89,  90,  91,  92,  93,  94,  95,  96,  97,  98,  99, 100, 101,\n",
       "       102, 103, 104, 105, 106, 107, 108, 109, 110, 111, 112, 113, 114,\n",
       "       115, 116, 117, 118, 119, 120, 121, 122, 123, 124, 125, 126, 127,\n",
       "       128, 129, 130, 131, 132, 133, 134, 135, 136, 137, 138, 139, 140,\n",
       "       141, 142, 143, 144, 145, 146, 147, 148, 149, 150, 151, 152, 153,\n",
       "       154, 155, 156, 157, 158, 159, 160, 161, 162, 163, 164, 165, 166,\n",
       "       167, 168, 169, 170, 171, 172, 173, 174, 175, 176, 177, 178, 179,\n",
       "       180, 181, 182, 183, 184, 185, 186, 187, 188, 189, 190, 191, 192,\n",
       "       193, 194, 195, 196, 197, 198, 199, 200, 201, 202, 203, 204, 205,\n",
       "       206, 207, 208, 209, 210, 211, 212, 213, 214, 215, 216, 217, 218,\n",
       "       219, 220, 221, 222, 223, 224, 225, 226, 227, 228, 229, 230, 231,\n",
       "       232, 233, 234, 235, 236, 237, 238, 239, 240, 241, 242, 243, 244,\n",
       "       245, 246, 247, 248, 249, 250, 251, 252, 253, 254, 255, 256, 257,\n",
       "       258, 259, 260, 261, 262, 264, 265, 266, 267, 268, 269, 270, 271,\n",
       "       272, 273, 274, 275, 276, 277, 278, 279, 280, 281, 282, 283, 284,\n",
       "       285, 286, 287, 288, 289, 290, 292, 293, 294, 295, 296, 297, 298,\n",
       "       299, 300, 301, 303, 304, 305, 306, 307, 308, 309, 310, 311, 313,\n",
       "       314, 315, 316, 317, 318, 319, 320, 321, 322, 323, 324, 325, 326,\n",
       "       328, 329, 330, 331, 332, 333, 334, 335, 336, 337, 338, 339, 340,\n",
       "       341, 343, 344, 345, 346, 347, 348, 349, 350, 351, 352, 353, 354,\n",
       "       355, 356, 357, 358, 360, 361, 362, 363, 364, 365, 367, 368, 370,\n",
       "       371, 374, 375, 376, 377, 379, 380, 381, 382, 385, 386, 387, 388,\n",
       "       390, 392, 394, 396, 398, 399, 400, 401, 405, 408, 409, 411, 416,\n",
       "       420, 421, 425, 426, 428, 430, 431, 435, 440, 442, 445, 449, 450,\n",
       "       454, 457, 459, 460, 470, 475, 476, 487, 489, 490, 500, 504, 505,\n",
       "       507, 508, 510, 514, 515, 517, 519, 520, 521, 525, 540, 541, 542,\n",
       "       544, 550, 551, 553, 557, 560, 572, 579, 580, 581, 584, 585, 586,\n",
       "       600, 601, 602, 603, 604, 606, 610, 612, 620, 622, 640, 645, 650,\n",
       "       651, 671, 678, 682, 685, 692, 696, 700, 702, 703, 732, 743, 750,\n",
       "       751, 752, 754, 771, 776, 800, 825])"
      ]
     },
     "execution_count": 34,
     "metadata": {},
     "output_type": "execute_result"
    }
   ],
   "source": [
    "data['power'].sort_values().unique()"
   ]
  },
  {
   "cell_type": "markdown",
   "id": "a392156e",
   "metadata": {},
   "source": [
    "Вроде бы все красиво)"
   ]
  },
  {
   "cell_type": "code",
   "execution_count": 35,
   "id": "5ac72318",
   "metadata": {
    "ExecuteTime": {
     "end_time": "2022-12-02T20:24:46.247172Z",
     "start_time": "2022-12-02T20:24:45.759455Z"
    }
   },
   "outputs": [
    {
     "data": {
      "text/plain": [
       "Text(0, 0.5, 'Количество авто')"
      ]
     },
     "execution_count": 35,
     "metadata": {},
     "output_type": "execute_result"
    },
    {
     "data": {
      "image/png": "[encoded data removed]",
      "text/plain": [
       "<Figure size 1200x600 with 1 Axes>"
      ]
     },
     "metadata": {},
     "output_type": "display_data"
    }
   ],
   "source": [
    "data['power'].sort_values(ascending=False).plot(kind='hist', figsize=(12,6), grid=True, bins=100)\n",
    "plt.title('Гистограмма диапазона мощностей')\n",
    "plt.xlabel('Мощность, л.с.')\n",
    "plt.ylabel('Количество авто')"
   ]
  },
  {
   "cell_type": "markdown",
   "id": "8aa82fb8",
   "metadata": {},
   "source": [
    "И я снова решаю удалить значения так как вижу маленькое количество значений свыше 500 л.с.."
   ]
  },
  {
   "cell_type": "code",
   "execution_count": 36,
   "id": "6519b2cb",
   "metadata": {
    "ExecuteTime": {
     "end_time": "2022-12-02T20:24:46.311138Z",
     "start_time": "2022-12-02T20:24:46.250171Z"
    }
   },
   "outputs": [],
   "source": [
    "data = data.query('power <= 500 ')"
   ]
  },
  {
   "cell_type": "code",
   "execution_count": 37,
   "id": "576f448b",
   "metadata": {
    "ExecuteTime": {
     "end_time": "2022-12-02T20:24:46.660937Z",
     "start_time": "2022-12-02T20:24:46.314135Z"
    }
   },
   "outputs": [
    {
     "name": "stdout",
     "output_type": "stream",
     "text": [
      "<class 'pandas.core.frame.DataFrame'>\n",
      "Int64Index: 290351 entries, 1 to 354368\n",
      "Data columns (total 16 columns):\n",
      " #   Column              Non-Null Count   Dtype         \n",
      "---  ------              --------------   -----         \n",
      " 0   date_crawled        290351 non-null  datetime64[ns]\n",
      " 1   price               290351 non-null  int64         \n",
      " 2   vehicle_type        290351 non-null  object        \n",
      " 3   registration_year   290351 non-null  int64         \n",
      " 4   gearbox             290351 non-null  object        \n",
      " 5   power               290351 non-null  int32         \n",
      " 6   model               279804 non-null  object        \n",
      " 7   kilometer           290351 non-null  int64         \n",
      " 8   registration_month  290351 non-null  int64         \n",
      " 9   fuel_type           275544 non-null  object        \n",
      " 10  brand               290351 non-null  object        \n",
      " 11  repaired            249042 non-null  object        \n",
      " 12  date_created        290351 non-null  datetime64[ns]\n",
      " 13  number_of_pictures  290351 non-null  int64         \n",
      " 14  postal_code         290351 non-null  int64         \n",
      " 15  last_seen           290351 non-null  datetime64[ns]\n",
      "dtypes: datetime64[ns](3), int32(1), int64(6), object(6)\n",
      "memory usage: 36.6+ MB\n"
     ]
    }
   ],
   "source": [
    "data.info()"
   ]
  },
  {
   "cell_type": "markdown",
   "id": "3fd65011",
   "metadata": {},
   "source": [
    "### Обработка столбца с типом моделей авто."
   ]
  },
  {
   "cell_type": "markdown",
   "id": "557ecde8",
   "metadata": {},
   "source": [
    "Тут однозначно удалять пропуски. Если бы была пропущена марка, то ее можно было бы восстановить по модели машины, а тут наоборот, поэтоу удаляем."
   ]
  },
  {
   "cell_type": "code",
   "execution_count": 38,
   "id": "edbbcc71",
   "metadata": {
    "ExecuteTime": {
     "end_time": "2022-12-02T20:24:46.676927Z",
     "start_time": "2022-12-02T20:24:46.663933Z"
    }
   },
   "outputs": [],
   "source": [
    "#data.dropna(subset=['model'], inplace=True)"
   ]
  },
  {
   "cell_type": "code",
   "execution_count": 39,
   "id": "0be0d0a9",
   "metadata": {
    "ExecuteTime": {
     "end_time": "2022-12-02T20:24:46.723900Z",
     "start_time": "2022-12-02T20:24:46.679924Z"
    }
   },
   "outputs": [],
   "source": [
    "data['model'] = data['model'].fillna('universal')"
   ]
  },
  {
   "cell_type": "code",
   "execution_count": 40,
   "id": "540450d1",
   "metadata": {
    "ExecuteTime": {
     "end_time": "2022-12-02T20:24:47.085705Z",
     "start_time": "2022-12-02T20:24:46.725901Z"
    }
   },
   "outputs": [
    {
     "data": {
      "text/plain": [
       "date_crawled              0\n",
       "price                     0\n",
       "vehicle_type              0\n",
       "registration_year         0\n",
       "gearbox                   0\n",
       "power                     0\n",
       "model                     0\n",
       "kilometer                 0\n",
       "registration_month        0\n",
       "fuel_type             14807\n",
       "brand                     0\n",
       "repaired              41309\n",
       "date_created              0\n",
       "number_of_pictures        0\n",
       "postal_code               0\n",
       "last_seen                 0\n",
       "dtype: int64"
      ]
     },
     "execution_count": 40,
     "metadata": {},
     "output_type": "execute_result"
    }
   ],
   "source": [
    "data.isnull().sum()"
   ]
  },
  {
   "cell_type": "code",
   "execution_count": 41,
   "id": "5f980257",
   "metadata": {
    "ExecuteTime": {
     "end_time": "2022-12-02T20:24:47.132663Z",
     "start_time": "2022-12-02T20:24:47.087690Z"
    }
   },
   "outputs": [
    {
     "data": {
      "text/plain": [
       "array(['universal', 'grand', 'golf', 'fabia', '3er', '2_reihe', 'c_max',\n",
       "       '3_reihe', 'passat', 'navara', 'polo', 'twingo', 'a_klasse',\n",
       "       'scirocco', '5er', 'arosa', 'other', 'civic', 'transporter',\n",
       "       'punto', 'e_klasse', 'clio', 'kadett', 'one', 'fortwo', '1er',\n",
       "       'b_klasse', 'a8', 'jetta', 'fiesta', 'c_klasse', 'micra', 'vito',\n",
       "       'sprinter', 'astra', '156', 'escort', 'forester', 'xc_reihe',\n",
       "       'scenic', 'ka', 'a1', 'focus', 'a4', 'tt', 'a6', 'jazz', 'omega',\n",
       "       'slk', '7er', 'combo', 'corsa', '80', '147', 'z_reihe', 'sorento',\n",
       "       'ibiza', 'mustang', 'eos', 'touran', 'getz', 'insignia', 'almera',\n",
       "       'megane', 'a3', 'r19', 'caddy', 'mondeo', 'cordoba', 'colt',\n",
       "       'impreza', 'vectra', 'lupo', 'berlingo', 'tiguan', '6_reihe', 'c4',\n",
       "       'panda', 'up', 'i_reihe', 'ceed', 'kangoo', '5_reihe', 'yeti',\n",
       "       'octavia', 'zafira', 'mii', 'rx_reihe', '6er', 'modus', 'fox',\n",
       "       'matiz', 'beetle', 'rio', 'touareg', 'logan', 'spider', 'cuore',\n",
       "       's_max', 'a2', 'galaxy', 'c3', 'viano', 's_klasse', '1_reihe',\n",
       "       'sharan', 'avensis', 'roomster', 'sl', 'santa', 'leon', 'cooper',\n",
       "       '4_reihe', 'a5', 'sportage', 'laguna', 'ptcruiser', 'clk',\n",
       "       'primera', 'espace', 'exeo', '159', 'transit', 'juke', 'x_reihe',\n",
       "       'v40', 'carisma', 'accord', 'corolla', 'lanos', 'phaeton', 'verso',\n",
       "       'swift', 'rav', 'qashqai', 'picanto', 'boxster', 'superb', 'stilo',\n",
       "       'alhambra', 'roadster', 'ypsilon', 'galant', 'justy', '90',\n",
       "       'sirion', 'signum', 'crossfire', 'agila', 'duster', 'v50',\n",
       "       'mx_reihe', 'meriva', 'c_reihe', 'v_klasse', 'm_klasse', 'yaris',\n",
       "       'c5', 'aygo', 'seicento', 'cc', 'carnival', 'fusion', '911',\n",
       "       'bora', 'forfour', 'cl', 'tigra', '300c', '500', '100', 'cr_reihe',\n",
       "       'spark', 'kuga', 'x_type', 'ducato', 's_type', 'x_trail', 'toledo',\n",
       "       'altea', 'voyager', 'calibra', 'v70', 'bravo', 'tucson', 'c1',\n",
       "       'citigo', 'jimny', 'cayenne', 'wrangler', 'lybra', 'lancer',\n",
       "       'captiva', 'discovery', 'freelander', 'sandero', 'q7', 'note',\n",
       "       'antara', '900', 'cherokee', 'clubman', 'defender', 'cx_reihe',\n",
       "       'legacy', 'pajero', 'auris', 'c2', 'niva', 's60', 'm_reihe',\n",
       "       'nubira', 'vivaro', 'g_klasse', 'lodgy', 'range_rover', '850',\n",
       "       'q3', 'serie_2', 'glk', 'charade', 'croma', 'outlander', 'kaefer',\n",
       "       'doblo', 'musa', '9000', 'kalos', 'v60', '200', '145', 'b_max',\n",
       "       'range_rover_sport', 'aveo', 'rangerover', 'q5', 'move',\n",
       "       'range_rover_evoque', 'materia', 'delta', 'terios', 'gl', 'kalina',\n",
       "       'elefantino', 'i3', 'samara', 'amarok', '601', 'kappa', 'serie_3'],\n",
       "      dtype=object)"
      ]
     },
     "execution_count": 41,
     "metadata": {},
     "output_type": "execute_result"
    }
   ],
   "source": [
    "data['model'].unique()"
   ]
  },
  {
   "cell_type": "markdown",
   "id": "67833375",
   "metadata": {},
   "source": [
    "Наборчик конечно разносторонний от порше до самары. Поуглила-вроде бы есть такие."
   ]
  },
  {
   "cell_type": "markdown",
   "id": "10869084",
   "metadata": {},
   "source": [
    "### Обработка столбца с пробегом авто."
   ]
  },
  {
   "cell_type": "code",
   "execution_count": 42,
   "id": "5efc6ade",
   "metadata": {
    "ExecuteTime": {
     "end_time": "2022-12-02T20:24:47.148658Z",
     "start_time": "2022-12-02T20:24:47.134663Z"
    }
   },
   "outputs": [
    {
     "data": {
      "text/plain": [
       "array([125000, 150000,  90000,  30000,  70000, 100000,  60000,   5000,\n",
       "        20000,  80000,  50000,  40000,  10000], dtype=int64)"
      ]
     },
     "execution_count": 42,
     "metadata": {},
     "output_type": "execute_result"
    }
   ],
   "source": [
    "data['kilometer'].unique()"
   ]
  },
  {
   "cell_type": "code",
   "execution_count": 43,
   "id": "fb5d4ca1",
   "metadata": {
    "ExecuteTime": {
     "end_time": "2022-12-02T20:24:47.467470Z",
     "start_time": "2022-12-02T20:24:47.151652Z"
    }
   },
   "outputs": [
    {
     "data": {
      "text/plain": [
       "Text(0, 0.5, 'Количество авто')"
      ]
     },
     "execution_count": 43,
     "metadata": {},
     "output_type": "execute_result"
    },
    {
     "data": {
      "image/png": "[encoded data removed]",
      "text/plain": [
       "<Figure size 1200x600 with 1 Axes>"
      ]
     },
     "metadata": {},
     "output_type": "display_data"
    }
   ],
   "source": [
    "data['kilometer'].sort_values(ascending=False).plot(kind='hist', figsize=(12,6), grid=True, bins=13)\n",
    "plt.title('Гистограмма пробега')\n",
    "plt.xlabel('Пробег, км')\n",
    "plt.ylabel('Количество авто')"
   ]
  },
  {
   "cell_type": "markdown",
   "id": "8d8cdd2f",
   "metadata": {},
   "source": [
    "В основном представлены машины с пробегом более 140000 км. Думаю, пробег будет влиять на цену, но это я проверю с помощью корреляции и чуть дальше."
   ]
  },
  {
   "cell_type": "markdown",
   "id": "b15f0d28",
   "metadata": {},
   "source": [
    "### Обработка столбца с месяцем регистрации авто."
   ]
  },
  {
   "cell_type": "code",
   "execution_count": 44,
   "id": "e23f0c6f",
   "metadata": {
    "ExecuteTime": {
     "end_time": "2022-12-02T20:24:47.482464Z",
     "start_time": "2022-12-02T20:24:47.469470Z"
    }
   },
   "outputs": [
    {
     "data": {
      "text/plain": [
       "array([ 5,  8,  6,  7, 10,  0, 12, 11,  2,  3,  1,  4,  9], dtype=int64)"
      ]
     },
     "execution_count": 44,
     "metadata": {},
     "output_type": "execute_result"
    }
   ],
   "source": [
    "data['registration_month'].unique()"
   ]
  },
  {
   "cell_type": "code",
   "execution_count": 45,
   "id": "651ccf16",
   "metadata": {
    "ExecuteTime": {
     "end_time": "2022-12-02T20:24:47.498453Z",
     "start_time": "2022-12-02T20:24:47.485461Z"
    }
   },
   "outputs": [
    {
     "data": {
      "text/plain": [
       "3     29947\n",
       "6     27065\n",
       "4     25303\n",
       "5     25163\n",
       "7     23379\n",
       "10    22578\n",
       "12    20845\n",
       "11    20722\n",
       "9     20611\n",
       "1     19740\n",
       "8     19405\n",
       "2     18509\n",
       "0     17084\n",
       "Name: registration_month, dtype: int64"
      ]
     },
     "execution_count": 45,
     "metadata": {},
     "output_type": "execute_result"
    }
   ],
   "source": [
    "data['registration_month'].value_counts()"
   ]
  },
  {
   "cell_type": "markdown",
   "id": "a729bf4e",
   "metadata": {},
   "source": [
    "Тут аномальным значением явлется нулевой месяц. Насколько я помню, месяц влияет на цену, так как весной все дорожает, а к осени, наоборот, падает. Чтобы не терять данные с нулевым месяцем я заполню их самым популярным, или модой (если я верно поняла это понятие) и это март."
   ]
  },
  {
   "cell_type": "code",
   "execution_count": 46,
   "id": "aedd85b0",
   "metadata": {
    "ExecuteTime": {
     "end_time": "2022-12-02T20:24:47.514448Z",
     "start_time": "2022-12-02T20:24:47.501453Z"
    }
   },
   "outputs": [],
   "source": [
    "data.loc[data['registration_month'] == 0,'registration_month'] =3"
   ]
  },
  {
   "cell_type": "code",
   "execution_count": 47,
   "id": "ae8a1f1c",
   "metadata": {
    "ExecuteTime": {
     "end_time": "2022-12-02T20:24:47.530438Z",
     "start_time": "2022-12-02T20:24:47.517442Z"
    }
   },
   "outputs": [
    {
     "data": {
      "text/plain": [
       "array([ 5,  8,  6,  7, 10,  3, 12, 11,  2,  1,  4,  9], dtype=int64)"
      ]
     },
     "execution_count": 47,
     "metadata": {},
     "output_type": "execute_result"
    }
   ],
   "source": [
    "data['registration_month'].unique()"
   ]
  },
  {
   "cell_type": "markdown",
   "id": "fb9fdb78",
   "metadata": {},
   "source": [
    "Ура! Нулевой месяц покинул ~чат~ датафрейм."
   ]
  },
  {
   "cell_type": "markdown",
   "id": "7182b8b0",
   "metadata": {},
   "source": [
    "### Обработка столбца с типом топлива."
   ]
  },
  {
   "cell_type": "code",
   "execution_count": 48,
   "id": "3443d3f2",
   "metadata": {
    "ExecuteTime": {
     "end_time": "2022-12-02T20:24:47.562416Z",
     "start_time": "2022-12-02T20:24:47.533434Z"
    }
   },
   "outputs": [
    {
     "data": {
      "text/plain": [
       "array(['gasoline', 'petrol', nan, 'lpg', 'other', 'hybrid', 'cng',\n",
       "       'electric'], dtype=object)"
      ]
     },
     "execution_count": 48,
     "metadata": {},
     "output_type": "execute_result"
    }
   ],
   "source": [
    "data['fuel_type'].unique()"
   ]
  },
  {
   "cell_type": "markdown",
   "id": "49ac085b",
   "metadata": {},
   "source": [
    "И снова nan, удалять их не стоит, поэтому объединим с other."
   ]
  },
  {
   "cell_type": "code",
   "execution_count": 49,
   "id": "7936e711",
   "metadata": {
    "ExecuteTime": {
     "end_time": "2022-12-02T20:24:47.610390Z",
     "start_time": "2022-12-02T20:24:47.564417Z"
    }
   },
   "outputs": [],
   "source": [
    "data['fuel_type']=data['fuel_type'].fillna('other')"
   ]
  },
  {
   "cell_type": "code",
   "execution_count": 50,
   "id": "28c3e5b7",
   "metadata": {
    "ExecuteTime": {
     "end_time": "2022-12-02T20:24:47.642370Z",
     "start_time": "2022-12-02T20:24:47.612387Z"
    }
   },
   "outputs": [
    {
     "data": {
      "text/plain": [
       "array(['gasoline', 'petrol', 'other', 'lpg', 'hybrid', 'cng', 'electric'],\n",
       "      dtype=object)"
      ]
     },
     "execution_count": 50,
     "metadata": {},
     "output_type": "execute_result"
    }
   ],
   "source": [
    "data['fuel_type'].unique()"
   ]
  },
  {
   "cell_type": "markdown",
   "id": "cfc25cbc",
   "metadata": {},
   "source": [
    "### Обработка столбца с маркой машин."
   ]
  },
  {
   "cell_type": "code",
   "execution_count": 51,
   "id": "90133c0b",
   "metadata": {
    "ExecuteTime": {
     "end_time": "2022-12-02T20:24:47.674352Z",
     "start_time": "2022-12-02T20:24:47.644371Z"
    }
   },
   "outputs": [
    {
     "data": {
      "text/plain": [
       "array(['audi', 'jeep', 'volkswagen', 'skoda', 'bmw', 'peugeot', 'ford',\n",
       "       'mazda', 'nissan', 'renault', 'mercedes_benz', 'seat', 'honda',\n",
       "       'fiat', 'opel', 'mini', 'smart', 'hyundai', 'alfa_romeo', 'subaru',\n",
       "       'volvo', 'mitsubishi', 'kia', 'lancia', 'citroen', 'toyota',\n",
       "       'chevrolet', 'dacia', 'suzuki', 'daihatsu', 'chrysler',\n",
       "       'sonstige_autos', 'jaguar', 'daewoo', 'rover', 'porsche', 'saab',\n",
       "       'land_rover', 'lada', 'trabant'], dtype=object)"
      ]
     },
     "execution_count": 51,
     "metadata": {},
     "output_type": "execute_result"
    }
   ],
   "source": [
    "data['brand'].unique()"
   ]
  },
  {
   "cell_type": "markdown",
   "id": "c9e214b4",
   "metadata": {},
   "source": [
    "Ну хоть где-то нет аномалий, пропусков и странностей."
   ]
  },
  {
   "cell_type": "markdown",
   "id": "6212877e",
   "metadata": {},
   "source": [
    "### Обработка столбца с ремонтом авто."
   ]
  },
  {
   "cell_type": "code",
   "execution_count": 52,
   "id": "92e85b6e",
   "metadata": {
    "ExecuteTime": {
     "end_time": "2022-12-02T20:24:47.705337Z",
     "start_time": "2022-12-02T20:24:47.677351Z"
    },
    "scrolled": true
   },
   "outputs": [
    {
     "data": {
      "text/plain": [
       "array(['yes', nan, 'no'], dtype=object)"
      ]
     },
     "execution_count": 52,
     "metadata": {},
     "output_type": "execute_result"
    }
   ],
   "source": [
    "data['repaired'].unique()"
   ]
  },
  {
   "cell_type": "code",
   "execution_count": 53,
   "id": "a874e939",
   "metadata": {
    "ExecuteTime": {
     "end_time": "2022-12-02T20:24:47.736321Z",
     "start_time": "2022-12-02T20:24:47.708334Z"
    }
   },
   "outputs": [
    {
     "data": {
      "text/plain": [
       "41309"
      ]
     },
     "execution_count": 53,
     "metadata": {},
     "output_type": "execute_result"
    }
   ],
   "source": [
    "data['repaired'].isnull().sum()"
   ]
  },
  {
   "cell_type": "markdown",
   "id": "a5770b52",
   "metadata": {},
   "source": [
    "А вот и снова пропуски, да еще и так много. Введем тогда категию other чтобы не терять данные. Этот параментр ни рамдомно ни предположительно я не могу раскидать среди \"да\"/\"нет\"."
   ]
  },
  {
   "cell_type": "code",
   "execution_count": 54,
   "id": "7663dc16",
   "metadata": {
    "ExecuteTime": {
     "end_time": "2022-12-02T20:24:47.782292Z",
     "start_time": "2022-12-02T20:24:47.739315Z"
    }
   },
   "outputs": [],
   "source": [
    "data['repaired']=data['repaired'].fillna('other')"
   ]
  },
  {
   "cell_type": "code",
   "execution_count": 55,
   "id": "d39b4108",
   "metadata": {
    "ExecuteTime": {
     "end_time": "2022-12-02T20:24:47.814273Z",
     "start_time": "2022-12-02T20:24:47.785288Z"
    }
   },
   "outputs": [
    {
     "data": {
      "text/plain": [
       "array(['yes', 'other', 'no'], dtype=object)"
      ]
     },
     "execution_count": 55,
     "metadata": {},
     "output_type": "execute_result"
    }
   ],
   "source": [
    "data['repaired'].unique()"
   ]
  },
  {
   "cell_type": "markdown",
   "id": "100eed9c",
   "metadata": {},
   "source": [
    "На этом с этим признаком пока что все. \n",
    "\n",
    "Пока я делала предобработку данных в слаке вышли подсказки, что столбцы с датой регистрации, с датой активности, а также с количеством фотографий лучше дропнуть, поэтому не трачу на них время и перехожу к последнему признаку, который мне показался важным."
   ]
  },
  {
   "cell_type": "markdown",
   "id": "ca16119b",
   "metadata": {},
   "source": [
    "### Обработка столбца с индексом владельца."
   ]
  },
  {
   "cell_type": "code",
   "execution_count": 56,
   "id": "66cecf45",
   "metadata": {
    "ExecuteTime": {
     "end_time": "2022-12-02T20:24:47.830262Z",
     "start_time": "2022-12-02T20:24:47.817270Z"
    }
   },
   "outputs": [
    {
     "data": {
      "text/plain": [
       "0"
      ]
     },
     "execution_count": 56,
     "metadata": {},
     "output_type": "execute_result"
    }
   ],
   "source": [
    "data['postal_code'].isnull().sum()"
   ]
  },
  {
   "cell_type": "markdown",
   "id": "bca51e9a",
   "metadata": {},
   "source": [
    "Итак, индексы. \n",
    "\n",
    "Окружение мне объяснило, что регион важен, так как вот я, например, живя на Юге нашей страны могу купить УВАЗик в три раза дороже чем в среней полосе, потому что он там не пользуется особым спросом, а на Юге он нужен, чтобы возить ~бздыхов~ отдыхающих, поэтому он стоит дороже. Также меня просвятили, что первые цифры индекса шифруют регион и город. Оставим только регион-первую цифру. (насколько я помню еще вроде бы нужно сократить, чтобы модель при обучении не \"подумала\" что этот параметр имеет важный вес, поэтому минимизирую ее значение)."
   ]
  },
  {
   "cell_type": "code",
   "execution_count": 57,
   "id": "5495c4cc",
   "metadata": {
    "ExecuteTime": {
     "end_time": "2022-12-02T20:24:48.099108Z",
     "start_time": "2022-12-02T20:24:47.833261Z"
    }
   },
   "outputs": [],
   "source": [
    "data['postal_code'] = data['postal_code'].astype(str).str[:1]"
   ]
  },
  {
   "cell_type": "code",
   "execution_count": 58,
   "id": "94796f5c",
   "metadata": {
    "ExecuteTime": {
     "end_time": "2022-12-02T20:24:48.146080Z",
     "start_time": "2022-12-02T20:24:48.101107Z"
    }
   },
   "outputs": [],
   "source": [
    "data['postal_code'] = data['postal_code'].astype(int)"
   ]
  },
  {
   "cell_type": "code",
   "execution_count": 59,
   "id": "60021bb7",
   "metadata": {
    "ExecuteTime": {
     "end_time": "2022-12-02T20:24:48.162070Z",
     "start_time": "2022-12-02T20:24:48.149078Z"
    }
   },
   "outputs": [
    {
     "data": {
      "text/plain": [
       "1    6\n",
       "2    9\n",
       "3    9\n",
       "4    6\n",
       "5    3\n",
       "Name: postal_code, dtype: int32"
      ]
     },
     "execution_count": 59,
     "metadata": {},
     "output_type": "execute_result"
    }
   ],
   "source": [
    "data['postal_code'].head()"
   ]
  },
  {
   "cell_type": "code",
   "execution_count": 60,
   "id": "5e65f0f4",
   "metadata": {
    "ExecuteTime": {
     "end_time": "2022-12-02T20:24:48.511870Z",
     "start_time": "2022-12-02T20:24:48.165070Z"
    }
   },
   "outputs": [
    {
     "name": "stdout",
     "output_type": "stream",
     "text": [
      "<class 'pandas.core.frame.DataFrame'>\n",
      "Int64Index: 290351 entries, 1 to 354368\n",
      "Data columns (total 16 columns):\n",
      " #   Column              Non-Null Count   Dtype         \n",
      "---  ------              --------------   -----         \n",
      " 0   date_crawled        290351 non-null  datetime64[ns]\n",
      " 1   price               290351 non-null  int64         \n",
      " 2   vehicle_type        290351 non-null  object        \n",
      " 3   registration_year   290351 non-null  int64         \n",
      " 4   gearbox             290351 non-null  object        \n",
      " 5   power               290351 non-null  int32         \n",
      " 6   model               290351 non-null  object        \n",
      " 7   kilometer           290351 non-null  int64         \n",
      " 8   registration_month  290351 non-null  int64         \n",
      " 9   fuel_type           290351 non-null  object        \n",
      " 10  brand               290351 non-null  object        \n",
      " 11  repaired            290351 non-null  object        \n",
      " 12  date_created        290351 non-null  datetime64[ns]\n",
      " 13  number_of_pictures  290351 non-null  int64         \n",
      " 14  postal_code         290351 non-null  int32         \n",
      " 15  last_seen           290351 non-null  datetime64[ns]\n",
      "dtypes: datetime64[ns](3), int32(2), int64(5), object(6)\n",
      "memory usage: 35.4+ MB\n"
     ]
    }
   ],
   "source": [
    "data.info()"
   ]
  },
  {
   "cell_type": "markdown",
   "id": "d76b92f5",
   "metadata": {},
   "source": [
    "### Удаление ненужных признаков."
   ]
  },
  {
   "cell_type": "markdown",
   "id": "e6c7649b",
   "metadata": {},
   "source": [
    "Удалим столбцы с датой скачивания, месяцем регистрации авто, с количеством фотографий, актичностью пользователя. и датой создания анкеты"
   ]
  },
  {
   "cell_type": "code",
   "execution_count": 61,
   "id": "54d09856",
   "metadata": {
    "ExecuteTime": {
     "end_time": "2022-12-02T20:24:48.575832Z",
     "start_time": "2022-12-02T20:24:48.514871Z"
    }
   },
   "outputs": [],
   "source": [
    "df = data.drop(columns=['date_crawled', 'number_of_pictures', 'last_seen', 'date_created'])"
   ]
  },
  {
   "cell_type": "code",
   "execution_count": 62,
   "id": "188287c3",
   "metadata": {
    "ExecuteTime": {
     "end_time": "2022-12-02T20:24:48.607816Z",
     "start_time": "2022-12-02T20:24:48.577832Z"
    }
   },
   "outputs": [],
   "source": [
    "# сброс индексов\n",
    "\n",
    "df = df.reset_index(drop=True)"
   ]
  },
  {
   "cell_type": "code",
   "execution_count": 63,
   "id": "0ecbe0b6",
   "metadata": {
    "ExecuteTime": {
     "end_time": "2022-12-02T20:24:48.957634Z",
     "start_time": "2022-12-02T20:24:48.610814Z"
    }
   },
   "outputs": [
    {
     "name": "stdout",
     "output_type": "stream",
     "text": [
      "<class 'pandas.core.frame.DataFrame'>\n",
      "RangeIndex: 290351 entries, 0 to 290350\n",
      "Data columns (total 12 columns):\n",
      " #   Column              Non-Null Count   Dtype \n",
      "---  ------              --------------   ----- \n",
      " 0   price               290351 non-null  int64 \n",
      " 1   vehicle_type        290351 non-null  object\n",
      " 2   registration_year   290351 non-null  int64 \n",
      " 3   gearbox             290351 non-null  object\n",
      " 4   power               290351 non-null  int32 \n",
      " 5   model               290351 non-null  object\n",
      " 6   kilometer           290351 non-null  int64 \n",
      " 7   registration_month  290351 non-null  int64 \n",
      " 8   fuel_type           290351 non-null  object\n",
      " 9   brand               290351 non-null  object\n",
      " 10  repaired            290351 non-null  object\n",
      " 11  postal_code         290351 non-null  int32 \n",
      "dtypes: int32(2), int64(4), object(6)\n",
      "memory usage: 24.4+ MB\n"
     ]
    }
   ],
   "source": [
    "df.info()"
   ]
  },
  {
   "cell_type": "markdown",
   "id": "074bc2ee",
   "metadata": {},
   "source": [
    "### Проверка на наличие зависимостей в данных."
   ]
  },
  {
   "cell_type": "markdown",
   "id": "019ac187",
   "metadata": {},
   "source": [
    "Для поиска зависимостей необходимо выделить столбцы с числовыми значениями (логично, что среди объектов зависимость не получится)"
   ]
  },
  {
   "cell_type": "code",
   "execution_count": 64,
   "id": "581e0838",
   "metadata": {
    "ExecuteTime": {
     "end_time": "2022-12-02T20:24:48.989598Z",
     "start_time": "2022-12-02T20:24:48.960612Z"
    }
   },
   "outputs": [
    {
     "data": {
      "text/html": [
       "<div>\n",
       "<style scoped>\n",
       "    .dataframe tbody tr th:only-of-type {\n",
       "        vertical-align: middle;\n",
       "    }\n",
       "\n",
       "    .dataframe tbody tr th {\n",
       "        vertical-align: top;\n",
       "    }\n",
       "\n",
       "    .dataframe thead th {\n",
       "        text-align: right;\n",
       "    }\n",
       "</style>\n",
       "<table border=\"1\" class=\"dataframe\">\n",
       "  <thead>\n",
       "    <tr style=\"text-align: right;\">\n",
       "      <th></th>\n",
       "      <th>price</th>\n",
       "      <th>registration_year</th>\n",
       "      <th>power</th>\n",
       "      <th>kilometer</th>\n",
       "      <th>postal_code</th>\n",
       "      <th>registration_month</th>\n",
       "    </tr>\n",
       "  </thead>\n",
       "  <tbody>\n",
       "    <tr>\n",
       "      <th>1</th>\n",
       "      <td>18300</td>\n",
       "      <td>2011</td>\n",
       "      <td>190</td>\n",
       "      <td>125000</td>\n",
       "      <td>6</td>\n",
       "      <td>5</td>\n",
       "    </tr>\n",
       "    <tr>\n",
       "      <th>2</th>\n",
       "      <td>9800</td>\n",
       "      <td>2004</td>\n",
       "      <td>163</td>\n",
       "      <td>125000</td>\n",
       "      <td>9</td>\n",
       "      <td>8</td>\n",
       "    </tr>\n",
       "    <tr>\n",
       "      <th>3</th>\n",
       "      <td>1500</td>\n",
       "      <td>2001</td>\n",
       "      <td>75</td>\n",
       "      <td>150000</td>\n",
       "      <td>9</td>\n",
       "      <td>6</td>\n",
       "    </tr>\n",
       "    <tr>\n",
       "      <th>4</th>\n",
       "      <td>3600</td>\n",
       "      <td>2008</td>\n",
       "      <td>69</td>\n",
       "      <td>90000</td>\n",
       "      <td>6</td>\n",
       "      <td>7</td>\n",
       "    </tr>\n",
       "    <tr>\n",
       "      <th>5</th>\n",
       "      <td>650</td>\n",
       "      <td>1995</td>\n",
       "      <td>102</td>\n",
       "      <td>150000</td>\n",
       "      <td>3</td>\n",
       "      <td>10</td>\n",
       "    </tr>\n",
       "    <tr>\n",
       "      <th>6</th>\n",
       "      <td>2200</td>\n",
       "      <td>2004</td>\n",
       "      <td>109</td>\n",
       "      <td>150000</td>\n",
       "      <td>6</td>\n",
       "      <td>8</td>\n",
       "    </tr>\n",
       "    <tr>\n",
       "      <th>8</th>\n",
       "      <td>14500</td>\n",
       "      <td>2014</td>\n",
       "      <td>125</td>\n",
       "      <td>30000</td>\n",
       "      <td>9</td>\n",
       "      <td>8</td>\n",
       "    </tr>\n",
       "    <tr>\n",
       "      <th>9</th>\n",
       "      <td>999</td>\n",
       "      <td>1998</td>\n",
       "      <td>101</td>\n",
       "      <td>150000</td>\n",
       "      <td>2</td>\n",
       "      <td>3</td>\n",
       "    </tr>\n",
       "    <tr>\n",
       "      <th>10</th>\n",
       "      <td>2000</td>\n",
       "      <td>2004</td>\n",
       "      <td>105</td>\n",
       "      <td>150000</td>\n",
       "      <td>9</td>\n",
       "      <td>12</td>\n",
       "    </tr>\n",
       "    <tr>\n",
       "      <th>11</th>\n",
       "      <td>2799</td>\n",
       "      <td>2005</td>\n",
       "      <td>140</td>\n",
       "      <td>150000</td>\n",
       "      <td>5</td>\n",
       "      <td>12</td>\n",
       "    </tr>\n",
       "  </tbody>\n",
       "</table>\n",
       "</div>"
      ],
      "text/plain": [
       "    price  registration_year  power  kilometer  postal_code  \\\n",
       "1   18300               2011    190     125000            6   \n",
       "2    9800               2004    163     125000            9   \n",
       "3    1500               2001     75     150000            9   \n",
       "4    3600               2008     69      90000            6   \n",
       "5     650               1995    102     150000            3   \n",
       "6    2200               2004    109     150000            6   \n",
       "8   14500               2014    125      30000            9   \n",
       "9     999               1998    101     150000            2   \n",
       "10   2000               2004    105     150000            9   \n",
       "11   2799               2005    140     150000            5   \n",
       "\n",
       "    registration_month  \n",
       "1                    5  \n",
       "2                    8  \n",
       "3                    6  \n",
       "4                    7  \n",
       "5                   10  \n",
       "6                    8  \n",
       "8                    8  \n",
       "9                    3  \n",
       "10                  12  \n",
       "11                  12  "
      ]
     },
     "execution_count": 64,
     "metadata": {},
     "output_type": "execute_result"
    }
   ],
   "source": [
    "# выделим столбцы с числовым типом данных\n",
    "columns = ['price', 'registration_year', 'power', 'kilometer', 'postal_code', 'registration_month']\n",
    "df_corr = data[columns]\n",
    "df_corr.head(10)"
   ]
  },
  {
   "cell_type": "code",
   "execution_count": 65,
   "id": "5614dd6b",
   "metadata": {
    "ExecuteTime": {
     "end_time": "2022-12-02T20:24:49.132852Z",
     "start_time": "2022-12-02T20:24:48.992595Z"
    },
    "scrolled": true
   },
   "outputs": [
    {
     "data": {
      "text/html": [
       "<style type=\"text/css\">\n",
       "#T_69cb9_row0_col0, #T_69cb9_row1_col1, #T_69cb9_row2_col2, #T_69cb9_row3_col3, #T_69cb9_row4_col4, #T_69cb9_row5_col5 {\n",
       "  background-color: #fde725;\n",
       "  color: #000000;\n",
       "}\n",
       "#T_69cb9_row0_col1 {\n",
       "  background-color: #28ae80;\n",
       "  color: #f1f1f1;\n",
       "}\n",
       "#T_69cb9_row0_col2 {\n",
       "  background-color: #218e8d;\n",
       "  color: #f1f1f1;\n",
       "}\n",
       "#T_69cb9_row0_col3, #T_69cb9_row3_col0, #T_69cb9_row3_col1, #T_69cb9_row3_col4, #T_69cb9_row3_col5, #T_69cb9_row4_col5, #T_69cb9_row5_col2 {\n",
       "  background-color: #440154;\n",
       "  color: #f1f1f1;\n",
       "}\n",
       "#T_69cb9_row0_col4 {\n",
       "  background-color: #481b6d;\n",
       "  color: #f1f1f1;\n",
       "}\n",
       "#T_69cb9_row0_col5 {\n",
       "  background-color: #471365;\n",
       "  color: #f1f1f1;\n",
       "}\n",
       "#T_69cb9_row1_col0, #T_69cb9_row2_col0 {\n",
       "  background-color: #2eb37c;\n",
       "  color: #f1f1f1;\n",
       "}\n",
       "#T_69cb9_row1_col2 {\n",
       "  background-color: #481c6e;\n",
       "  color: #f1f1f1;\n",
       "}\n",
       "#T_69cb9_row1_col3 {\n",
       "  background-color: #471164;\n",
       "  color: #f1f1f1;\n",
       "}\n",
       "#T_69cb9_row1_col4 {\n",
       "  background-color: #470e61;\n",
       "  color: #f1f1f1;\n",
       "}\n",
       "#T_69cb9_row1_col5 {\n",
       "  background-color: #470d60;\n",
       "  color: #f1f1f1;\n",
       "}\n",
       "#T_69cb9_row2_col1 {\n",
       "  background-color: #31678e;\n",
       "  color: #f1f1f1;\n",
       "}\n",
       "#T_69cb9_row2_col3 {\n",
       "  background-color: #2e6d8e;\n",
       "  color: #f1f1f1;\n",
       "}\n",
       "#T_69cb9_row2_col4 {\n",
       "  background-color: #48186a;\n",
       "  color: #f1f1f1;\n",
       "}\n",
       "#T_69cb9_row2_col5 {\n",
       "  background-color: #471063;\n",
       "  color: #f1f1f1;\n",
       "}\n",
       "#T_69cb9_row3_col2 {\n",
       "  background-color: #481a6c;\n",
       "  color: #f1f1f1;\n",
       "}\n",
       "#T_69cb9_row4_col0 {\n",
       "  background-color: #32658e;\n",
       "  color: #f1f1f1;\n",
       "}\n",
       "#T_69cb9_row4_col1 {\n",
       "  background-color: #39558c;\n",
       "  color: #f1f1f1;\n",
       "}\n",
       "#T_69cb9_row4_col2 {\n",
       "  background-color: #46075a;\n",
       "  color: #f1f1f1;\n",
       "}\n",
       "#T_69cb9_row4_col3 {\n",
       "  background-color: #38588c;\n",
       "  color: #f1f1f1;\n",
       "}\n",
       "#T_69cb9_row5_col0 {\n",
       "  background-color: #33638d;\n",
       "  color: #f1f1f1;\n",
       "}\n",
       "#T_69cb9_row5_col1 {\n",
       "  background-color: #39568c;\n",
       "  color: #f1f1f1;\n",
       "}\n",
       "#T_69cb9_row5_col3 {\n",
       "  background-color: #375a8c;\n",
       "  color: #f1f1f1;\n",
       "}\n",
       "#T_69cb9_row5_col4 {\n",
       "  background-color: #450559;\n",
       "  color: #f1f1f1;\n",
       "}\n",
       "</style>\n",
       "<table id=\"T_69cb9\">\n",
       "  <thead>\n",
       "    <tr>\n",
       "      <th class=\"blank level0\" >&nbsp;</th>\n",
       "      <th id=\"T_69cb9_level0_col0\" class=\"col_heading level0 col0\" >price</th>\n",
       "      <th id=\"T_69cb9_level0_col1\" class=\"col_heading level0 col1\" >registration_year</th>\n",
       "      <th id=\"T_69cb9_level0_col2\" class=\"col_heading level0 col2\" >power</th>\n",
       "      <th id=\"T_69cb9_level0_col3\" class=\"col_heading level0 col3\" >kilometer</th>\n",
       "      <th id=\"T_69cb9_level0_col4\" class=\"col_heading level0 col4\" >postal_code</th>\n",
       "      <th id=\"T_69cb9_level0_col5\" class=\"col_heading level0 col5\" >registration_month</th>\n",
       "    </tr>\n",
       "  </thead>\n",
       "  <tbody>\n",
       "    <tr>\n",
       "      <th id=\"T_69cb9_level0_row0\" class=\"row_heading level0 row0\" >price</th>\n",
       "      <td id=\"T_69cb9_row0_col0\" class=\"data row0 col0\" >1.000000</td>\n",
       "      <td id=\"T_69cb9_row0_col1\" class=\"data row0 col1\" >0.505511</td>\n",
       "      <td id=\"T_69cb9_row0_col2\" class=\"data row0 col2\" >0.505785</td>\n",
       "      <td id=\"T_69cb9_row0_col3\" class=\"data row0 col3\" >-0.394180</td>\n",
       "      <td id=\"T_69cb9_row0_col4\" class=\"data row0 col4\" >0.057199</td>\n",
       "      <td id=\"T_69cb9_row0_col5\" class=\"data row0 col5\" >0.043678</td>\n",
       "    </tr>\n",
       "    <tr>\n",
       "      <th id=\"T_69cb9_level0_row1\" class=\"row_heading level0 row1\" >registration_year</th>\n",
       "      <td id=\"T_69cb9_row1_col0\" class=\"data row1 col0\" >0.505511</td>\n",
       "      <td id=\"T_69cb9_row1_col1\" class=\"data row1 col1\" >1.000000</td>\n",
       "      <td id=\"T_69cb9_row1_col2\" class=\"data row1 col2\" >0.107783</td>\n",
       "      <td id=\"T_69cb9_row1_col3\" class=\"data row1 col3\" >-0.331082</td>\n",
       "      <td id=\"T_69cb9_row1_col4\" class=\"data row1 col4\" >0.020042</td>\n",
       "      <td id=\"T_69cb9_row1_col5\" class=\"data row1 col5\" >0.025494</td>\n",
       "    </tr>\n",
       "    <tr>\n",
       "      <th id=\"T_69cb9_level0_row2\" class=\"row_heading level0 row2\" >power</th>\n",
       "      <td id=\"T_69cb9_row2_col0\" class=\"data row2 col0\" >0.505785</td>\n",
       "      <td id=\"T_69cb9_row2_col1\" class=\"data row2 col1\" >0.107783</td>\n",
       "      <td id=\"T_69cb9_row2_col2\" class=\"data row2 col2\" >1.000000</td>\n",
       "      <td id=\"T_69cb9_row2_col3\" class=\"data row2 col3\" >0.100283</td>\n",
       "      <td id=\"T_69cb9_row2_col4\" class=\"data row2 col4\" >0.048981</td>\n",
       "      <td id=\"T_69cb9_row2_col5\" class=\"data row2 col5\" >0.032477</td>\n",
       "    </tr>\n",
       "    <tr>\n",
       "      <th id=\"T_69cb9_level0_row3\" class=\"row_heading level0 row3\" >kilometer</th>\n",
       "      <td id=\"T_69cb9_row3_col0\" class=\"data row3 col0\" >-0.394180</td>\n",
       "      <td id=\"T_69cb9_row3_col1\" class=\"data row3 col1\" >-0.331082</td>\n",
       "      <td id=\"T_69cb9_row3_col2\" class=\"data row3 col2\" >0.100283</td>\n",
       "      <td id=\"T_69cb9_row3_col3\" class=\"data row3 col3\" >1.000000</td>\n",
       "      <td id=\"T_69cb9_row3_col4\" class=\"data row3 col4\" >-0.016336</td>\n",
       "      <td id=\"T_69cb9_row3_col5\" class=\"data row3 col5\" >-0.006980</td>\n",
       "    </tr>\n",
       "    <tr>\n",
       "      <th id=\"T_69cb9_level0_row4\" class=\"row_heading level0 row4\" >postal_code</th>\n",
       "      <td id=\"T_69cb9_row4_col0\" class=\"data row4 col0\" >0.057199</td>\n",
       "      <td id=\"T_69cb9_row4_col1\" class=\"data row4 col1\" >0.020042</td>\n",
       "      <td id=\"T_69cb9_row4_col2\" class=\"data row4 col2\" >0.048981</td>\n",
       "      <td id=\"T_69cb9_row4_col3\" class=\"data row4 col3\" >-0.016336</td>\n",
       "      <td id=\"T_69cb9_row4_col4\" class=\"data row4 col4\" >1.000000</td>\n",
       "      <td id=\"T_69cb9_row4_col5\" class=\"data row4 col5\" >-0.003173</td>\n",
       "    </tr>\n",
       "    <tr>\n",
       "      <th id=\"T_69cb9_level0_row5\" class=\"row_heading level0 row5\" >registration_month</th>\n",
       "      <td id=\"T_69cb9_row5_col0\" class=\"data row5 col0\" >0.043678</td>\n",
       "      <td id=\"T_69cb9_row5_col1\" class=\"data row5 col1\" >0.025494</td>\n",
       "      <td id=\"T_69cb9_row5_col2\" class=\"data row5 col2\" >0.032477</td>\n",
       "      <td id=\"T_69cb9_row5_col3\" class=\"data row5 col3\" >-0.006980</td>\n",
       "      <td id=\"T_69cb9_row5_col4\" class=\"data row5 col4\" >-0.003173</td>\n",
       "      <td id=\"T_69cb9_row5_col5\" class=\"data row5 col5\" >1.000000</td>\n",
       "    </tr>\n",
       "  </tbody>\n",
       "</table>\n"
      ],
      "text/plain": [
       "<pandas.io.formats.style.Styler at 0x121d8358580>"
      ]
     },
     "execution_count": 65,
     "metadata": {},
     "output_type": "execute_result"
    }
   ],
   "source": [
    "df_corr.corr().style.background_gradient(cmap='viridis')"
   ]
  },
  {
   "cell_type": "markdown",
   "id": "91f77074",
   "metadata": {},
   "source": [
    "**Получается цена авто зависит от года регистрации и от мощности двигателя. Отрицательно значение корреляции в километраже \"говорит\" о том, что зависимость обратная- с увеличением пробега уменьшается стоймость товара.**\n",
    "\n",
    "**Вывод после подготовки данных:**\n",
    "\n",
    "**1) Переименованы столбцы;**\n",
    "\n",
    "**2) Изменен тип данных на Datetime;**\n",
    "\n",
    "**3) Обработаны столбцы с пропусками, аномалиями или просто нулевыми значениями.**\n",
    "\n",
    "**4) удалены ненужные столбцы с признаками**\n",
    "\n",
    "**5) найдены числовые параметры, влияющие на ценообразование: мощность, пробег и год покупки.**"
   ]
  },
  {
   "cell_type": "markdown",
   "id": "f2eda568",
   "metadata": {},
   "source": [
    "## Обучение моделей"
   ]
  },
  {
   "cell_type": "markdown",
   "id": "59cd2df2",
   "metadata": {},
   "source": [
    "### Разделение на выборки."
   ]
  },
  {
   "cell_type": "markdown",
   "id": "647cbdac",
   "metadata": {},
   "source": [
    "Я решила разделить данные oбучающую (60%), валидационную (20%) и тестовую (20%). На обучающей я буду учить, на валидационной считать метрику. А проверочную(тестовую) было сказано в задании приберечь для лучшей модели."
   ]
  },
  {
   "cell_type": "code",
   "execution_count": 66,
   "id": "a5afdde0",
   "metadata": {
    "ExecuteTime": {
     "end_time": "2022-12-02T20:24:49.164832Z",
     "start_time": "2022-12-02T20:24:49.134848Z"
    }
   },
   "outputs": [],
   "source": [
    "# разделим датафрейм на признаки features и целевой признак target \n",
    "\n",
    "features = df.drop(['price'], axis=1) # копируем все признаки, кроме целевого\n",
    "target = df['price'] # целевой признак"
   ]
  },
  {
   "cell_type": "markdown",
   "id": "c64dcd2f",
   "metadata": {},
   "source": [
    "Вроде бы все получилось, только нужно масштабировать признаки."
   ]
  },
  {
   "cell_type": "markdown",
   "id": "d45d547e",
   "metadata": {},
   "source": [
    "### Linear Regression"
   ]
  },
  {
   "cell_type": "markdown",
   "id": "80907378",
   "metadata": {},
   "source": [
    "### Преобразование признаков для LR."
   ]
  },
  {
   "cell_type": "code",
   "execution_count": 67,
   "id": "a07a19cf",
   "metadata": {
    "ExecuteTime": {
     "end_time": "2022-12-02T20:24:49.196813Z",
     "start_time": "2022-12-02T20:24:49.166829Z"
    }
   },
   "outputs": [],
   "source": [
    "features_lg = features.copy()"
   ]
  },
  {
   "cell_type": "code",
   "execution_count": 68,
   "id": "f648d33d",
   "metadata": {
    "ExecuteTime": {
     "end_time": "2022-12-02T20:24:49.900424Z",
     "start_time": "2022-12-02T20:24:49.199810Z"
    }
   },
   "outputs": [],
   "source": [
    "features_lg = pd.get_dummies(features_lg,\n",
    "               columns=['vehicle_type',\n",
    "                         'gearbox', \n",
    "                         'model',\n",
    "                         'fuel_type',\n",
    "                         'brand',\n",
    "                         'repaired'], \n",
    "                prefix=[\"vehicle\",\n",
    "                        \"gearbox\", \n",
    "                        'model', \n",
    "                        'fuel',\n",
    "                        'brand',\n",
    "                        'repair' \n",
    "                               ])"
   ]
  },
  {
   "cell_type": "code",
   "execution_count": 69,
   "id": "c6600389",
   "metadata": {
    "ExecuteTime": {
     "end_time": "2022-12-02T20:24:49.963374Z",
     "start_time": "2022-12-02T20:24:49.903405Z"
    },
    "scrolled": true
   },
   "outputs": [
    {
     "data": {
      "text/html": [
       "<div>\n",
       "<style scoped>\n",
       "    .dataframe tbody tr th:only-of-type {\n",
       "        vertical-align: middle;\n",
       "    }\n",
       "\n",
       "    .dataframe tbody tr th {\n",
       "        vertical-align: top;\n",
       "    }\n",
       "\n",
       "    .dataframe thead th {\n",
       "        text-align: right;\n",
       "    }\n",
       "</style>\n",
       "<table border=\"1\" class=\"dataframe\">\n",
       "  <thead>\n",
       "    <tr style=\"text-align: right;\">\n",
       "      <th></th>\n",
       "      <th>registration_year</th>\n",
       "      <th>power</th>\n",
       "      <th>kilometer</th>\n",
       "      <th>registration_month</th>\n",
       "      <th>postal_code</th>\n",
       "      <th>vehicle_bus</th>\n",
       "      <th>vehicle_convertible</th>\n",
       "      <th>vehicle_coupe</th>\n",
       "      <th>vehicle_n/a</th>\n",
       "      <th>vehicle_other</th>\n",
       "      <th>...</th>\n",
       "      <th>brand_sonstige_autos</th>\n",
       "      <th>brand_subaru</th>\n",
       "      <th>brand_suzuki</th>\n",
       "      <th>brand_toyota</th>\n",
       "      <th>brand_trabant</th>\n",
       "      <th>brand_volkswagen</th>\n",
       "      <th>brand_volvo</th>\n",
       "      <th>repair_no</th>\n",
       "      <th>repair_other</th>\n",
       "      <th>repair_yes</th>\n",
       "    </tr>\n",
       "  </thead>\n",
       "  <tbody>\n",
       "    <tr>\n",
       "      <th>0</th>\n",
       "      <td>2011</td>\n",
       "      <td>190</td>\n",
       "      <td>125000</td>\n",
       "      <td>5</td>\n",
       "      <td>6</td>\n",
       "      <td>0</td>\n",
       "      <td>0</td>\n",
       "      <td>1</td>\n",
       "      <td>0</td>\n",
       "      <td>0</td>\n",
       "      <td>...</td>\n",
       "      <td>0</td>\n",
       "      <td>0</td>\n",
       "      <td>0</td>\n",
       "      <td>0</td>\n",
       "      <td>0</td>\n",
       "      <td>0</td>\n",
       "      <td>0</td>\n",
       "      <td>0</td>\n",
       "      <td>0</td>\n",
       "      <td>1</td>\n",
       "    </tr>\n",
       "    <tr>\n",
       "      <th>1</th>\n",
       "      <td>2004</td>\n",
       "      <td>163</td>\n",
       "      <td>125000</td>\n",
       "      <td>8</td>\n",
       "      <td>9</td>\n",
       "      <td>0</td>\n",
       "      <td>0</td>\n",
       "      <td>0</td>\n",
       "      <td>0</td>\n",
       "      <td>0</td>\n",
       "      <td>...</td>\n",
       "      <td>0</td>\n",
       "      <td>0</td>\n",
       "      <td>0</td>\n",
       "      <td>0</td>\n",
       "      <td>0</td>\n",
       "      <td>0</td>\n",
       "      <td>0</td>\n",
       "      <td>0</td>\n",
       "      <td>1</td>\n",
       "      <td>0</td>\n",
       "    </tr>\n",
       "    <tr>\n",
       "      <th>2</th>\n",
       "      <td>2001</td>\n",
       "      <td>75</td>\n",
       "      <td>150000</td>\n",
       "      <td>6</td>\n",
       "      <td>9</td>\n",
       "      <td>0</td>\n",
       "      <td>0</td>\n",
       "      <td>0</td>\n",
       "      <td>0</td>\n",
       "      <td>0</td>\n",
       "      <td>...</td>\n",
       "      <td>0</td>\n",
       "      <td>0</td>\n",
       "      <td>0</td>\n",
       "      <td>0</td>\n",
       "      <td>0</td>\n",
       "      <td>1</td>\n",
       "      <td>0</td>\n",
       "      <td>1</td>\n",
       "      <td>0</td>\n",
       "      <td>0</td>\n",
       "    </tr>\n",
       "    <tr>\n",
       "      <th>3</th>\n",
       "      <td>2008</td>\n",
       "      <td>69</td>\n",
       "      <td>90000</td>\n",
       "      <td>7</td>\n",
       "      <td>6</td>\n",
       "      <td>0</td>\n",
       "      <td>0</td>\n",
       "      <td>0</td>\n",
       "      <td>0</td>\n",
       "      <td>0</td>\n",
       "      <td>...</td>\n",
       "      <td>0</td>\n",
       "      <td>0</td>\n",
       "      <td>0</td>\n",
       "      <td>0</td>\n",
       "      <td>0</td>\n",
       "      <td>0</td>\n",
       "      <td>0</td>\n",
       "      <td>1</td>\n",
       "      <td>0</td>\n",
       "      <td>0</td>\n",
       "    </tr>\n",
       "    <tr>\n",
       "      <th>4</th>\n",
       "      <td>1995</td>\n",
       "      <td>102</td>\n",
       "      <td>150000</td>\n",
       "      <td>10</td>\n",
       "      <td>3</td>\n",
       "      <td>0</td>\n",
       "      <td>0</td>\n",
       "      <td>0</td>\n",
       "      <td>0</td>\n",
       "      <td>0</td>\n",
       "      <td>...</td>\n",
       "      <td>0</td>\n",
       "      <td>0</td>\n",
       "      <td>0</td>\n",
       "      <td>0</td>\n",
       "      <td>0</td>\n",
       "      <td>0</td>\n",
       "      <td>0</td>\n",
       "      <td>0</td>\n",
       "      <td>0</td>\n",
       "      <td>1</td>\n",
       "    </tr>\n",
       "    <tr>\n",
       "      <th>...</th>\n",
       "      <td>...</td>\n",
       "      <td>...</td>\n",
       "      <td>...</td>\n",
       "      <td>...</td>\n",
       "      <td>...</td>\n",
       "      <td>...</td>\n",
       "      <td>...</td>\n",
       "      <td>...</td>\n",
       "      <td>...</td>\n",
       "      <td>...</td>\n",
       "      <td>...</td>\n",
       "      <td>...</td>\n",
       "      <td>...</td>\n",
       "      <td>...</td>\n",
       "      <td>...</td>\n",
       "      <td>...</td>\n",
       "      <td>...</td>\n",
       "      <td>...</td>\n",
       "      <td>...</td>\n",
       "      <td>...</td>\n",
       "      <td>...</td>\n",
       "    </tr>\n",
       "    <tr>\n",
       "      <th>290346</th>\n",
       "      <td>2016</td>\n",
       "      <td>150</td>\n",
       "      <td>150000</td>\n",
       "      <td>12</td>\n",
       "      <td>5</td>\n",
       "      <td>0</td>\n",
       "      <td>0</td>\n",
       "      <td>0</td>\n",
       "      <td>1</td>\n",
       "      <td>0</td>\n",
       "      <td>...</td>\n",
       "      <td>0</td>\n",
       "      <td>0</td>\n",
       "      <td>0</td>\n",
       "      <td>0</td>\n",
       "      <td>0</td>\n",
       "      <td>0</td>\n",
       "      <td>0</td>\n",
       "      <td>1</td>\n",
       "      <td>0</td>\n",
       "      <td>0</td>\n",
       "    </tr>\n",
       "    <tr>\n",
       "      <th>290347</th>\n",
       "      <td>2004</td>\n",
       "      <td>225</td>\n",
       "      <td>150000</td>\n",
       "      <td>5</td>\n",
       "      <td>9</td>\n",
       "      <td>0</td>\n",
       "      <td>0</td>\n",
       "      <td>0</td>\n",
       "      <td>0</td>\n",
       "      <td>0</td>\n",
       "      <td>...</td>\n",
       "      <td>0</td>\n",
       "      <td>0</td>\n",
       "      <td>0</td>\n",
       "      <td>0</td>\n",
       "      <td>0</td>\n",
       "      <td>0</td>\n",
       "      <td>0</td>\n",
       "      <td>0</td>\n",
       "      <td>0</td>\n",
       "      <td>1</td>\n",
       "    </tr>\n",
       "    <tr>\n",
       "      <th>290348</th>\n",
       "      <td>2000</td>\n",
       "      <td>101</td>\n",
       "      <td>125000</td>\n",
       "      <td>3</td>\n",
       "      <td>2</td>\n",
       "      <td>0</td>\n",
       "      <td>1</td>\n",
       "      <td>0</td>\n",
       "      <td>0</td>\n",
       "      <td>0</td>\n",
       "      <td>...</td>\n",
       "      <td>0</td>\n",
       "      <td>0</td>\n",
       "      <td>0</td>\n",
       "      <td>0</td>\n",
       "      <td>0</td>\n",
       "      <td>0</td>\n",
       "      <td>0</td>\n",
       "      <td>1</td>\n",
       "      <td>0</td>\n",
       "      <td>0</td>\n",
       "    </tr>\n",
       "    <tr>\n",
       "      <th>290349</th>\n",
       "      <td>1996</td>\n",
       "      <td>102</td>\n",
       "      <td>150000</td>\n",
       "      <td>3</td>\n",
       "      <td>8</td>\n",
       "      <td>1</td>\n",
       "      <td>0</td>\n",
       "      <td>0</td>\n",
       "      <td>0</td>\n",
       "      <td>0</td>\n",
       "      <td>...</td>\n",
       "      <td>0</td>\n",
       "      <td>0</td>\n",
       "      <td>0</td>\n",
       "      <td>0</td>\n",
       "      <td>0</td>\n",
       "      <td>1</td>\n",
       "      <td>0</td>\n",
       "      <td>1</td>\n",
       "      <td>0</td>\n",
       "      <td>0</td>\n",
       "    </tr>\n",
       "    <tr>\n",
       "      <th>290350</th>\n",
       "      <td>2002</td>\n",
       "      <td>100</td>\n",
       "      <td>150000</td>\n",
       "      <td>6</td>\n",
       "      <td>4</td>\n",
       "      <td>0</td>\n",
       "      <td>0</td>\n",
       "      <td>0</td>\n",
       "      <td>0</td>\n",
       "      <td>0</td>\n",
       "      <td>...</td>\n",
       "      <td>0</td>\n",
       "      <td>0</td>\n",
       "      <td>0</td>\n",
       "      <td>0</td>\n",
       "      <td>0</td>\n",
       "      <td>1</td>\n",
       "      <td>0</td>\n",
       "      <td>0</td>\n",
       "      <td>1</td>\n",
       "      <td>0</td>\n",
       "    </tr>\n",
       "  </tbody>\n",
       "</table>\n",
       "<p>290351 rows × 317 columns</p>\n",
       "</div>"
      ],
      "text/plain": [
       "        registration_year  power  kilometer  registration_month  postal_code  \\\n",
       "0                    2011    190     125000                   5            6   \n",
       "1                    2004    163     125000                   8            9   \n",
       "2                    2001     75     150000                   6            9   \n",
       "3                    2008     69      90000                   7            6   \n",
       "4                    1995    102     150000                  10            3   \n",
       "...                   ...    ...        ...                 ...          ...   \n",
       "290346               2016    150     150000                  12            5   \n",
       "290347               2004    225     150000                   5            9   \n",
       "290348               2000    101     125000                   3            2   \n",
       "290349               1996    102     150000                   3            8   \n",
       "290350               2002    100     150000                   6            4   \n",
       "\n",
       "        vehicle_bus  vehicle_convertible  vehicle_coupe  vehicle_n/a  \\\n",
       "0                 0                    0              1            0   \n",
       "1                 0                    0              0            0   \n",
       "2                 0                    0              0            0   \n",
       "3                 0                    0              0            0   \n",
       "4                 0                    0              0            0   \n",
       "...             ...                  ...            ...          ...   \n",
       "290346            0                    0              0            1   \n",
       "290347            0                    0              0            0   \n",
       "290348            0                    1              0            0   \n",
       "290349            1                    0              0            0   \n",
       "290350            0                    0              0            0   \n",
       "\n",
       "        vehicle_other  ...  brand_sonstige_autos  brand_subaru  brand_suzuki  \\\n",
       "0                   0  ...                     0             0             0   \n",
       "1                   0  ...                     0             0             0   \n",
       "2                   0  ...                     0             0             0   \n",
       "3                   0  ...                     0             0             0   \n",
       "4                   0  ...                     0             0             0   \n",
       "...               ...  ...                   ...           ...           ...   \n",
       "290346              0  ...                     0             0             0   \n",
       "290347              0  ...                     0             0             0   \n",
       "290348              0  ...                     0             0             0   \n",
       "290349              0  ...                     0             0             0   \n",
       "290350              0  ...                     0             0             0   \n",
       "\n",
       "        brand_toyota  brand_trabant  brand_volkswagen  brand_volvo  repair_no  \\\n",
       "0                  0              0                 0            0          0   \n",
       "1                  0              0                 0            0          0   \n",
       "2                  0              0                 1            0          1   \n",
       "3                  0              0                 0            0          1   \n",
       "4                  0              0                 0            0          0   \n",
       "...              ...            ...               ...          ...        ...   \n",
       "290346             0              0                 0            0          1   \n",
       "290347             0              0                 0            0          0   \n",
       "290348             0              0                 0            0          1   \n",
       "290349             0              0                 1            0          1   \n",
       "290350             0              0                 1            0          0   \n",
       "\n",
       "        repair_other  repair_yes  \n",
       "0                  0           1  \n",
       "1                  1           0  \n",
       "2                  0           0  \n",
       "3                  0           0  \n",
       "4                  0           1  \n",
       "...              ...         ...  \n",
       "290346             0           0  \n",
       "290347             0           1  \n",
       "290348             0           0  \n",
       "290349             0           0  \n",
       "290350             1           0  \n",
       "\n",
       "[290351 rows x 317 columns]"
      ]
     },
     "execution_count": 69,
     "metadata": {},
     "output_type": "execute_result"
    }
   ],
   "source": [
    "features_lg"
   ]
  },
  {
   "cell_type": "markdown",
   "id": "09788dfe",
   "metadata": {},
   "source": [
    "После кодирования доделаем нарезку признаков."
   ]
  },
  {
   "cell_type": "code",
   "execution_count": 70,
   "id": "6c7c3779",
   "metadata": {
    "ExecuteTime": {
     "end_time": "2022-12-02T20:24:50.903830Z",
     "start_time": "2022-12-02T20:24:49.965369Z"
    }
   },
   "outputs": [],
   "source": [
    "features_train_lg, features_other_lg, target_train_lg, target_other_lg = train_test_split(\n",
    "    features_lg,\n",
    "    target,\n",
    "    test_size=0.4,\n",
    "    random_state=12345,\n",
    ")"
   ]
  },
  {
   "cell_type": "code",
   "execution_count": 71,
   "id": "8968798c",
   "metadata": {
    "ExecuteTime": {
     "end_time": "2022-12-02T20:24:51.175673Z",
     "start_time": "2022-12-02T20:24:50.906828Z"
    }
   },
   "outputs": [],
   "source": [
    "features_valid_lg, features_test_lg, target_valid_lg, target_test_lg = train_test_split(\n",
    "    features_other_lg,\n",
    "    target_other_lg,\n",
    "    test_size=0.5,\n",
    "    random_state=12345,\n",
    ")"
   ]
  },
  {
   "cell_type": "markdown",
   "id": "b1d6bb12",
   "metadata": {},
   "source": [
    "Попробую масштабировать."
   ]
  },
  {
   "cell_type": "code",
   "execution_count": 72,
   "id": "f30ab778",
   "metadata": {
    "ExecuteTime": {
     "end_time": "2022-12-02T20:24:59.949774Z",
     "start_time": "2022-12-02T20:24:51.178673Z"
    }
   },
   "outputs": [
    {
     "name": "stdout",
     "output_type": "stream",
     "text": [
      "CPU times: total: 13.9 s\n",
      "Wall time: 8.75 s\n"
     ]
    }
   ],
   "source": [
    "%%time\n",
    "\n",
    "model_linear_regression=LinearRegression()\n",
    "\n",
    "start = time.time()\n",
    "model_linear_regression.fit(features_train_lg,target_train_lg)\n",
    "finish = time.time()\n",
    "\n",
    "time_linear_regression = round(finish-start, 3)"
   ]
  },
  {
   "cell_type": "markdown",
   "id": "23696f03",
   "metadata": {},
   "source": [
    "Попросим предсказать целевой признак на валидационной выборке."
   ]
  },
  {
   "cell_type": "code",
   "execution_count": 73,
   "id": "9f503eef",
   "metadata": {
    "ExecuteTime": {
     "end_time": "2022-12-02T20:25:00.231004Z",
     "start_time": "2022-12-02T20:24:59.949774Z"
    }
   },
   "outputs": [
    {
     "name": "stdout",
     "output_type": "stream",
     "text": [
      "CPU times: total: 359 ms\n",
      "Wall time: 266 ms\n"
     ]
    }
   ],
   "source": [
    "%%time\n",
    "\n",
    "start = time.time()\n",
    "predict_linear_regression = model_linear_regression.predict(features_valid_lg)\n",
    "finish = time.time()\n",
    "\n",
    "time_predict_linear_regression = round(finish-start, 3)"
   ]
  },
  {
   "cell_type": "code",
   "execution_count": 74,
   "id": "f16909a6",
   "metadata": {
    "ExecuteTime": {
     "end_time": "2022-12-02T20:25:00.262253Z",
     "start_time": "2022-12-02T20:25:00.231004Z"
    }
   },
   "outputs": [
    {
     "name": "stdout",
     "output_type": "stream",
     "text": [
      "RMSE Линейной регрессии составляет: 2523.0\n"
     ]
    }
   ],
   "source": [
    "mse_linear_regression = mean_squared_error(\n",
    "    target_valid_lg, \n",
    "    predict_linear_regression\n",
    ")\n",
    "\n",
    "rmse_linear_regression = math.sqrt(mse_linear_regression)\n",
    "\n",
    "print('RMSE Линейной регрессии составляет:', round(rmse_linear_regression, 0))"
   ]
  },
  {
   "cell_type": "markdown",
   "id": "97c9bb58",
   "metadata": {},
   "source": [
    "Вроде как эта модель уже устарела, её \"списали\". Попробуем ее чуть улучшенный аналог."
   ]
  },
  {
   "cell_type": "code",
   "execution_count": 77,
   "id": "5f376fbb",
   "metadata": {
    "ExecuteTime": {
     "end_time": "2022-12-02T20:30:30.006291Z",
     "start_time": "2022-12-02T20:30:29.994282Z"
    }
   },
   "outputs": [
    {
     "data": {
      "text/plain": [
       "2523.0"
      ]
     },
     "execution_count": 77,
     "metadata": {},
     "output_type": "execute_result"
    }
   ],
   "source": [
    "rmse_lg =  mean_squared_error(\n",
    "    target_valid_lg, \n",
    "    predict_linear_regression,\n",
    "    squared= False\n",
    ")\n",
    "rmse_lg.round(0)"
   ]
  },
  {
   "cell_type": "markdown",
   "id": "917ea2e1",
   "metadata": {
    "ExecuteTime": {
     "end_time": "2022-12-02T20:25:00.980969Z",
     "start_time": "2022-12-02T20:25:00.262253Z"
    }
   },
   "source": [
    "Пробовала масштабировать данные для Линейной регрессии, но явно что-то пошло не так. Если убрать масштабирование, то результат приближен к заданному в практикуме. На 23 больше заявленного порога. Но лучше, чем было с неправильным масштабированием."
   ]
  },
  {
   "cell_type": "markdown",
   "id": "a3f3db74",
   "metadata": {},
   "source": [
    "### SGDRegressor"
   ]
  },
  {
   "cell_type": "markdown",
   "id": "ce5aeb78",
   "metadata": {},
   "source": [
    "### Преобразование признаков для SGDR."
   ]
  },
  {
   "cell_type": "markdown",
   "id": "3c1166bb",
   "metadata": {},
   "source": [
    "Линейная регрессия со спуском- нашла на просторах интернета решила попробовать."
   ]
  },
  {
   "cell_type": "code",
   "execution_count": 81,
   "id": "f05ef8c9",
   "metadata": {
    "ExecuteTime": {
     "end_time": "2022-12-02T20:33:23.338429Z",
     "start_time": "2022-12-02T20:31:20.316629Z"
    }
   },
   "outputs": [
    {
     "name": "stdout",
     "output_type": "stream",
     "text": [
      "CPU times: total: 2min 2s\n",
      "Wall time: 2min 3s\n"
     ]
    }
   ],
   "source": [
    "%%time\n",
    "\n",
    "model_SGDRegressor = SGDRegressor(tol=.0001, eta0=.01) \n",
    "\n",
    "start = time.time()\n",
    "model_SGDRegressor.fit(features_train_lg,target_train_lg)\n",
    "finish = time.time()\n",
    "\n",
    "time_SGDRegressor = round(finish-start, 3)\n"
   ]
  },
  {
   "cell_type": "code",
   "execution_count": 82,
   "id": "27f52a9e",
   "metadata": {
    "ExecuteTime": {
     "end_time": "2022-12-02T20:33:48.259413Z",
     "start_time": "2022-12-02T20:33:48.015555Z"
    }
   },
   "outputs": [
    {
     "name": "stdout",
     "output_type": "stream",
     "text": [
      "RMSE Линейной регрессии c cо спуском составляет: 2523.0\n"
     ]
    }
   ],
   "source": [
    "start = time.time()\n",
    "predict_model_SGDRegressor = model_SGDRegressor.predict(features_valid_lg)\n",
    "finish = time.time()\n",
    "\n",
    "time_predict_SGDRegressor = round(finish-start, 3)\n",
    "\n",
    "mse = mean_squared_error(target_valid_lg, predict_model_SGDRegressor)\n",
    "rmse_SGDRegressor = math.sqrt(mse_linear_regression)\n",
    "\n",
    "print('RMSE Линейной регрессии c cо спуском составляет:', round(rmse_linear_regression, 0))"
   ]
  },
  {
   "cell_type": "markdown",
   "id": "04adfee8",
   "metadata": {},
   "source": [
    "### CatBoost"
   ]
  },
  {
   "cell_type": "markdown",
   "id": "67e29838",
   "metadata": {},
   "source": [
    "### Преобразование признаков для CB."
   ]
  },
  {
   "cell_type": "code",
   "execution_count": 83,
   "id": "c18caa99",
   "metadata": {
    "ExecuteTime": {
     "end_time": "2022-12-02T20:35:17.105577Z",
     "start_time": "2022-12-02T20:35:16.977652Z"
    }
   },
   "outputs": [],
   "source": [
    "features_train_cat, features_other_cat, target_train_cat, target_other_cat = train_test_split(\n",
    "    features,\n",
    "    target,\n",
    "    test_size=0.4,\n",
    "    random_state=12345,\n",
    ")"
   ]
  },
  {
   "cell_type": "code",
   "execution_count": 84,
   "id": "5de15cee",
   "metadata": {
    "ExecuteTime": {
     "end_time": "2022-12-02T20:35:17.944787Z",
     "start_time": "2022-12-02T20:35:17.889805Z"
    }
   },
   "outputs": [],
   "source": [
    "features_valid_cat, features_test_cat, target_valid_cat, target_test_cat = train_test_split(\n",
    "    features_other_cat,\n",
    "    target_other_cat,\n",
    "    test_size=0.5,\n",
    "    random_state=12345,\n",
    ")"
   ]
  },
  {
   "cell_type": "code",
   "execution_count": 85,
   "id": "e1b2a3c5",
   "metadata": {
    "ExecuteTime": {
     "end_time": "2022-12-02T20:35:19.467785Z",
     "start_time": "2022-12-02T20:35:19.462788Z"
    }
   },
   "outputs": [],
   "source": [
    "columns = [\n",
    "    'vehicle_type', \n",
    "    'gearbox',\n",
    "    'model',\n",
    "    'fuel_type', \n",
    "    'brand', \n",
    "    'repaired'\n",
    "]"
   ]
  },
  {
   "cell_type": "code",
   "execution_count": 86,
   "id": "d28cad94",
   "metadata": {
    "ExecuteTime": {
     "end_time": "2022-12-02T20:39:46.754407Z",
     "start_time": "2022-12-02T20:35:22.132091Z"
    }
   },
   "outputs": [
    {
     "name": "stdout",
     "output_type": "stream",
     "text": [
      "Learning rate set to 0.114484\n",
      "0:\tlearn: 4268.4252827\ttest: 4281.8481414\tbest: 4281.8481414 (0)\ttotal: 477ms\tremaining: 7m 56s\n",
      "100:\tlearn: 1710.8120305\ttest: 1699.6544127\tbest: 1699.6544127 (100)\ttotal: 22.8s\tremaining: 3m 23s\n",
      "200:\tlearn: 1631.5260042\ttest: 1631.7009266\tbest: 1631.7009266 (200)\ttotal: 50.9s\tremaining: 3m 22s\n",
      "300:\tlearn: 1594.1183913\ttest: 1604.9324626\tbest: 1604.9324626 (300)\ttotal: 1m 14s\tremaining: 2m 53s\n",
      "400:\tlearn: 1567.3895056\ttest: 1589.2281579\tbest: 1589.2281579 (400)\ttotal: 1m 39s\tremaining: 2m 29s\n",
      "500:\tlearn: 1546.4068821\ttest: 1576.1465313\tbest: 1576.1213626 (499)\ttotal: 2m 5s\tremaining: 2m 4s\n",
      "600:\tlearn: 1527.5776704\ttest: 1565.4837075\tbest: 1565.4837075 (600)\ttotal: 2m 32s\tremaining: 1m 41s\n",
      "700:\tlearn: 1512.8156117\ttest: 1558.6413065\tbest: 1558.6413065 (700)\ttotal: 3m 3s\tremaining: 1m 18s\n",
      "800:\tlearn: 1498.3976886\ttest: 1551.8116746\tbest: 1551.8116746 (800)\ttotal: 3m 29s\tremaining: 52.1s\n",
      "900:\tlearn: 1487.1825275\ttest: 1547.0083102\tbest: 1547.0083102 (900)\ttotal: 3m 57s\tremaining: 26s\n",
      "999:\tlearn: 1476.3021924\ttest: 1542.7582215\tbest: 1542.7582215 (999)\ttotal: 4m 22s\tremaining: 0us\n",
      "\n",
      "bestTest = 1542.758222\n",
      "bestIteration = 999\n",
      "\n",
      "CPU times: total: 13min 26s\n",
      "Wall time: 4min 24s\n"
     ]
    }
   ],
   "source": [
    "%%time\n",
    "\n",
    "model_catboost = CatBoostRegressor(random_state=12345, verbose=100, cat_features=columns)\n",
    "start = time.time()\n",
    "model_catboost.fit(features_train_cat, target_train_cat, eval_set=(features_valid_cat,target_valid_cat))\n",
    "finish = time.time()\n",
    "time_catboost = round(finish-start,3)"
   ]
  },
  {
   "cell_type": "code",
   "execution_count": 87,
   "id": "b29d9584",
   "metadata": {
    "ExecuteTime": {
     "end_time": "2022-12-02T20:40:46.928584Z",
     "start_time": "2022-12-02T20:40:46.442948Z"
    },
    "scrolled": true
   },
   "outputs": [
    {
     "name": "stdout",
     "output_type": "stream",
     "text": [
      "CPU times: total: 1.16 s\n",
      "Wall time: 467 ms\n"
     ]
    }
   ],
   "source": [
    "%%time\n",
    "start = time.time()\n",
    "predict_catboost = model_catboost.predict(features_valid_cat)\n",
    "finish = time.time()\n",
    "time_cat_predict = round(finish-start,3)"
   ]
  },
  {
   "cell_type": "code",
   "execution_count": 88,
   "id": "6b6f2357",
   "metadata": {
    "ExecuteTime": {
     "end_time": "2022-12-02T20:40:48.147304Z",
     "start_time": "2022-12-02T20:40:48.131312Z"
    }
   },
   "outputs": [
    {
     "name": "stdout",
     "output_type": "stream",
     "text": [
      "RMSE CatBoost составляет: 1543.0\n"
     ]
    }
   ],
   "source": [
    "mae_catboost =  mean_squared_error(target_valid_cat, predict_catboost).round(2)\n",
    "rmse_catboost = math.sqrt(mae_catboost)\n",
    "print('RMSE CatBoost составляет:', round(rmse_catboost, 0))"
   ]
  },
  {
   "cell_type": "markdown",
   "id": "77f8d0b4",
   "metadata": {},
   "source": [
    "Поиск лучших значений гиперпараметров с помощью грида для CatBoost. Я не стала вводить параметр времени для поиска гиперпараметров: по-первых, я не понимаю какие параметры важны и в каком диапазоне их кормить гриду. (более менее понимаю лес и как-то фиксировала переобучение, но методом научного \"тыка\"). Я пыталась найти в интернете информацию хоть какую-то, но увы-либо я плохо ищу, либо это математика, либо это приходит с опытом."
   ]
  },
  {
   "cell_type": "code",
   "execution_count": 89,
   "id": "7a2cafaf",
   "metadata": {
    "ExecuteTime": {
     "end_time": "2022-12-02T20:40:53.535140Z",
     "start_time": "2022-12-02T20:40:53.517152Z"
    }
   },
   "outputs": [],
   "source": [
    "#model_cat = CatBoostRegressor(random_state=12345, verbose=100, cat_features=columns)\n",
    "#grid = {'learning_rate': [0.07, 0.1, 0.2],\n",
    "        #'depth': [2, 4, 6],\n",
    "        #'l2_leaf_reg': [1, 3, 5]}\n",
    "\n",
    "#grid_search_result = model_cat.grid_search(grid, X=features_train_cat, y=target_train_cat, plot=True)\n",
    "#grid_search_result"
   ]
  },
  {
   "cell_type": "markdown",
   "id": "f27c6633",
   "metadata": {},
   "source": [
    "Дабы не добить свой старенький ноутбук, я записала результаты грида в отдельную переменную, а эту ячейку закомментировала."
   ]
  },
  {
   "cell_type": "code",
   "execution_count": 90,
   "id": "3cc50b5d",
   "metadata": {
    "ExecuteTime": {
     "end_time": "2022-12-02T20:40:54.930807Z",
     "start_time": "2022-12-02T20:40:54.924828Z"
    }
   },
   "outputs": [],
   "source": [
    "grid_search_results = {'depth' : 6, 'l2_leaf_reg': 1, 'learning_rate': 0.2}"
   ]
  },
  {
   "cell_type": "code",
   "execution_count": 91,
   "id": "8b9544b4",
   "metadata": {
    "ExecuteTime": {
     "end_time": "2022-12-02T20:45:56.997984Z",
     "start_time": "2022-12-02T20:40:55.884980Z"
    }
   },
   "outputs": [
    {
     "name": "stdout",
     "output_type": "stream",
     "text": [
      "0:\tlearn: 4022.5809588\ttest: 4033.0914712\tbest: 4033.0914712 (0)\ttotal: 276ms\tremaining: 4m 35s\n",
      "100:\tlearn: 1651.8151877\ttest: 1649.1910404\tbest: 1649.1910404 (100)\ttotal: 29.2s\tremaining: 4m 19s\n",
      "200:\tlearn: 1575.9319634\ttest: 1594.8447138\tbest: 1594.8447138 (200)\ttotal: 56.6s\tremaining: 3m 44s\n",
      "300:\tlearn: 1535.9103535\ttest: 1571.8224555\tbest: 1571.8224555 (300)\ttotal: 1m 24s\tremaining: 3m 17s\n",
      "400:\tlearn: 1507.1089154\ttest: 1559.4516392\tbest: 1559.4516392 (400)\ttotal: 1m 55s\tremaining: 2m 52s\n",
      "500:\tlearn: 1484.2890521\ttest: 1551.5092167\tbest: 1551.5092167 (500)\ttotal: 2m 24s\tremaining: 2m 23s\n",
      "600:\tlearn: 1464.6169847\ttest: 1545.7845994\tbest: 1545.7261098 (599)\ttotal: 2m 53s\tremaining: 1m 54s\n",
      "700:\tlearn: 1448.1619930\ttest: 1540.1772202\tbest: 1540.1772202 (700)\ttotal: 3m 19s\tremaining: 1m 25s\n",
      "800:\tlearn: 1431.7143989\ttest: 1534.8356462\tbest: 1534.8356462 (800)\ttotal: 3m 50s\tremaining: 57.2s\n",
      "900:\tlearn: 1416.3776682\ttest: 1529.5709092\tbest: 1529.5709092 (900)\ttotal: 4m 28s\tremaining: 29.5s\n",
      "999:\tlearn: 1405.1468794\ttest: 1526.4922131\tbest: 1526.4922131 (999)\ttotal: 4m 58s\tremaining: 0us\n",
      "\n",
      "bestTest = 1526.492213\n",
      "bestIteration = 999\n",
      "\n",
      "CPU times: total: 13min 41s\n",
      "Wall time: 5min 1s\n"
     ]
    }
   ],
   "source": [
    "%%time\n",
    "\n",
    "model_catboost_grid = CatBoostRegressor(random_state=12345,\n",
    "                                        depth = 6, \n",
    "                                        l2_leaf_reg = 1,\n",
    "                                        learning_rate = 0.2,\n",
    "                                        verbose=100,\n",
    "                                        cat_features=columns\n",
    "                                       )\n",
    "start = time.time()\n",
    "model_catboost_grid.fit(features_train_cat, target_train_cat, eval_set=(features_valid_cat,target_valid_cat))\n",
    "finish = time.time()\n",
    "time_catboost_grid = round(finish-start,3)"
   ]
  },
  {
   "cell_type": "code",
   "execution_count": 92,
   "id": "0802786c",
   "metadata": {
    "ExecuteTime": {
     "end_time": "2022-12-02T20:49:15.757827Z",
     "start_time": "2022-12-02T20:49:15.169833Z"
    }
   },
   "outputs": [
    {
     "name": "stdout",
     "output_type": "stream",
     "text": [
      "CPU times: total: 1.56 s\n",
      "Wall time: 555 ms\n"
     ]
    }
   ],
   "source": [
    "%%time\n",
    "start = time.time()\n",
    "predict_catboost_grid = model_catboost_grid.predict(features_valid_cat)\n",
    "finish = time.time()\n",
    "time_cat_predict_grid = round(finish-start,3)"
   ]
  },
  {
   "cell_type": "code",
   "execution_count": 93,
   "id": "b245424f",
   "metadata": {
    "ExecuteTime": {
     "end_time": "2022-12-02T20:49:16.779420Z",
     "start_time": "2022-12-02T20:49:16.738677Z"
    }
   },
   "outputs": [
    {
     "name": "stdout",
     "output_type": "stream",
     "text": [
      "RMSE CatBoost составляет: 1526.0\n"
     ]
    }
   ],
   "source": [
    "mae_catboost_grid =  mean_squared_error(target_valid_cat, predict_catboost_grid).round(2)\n",
    "rmse_catboost_grid = math.sqrt(mae_catboost_grid)\n",
    "print('RMSE CatBoost составляет:', round(rmse_catboost_grid, 0))"
   ]
  },
  {
   "cell_type": "markdown",
   "id": "8e867ed9",
   "metadata": {},
   "source": [
    "Значения RMSE у модели с подобранными гиперпараметрами чуть меньше чем без параметров."
   ]
  },
  {
   "cell_type": "markdown",
   "id": "fa043bb7",
   "metadata": {},
   "source": [
    "### LightGBM"
   ]
  },
  {
   "cell_type": "markdown",
   "id": "ccb49722",
   "metadata": {},
   "source": [
    "### Преобразование признаков для LGBM."
   ]
  },
  {
   "cell_type": "markdown",
   "id": "9a764528",
   "metadata": {},
   "source": [
    "Измение типа колонок с категориальными признаками для обучения данной модели."
   ]
  },
  {
   "cell_type": "code",
   "execution_count": 94,
   "id": "6ceca336",
   "metadata": {
    "ExecuteTime": {
     "end_time": "2022-12-02T20:49:29.641099Z",
     "start_time": "2022-12-02T20:49:29.146980Z"
    }
   },
   "outputs": [
    {
     "name": "stdout",
     "output_type": "stream",
     "text": [
      "<class 'pandas.core.frame.DataFrame'>\n",
      "RangeIndex: 290351 entries, 0 to 290350\n",
      "Data columns (total 11 columns):\n",
      " #   Column              Non-Null Count   Dtype   \n",
      "---  ------              --------------   -----   \n",
      " 0   vehicle_type        290351 non-null  category\n",
      " 1   registration_year   290351 non-null  int64   \n",
      " 2   gearbox             290351 non-null  category\n",
      " 3   power               290351 non-null  int32   \n",
      " 4   model               290351 non-null  category\n",
      " 5   kilometer           290351 non-null  int64   \n",
      " 6   registration_month  290351 non-null  int64   \n",
      " 7   fuel_type           290351 non-null  category\n",
      " 8   brand               290351 non-null  category\n",
      " 9   repaired            290351 non-null  category\n",
      " 10  postal_code         290351 non-null  int32   \n",
      "dtypes: category(6), int32(2), int64(3)\n",
      "memory usage: 10.8 MB\n"
     ]
    }
   ],
   "source": [
    "features_LightGBM = features.copy()\n",
    "features_LightGBM[columns] = features_LightGBM[columns].astype('category')\n",
    "features_LightGBM.info()"
   ]
  },
  {
   "cell_type": "code",
   "execution_count": 95,
   "id": "d175d9fb",
   "metadata": {
    "ExecuteTime": {
     "end_time": "2022-12-02T20:49:31.495227Z",
     "start_time": "2022-12-02T20:49:31.363035Z"
    }
   },
   "outputs": [],
   "source": [
    "features_train_LightGBM, features_other_LightGBM, target_train_LightGBM, target_other_LightGBM = train_test_split(\n",
    "    features_LightGBM,\n",
    "    target,\n",
    "    test_size=0.4,\n",
    "    random_state=12345,\n",
    ")"
   ]
  },
  {
   "cell_type": "code",
   "execution_count": 96,
   "id": "6daefb85",
   "metadata": {
    "ExecuteTime": {
     "end_time": "2022-12-02T20:49:32.353394Z",
     "start_time": "2022-12-02T20:49:32.313434Z"
    }
   },
   "outputs": [],
   "source": [
    "features_valid_LightGBM, features_test_LightGBM, target_valid_LightGBM, target_test_LightGBM = train_test_split(\n",
    "    features_other_LightGBM,\n",
    "    target_other_LightGBM,\n",
    "    test_size=0.5,\n",
    "    random_state=12345,\n",
    ")"
   ]
  },
  {
   "cell_type": "code",
   "execution_count": 97,
   "id": "9813aa08",
   "metadata": {
    "ExecuteTime": {
     "end_time": "2022-12-02T20:49:35.584697Z",
     "start_time": "2022-12-02T20:49:34.005729Z"
    },
    "scrolled": true
   },
   "outputs": [
    {
     "name": "stdout",
     "output_type": "stream",
     "text": [
      "[100]\ttraining's rmse: 1331.45\n",
      "CPU times: total: 5.41 s\n",
      "Wall time: 1.56 s\n"
     ]
    }
   ],
   "source": [
    "%%time\n",
    "\n",
    "start = time.time()\n",
    "model_lgb = lgbm.sklearn.LGBMRegressor(objective='rmse', learning_rate=0.2, max_depth=20, num_leaves=100 )\n",
    "model_lgb.fit(features_train_LightGBM,\n",
    "              target_train_LightGBM,\n",
    "              eval_set=(features_train_LightGBM, target_train_LightGBM),\n",
    "              verbose=100)\n",
    "finish = time.time()\n",
    "time_lgb=round(finish-start,2)"
   ]
  },
  {
   "cell_type": "code",
   "execution_count": 98,
   "id": "a146fe21",
   "metadata": {
    "ExecuteTime": {
     "end_time": "2022-12-02T20:49:36.694853Z",
     "start_time": "2022-12-02T20:49:36.386087Z"
    }
   },
   "outputs": [
    {
     "name": "stdout",
     "output_type": "stream",
     "text": [
      "CPU times: total: 906 ms\n",
      "Wall time: 294 ms\n"
     ]
    }
   ],
   "source": [
    "%%time\n",
    "\n",
    "start = time.time()\n",
    "predict_model_lgb = model_lgb.predict(features_valid_LightGBM)\n",
    "finish = time.time()\n",
    "time_predict_model_lgb = round(finish-start,3)"
   ]
  },
  {
   "cell_type": "code",
   "execution_count": 99,
   "id": "0c91e9eb",
   "metadata": {
    "ExecuteTime": {
     "end_time": "2022-12-02T20:49:37.626163Z",
     "start_time": "2022-12-02T20:49:37.606175Z"
    }
   },
   "outputs": [
    {
     "name": "stdout",
     "output_type": "stream",
     "text": [
      "RMSE LightGBM составляет: 1517.0\n"
     ]
    }
   ],
   "source": [
    "mae_model_lgb =  mean_squared_error(target_valid_LightGBM, predict_model_lgb).round(2)\n",
    "rmse_model_lgb = math.sqrt(mae_model_lgb)\n",
    "print('RMSE LightGBM составляет:', round(rmse_model_lgb, 0))"
   ]
  },
  {
   "cell_type": "markdown",
   "id": "b6dcc212",
   "metadata": {},
   "source": [
    "Попробую подобрать параметры с помощью грида"
   ]
  },
  {
   "cell_type": "code",
   "execution_count": 100,
   "id": "5bd46b0c",
   "metadata": {
    "ExecuteTime": {
     "end_time": "2022-12-02T20:49:39.712854Z",
     "start_time": "2022-12-02T20:49:39.693864Z"
    }
   },
   "outputs": [],
   "source": [
    "# model_lgb_grid = lgbm.sklearn.LGBMRegressor(objective='rmse')\n",
    "# grid = {'max_depth': [20, 40, 60],\n",
    "#         'num_leaves': [50, 100, 150]}\n",
    "\n",
    "# grid_search_lgb = GridSearchCV(\n",
    "#     model_lgb_grid,\n",
    "#     param_grid=grid\n",
    "# )\n",
    "# grid_search_lgb.fit(features_train_LightGBM, target_train_LightGBM)\n",
    "\n",
    "\n",
    "# grid_search_lgb.best_params_"
   ]
  },
  {
   "cell_type": "markdown",
   "id": "0339a45b",
   "metadata": {},
   "source": [
    "'max_depth': 40, 'num_leaves': 150"
   ]
  },
  {
   "cell_type": "code",
   "execution_count": 101,
   "id": "6bcea3d8",
   "metadata": {
    "ExecuteTime": {
     "end_time": "2022-12-02T20:49:43.066390Z",
     "start_time": "2022-12-02T20:49:41.231487Z"
    },
    "scrolled": true
   },
   "outputs": [
    {
     "name": "stdout",
     "output_type": "stream",
     "text": [
      "[100]\ttraining's rmse: 1276.76\n",
      "CPU times: total: 6.16 s\n",
      "Wall time: 1.82 s\n"
     ]
    }
   ],
   "source": [
    "%%time\n",
    "\n",
    "start = time.time()\n",
    "model_lgb_grid_search = lgbm.sklearn.LGBMRegressor(objective='rmse', learning_rate=0.2, max_depth=40, num_leaves=150 )\n",
    "model_lgb_grid_search.fit(features_train_LightGBM,\n",
    "              target_train_LightGBM,\n",
    "              eval_set=(features_train_LightGBM, target_train_LightGBM),\n",
    "              verbose=100)\n",
    "finish = time.time()\n",
    "time_lgb=round(finish-start,2)"
   ]
  },
  {
   "cell_type": "code",
   "execution_count": 102,
   "id": "9d330f9d",
   "metadata": {
    "ExecuteTime": {
     "end_time": "2022-12-02T20:49:44.769587Z",
     "start_time": "2022-12-02T20:49:44.429015Z"
    }
   },
   "outputs": [
    {
     "name": "stdout",
     "output_type": "stream",
     "text": [
      "CPU times: total: 1.03 s\n",
      "Wall time: 321 ms\n"
     ]
    }
   ],
   "source": [
    "%%time\n",
    "\n",
    "start = time.time()\n",
    "predict_model_lgb_grid_search = model_lgb_grid_search.predict(features_valid_LightGBM)\n",
    "finish = time.time()\n",
    "time_predict_model_lgb_grid_search = round(finish-start,3)"
   ]
  },
  {
   "cell_type": "code",
   "execution_count": 103,
   "id": "bc58088c",
   "metadata": {
    "ExecuteTime": {
     "end_time": "2022-12-02T20:49:45.569437Z",
     "start_time": "2022-12-02T20:49:45.555425Z"
    }
   },
   "outputs": [
    {
     "name": "stdout",
     "output_type": "stream",
     "text": [
      "RMSE LightGBM составляет: 1517.0\n"
     ]
    }
   ],
   "source": [
    "mae_model_lgb_grid_search =  mean_squared_error(target_valid_LightGBM, predict_model_lgb).round(2)\n",
    "rmse_model_lgb_grid_search = math.sqrt(mae_model_lgb_grid_search)\n",
    "print('RMSE LightGBM составляет:', round(rmse_model_lgb_grid_search, 0))"
   ]
  },
  {
   "cell_type": "markdown",
   "id": "217353b6",
   "metadata": {},
   "source": [
    "RMSE LightGBM с подобранными параметрами имеет такое же значение, как и без подобранных."
   ]
  },
  {
   "cell_type": "markdown",
   "id": "16857a90",
   "metadata": {
    "ExecuteTime": {
     "end_time": "2022-11-23T08:11:17.669525Z",
     "start_time": "2022-11-23T08:11:17.637526Z"
    }
   },
   "source": [
    "### RandomForestRegressor"
   ]
  },
  {
   "cell_type": "markdown",
   "id": "a4c8a030",
   "metadata": {},
   "source": [
    "Мой любимый лес) ~и тихо и воздух свежий~ который всегда выигрывает среди моделей-посмотрим, как будет на этот раз"
   ]
  },
  {
   "cell_type": "markdown",
   "id": "4544d992",
   "metadata": {},
   "source": [
    "### Преобразование признаков для RFR."
   ]
  },
  {
   "cell_type": "markdown",
   "id": "a42da6ef",
   "metadata": {},
   "source": [
    "Выделим столбцы с категоральными переменными."
   ]
  },
  {
   "cell_type": "code",
   "execution_count": 104,
   "id": "5fac12ef",
   "metadata": {
    "ExecuteTime": {
     "end_time": "2022-12-02T20:49:56.190909Z",
     "start_time": "2022-12-02T20:49:55.559244Z"
    }
   },
   "outputs": [],
   "source": [
    "encoder = OrdinalEncoder()\n",
    "encoder.fit(features[columns])\n",
    "features_encoder = features.copy()\n",
    "features_encoder[columns] = pd.DataFrame(\n",
    "    encoder.transform(features[columns]),\n",
    "    columns=features[columns].columns\n",
    ")"
   ]
  },
  {
   "cell_type": "markdown",
   "id": "3a090253",
   "metadata": {},
   "source": [
    "После кодирования доделаем нарезку признаков."
   ]
  },
  {
   "cell_type": "code",
   "execution_count": 105,
   "id": "03326cfb",
   "metadata": {
    "ExecuteTime": {
     "end_time": "2022-12-02T20:49:58.290339Z",
     "start_time": "2022-12-02T20:49:58.149418Z"
    }
   },
   "outputs": [],
   "source": [
    "features_train_forest, features_other_forest, target_train_forest, target_other_forest = train_test_split(\n",
    "    features_encoder,\n",
    "    target,\n",
    "    test_size=0.4,\n",
    "    random_state=12345,\n",
    ")"
   ]
  },
  {
   "cell_type": "code",
   "execution_count": 106,
   "id": "ca531ade",
   "metadata": {
    "ExecuteTime": {
     "end_time": "2022-12-02T20:49:59.018868Z",
     "start_time": "2022-12-02T20:49:58.970899Z"
    }
   },
   "outputs": [],
   "source": [
    "features_valid_forest, features_test_forest, target_valid_forest, target_test_forest = train_test_split(\n",
    "    features_other_forest,\n",
    "    target_other_forest,\n",
    "    test_size=0.5,\n",
    "    random_state=12345,\n",
    ")"
   ]
  },
  {
   "cell_type": "markdown",
   "id": "03777c6e",
   "metadata": {},
   "source": [
    "Методом StandardScaler стандартизируем диапазон функциональных возможностей входного набора данных. \n",
    "\n",
    "Для этого выделим те столбцы, которые нужно преобразовать (все кроме индексов клиентов)"
   ]
  },
  {
   "cell_type": "code",
   "execution_count": 107,
   "id": "578f94a0",
   "metadata": {
    "ExecuteTime": {
     "end_time": "2022-12-02T20:50:00.750847Z",
     "start_time": "2022-12-02T20:50:00.545593Z"
    }
   },
   "outputs": [
    {
     "data": {
      "text/html": [
       "<div>\n",
       "<style scoped>\n",
       "    .dataframe tbody tr th:only-of-type {\n",
       "        vertical-align: middle;\n",
       "    }\n",
       "\n",
       "    .dataframe tbody tr th {\n",
       "        vertical-align: top;\n",
       "    }\n",
       "\n",
       "    .dataframe thead th {\n",
       "        text-align: right;\n",
       "    }\n",
       "</style>\n",
       "<table border=\"1\" class=\"dataframe\">\n",
       "  <thead>\n",
       "    <tr style=\"text-align: right;\">\n",
       "      <th></th>\n",
       "      <th>vehicle_type</th>\n",
       "      <th>registration_year</th>\n",
       "      <th>gearbox</th>\n",
       "      <th>power</th>\n",
       "      <th>model</th>\n",
       "      <th>kilometer</th>\n",
       "      <th>registration_month</th>\n",
       "      <th>fuel_type</th>\n",
       "      <th>brand</th>\n",
       "      <th>repaired</th>\n",
       "      <th>postal_code</th>\n",
       "    </tr>\n",
       "  </thead>\n",
       "  <tbody>\n",
       "    <tr>\n",
       "      <th>3126</th>\n",
       "      <td>8.0</td>\n",
       "      <td>0.481582</td>\n",
       "      <td>1.0</td>\n",
       "      <td>-0.397438</td>\n",
       "      <td>116.0</td>\n",
       "      <td>-0.095965</td>\n",
       "      <td>0.243735</td>\n",
       "      <td>2.0</td>\n",
       "      <td>38.0</td>\n",
       "      <td>0.0</td>\n",
       "      <td>0.051908</td>\n",
       "    </tr>\n",
       "    <tr>\n",
       "      <th>76913</th>\n",
       "      <td>5.0</td>\n",
       "      <td>-0.156455</td>\n",
       "      <td>1.0</td>\n",
       "      <td>-0.113745</td>\n",
       "      <td>11.0</td>\n",
       "      <td>0.587743</td>\n",
       "      <td>-0.354241</td>\n",
       "      <td>6.0</td>\n",
       "      <td>2.0</td>\n",
       "      <td>0.0</td>\n",
       "      <td>1.709647</td>\n",
       "    </tr>\n",
       "    <tr>\n",
       "      <th>159086</th>\n",
       "      <td>4.0</td>\n",
       "      <td>0.641091</td>\n",
       "      <td>1.0</td>\n",
       "      <td>0.340162</td>\n",
       "      <td>227.0</td>\n",
       "      <td>0.587743</td>\n",
       "      <td>-1.550194</td>\n",
       "      <td>2.0</td>\n",
       "      <td>33.0</td>\n",
       "      <td>0.0</td>\n",
       "      <td>-0.362526</td>\n",
       "    </tr>\n",
       "    <tr>\n",
       "      <th>148990</th>\n",
       "      <td>0.0</td>\n",
       "      <td>-0.475473</td>\n",
       "      <td>0.0</td>\n",
       "      <td>-0.283961</td>\n",
       "      <td>198.0</td>\n",
       "      <td>0.587743</td>\n",
       "      <td>0.542724</td>\n",
       "      <td>6.0</td>\n",
       "      <td>27.0</td>\n",
       "      <td>0.0</td>\n",
       "      <td>-1.605830</td>\n",
       "    </tr>\n",
       "    <tr>\n",
       "      <th>11144</th>\n",
       "      <td>5.0</td>\n",
       "      <td>-1.273019</td>\n",
       "      <td>1.0</td>\n",
       "      <td>-0.889171</td>\n",
       "      <td>116.0</td>\n",
       "      <td>0.587743</td>\n",
       "      <td>1.738677</td>\n",
       "      <td>6.0</td>\n",
       "      <td>38.0</td>\n",
       "      <td>0.0</td>\n",
       "      <td>1.295213</td>\n",
       "    </tr>\n",
       "  </tbody>\n",
       "</table>\n",
       "</div>"
      ],
      "text/plain": [
       "        vehicle_type  registration_year  gearbox     power  model  kilometer  \\\n",
       "3126             8.0           0.481582      1.0 -0.397438  116.0  -0.095965   \n",
       "76913            5.0          -0.156455      1.0 -0.113745   11.0   0.587743   \n",
       "159086           4.0           0.641091      1.0  0.340162  227.0   0.587743   \n",
       "148990           0.0          -0.475473      0.0 -0.283961  198.0   0.587743   \n",
       "11144            5.0          -1.273019      1.0 -0.889171  116.0   0.587743   \n",
       "\n",
       "        registration_month  fuel_type  brand  repaired  postal_code  \n",
       "3126              0.243735        2.0   38.0       0.0     0.051908  \n",
       "76913            -0.354241        6.0    2.0       0.0     1.709647  \n",
       "159086           -1.550194        2.0   33.0       0.0    -0.362526  \n",
       "148990            0.542724        6.0   27.0       0.0    -1.605830  \n",
       "11144             1.738677        6.0   38.0       0.0     1.295213  "
      ]
     },
     "metadata": {},
     "output_type": "display_data"
    },
    {
     "data": {
      "text/html": [
       "<div>\n",
       "<style scoped>\n",
       "    .dataframe tbody tr th:only-of-type {\n",
       "        vertical-align: middle;\n",
       "    }\n",
       "\n",
       "    .dataframe tbody tr th {\n",
       "        vertical-align: top;\n",
       "    }\n",
       "\n",
       "    .dataframe thead th {\n",
       "        text-align: right;\n",
       "    }\n",
       "</style>\n",
       "<table border=\"1\" class=\"dataframe\">\n",
       "  <thead>\n",
       "    <tr style=\"text-align: right;\">\n",
       "      <th></th>\n",
       "      <th>vehicle_type</th>\n",
       "      <th>registration_year</th>\n",
       "      <th>gearbox</th>\n",
       "      <th>power</th>\n",
       "      <th>model</th>\n",
       "      <th>kilometer</th>\n",
       "      <th>registration_month</th>\n",
       "      <th>fuel_type</th>\n",
       "      <th>brand</th>\n",
       "      <th>repaired</th>\n",
       "      <th>postal_code</th>\n",
       "    </tr>\n",
       "  </thead>\n",
       "  <tbody>\n",
       "    <tr>\n",
       "      <th>107006</th>\n",
       "      <td>5.0</td>\n",
       "      <td>-1.113510</td>\n",
       "      <td>0.0</td>\n",
       "      <td>1.682973</td>\n",
       "      <td>164.0</td>\n",
       "      <td>0.587743</td>\n",
       "      <td>0.542724</td>\n",
       "      <td>6.0</td>\n",
       "      <td>24.0</td>\n",
       "      <td>0.0</td>\n",
       "      <td>-1.191396</td>\n",
       "    </tr>\n",
       "    <tr>\n",
       "      <th>266566</th>\n",
       "      <td>0.0</td>\n",
       "      <td>-0.634982</td>\n",
       "      <td>1.0</td>\n",
       "      <td>-1.210690</td>\n",
       "      <td>133.0</td>\n",
       "      <td>0.587743</td>\n",
       "      <td>-0.653230</td>\n",
       "      <td>6.0</td>\n",
       "      <td>27.0</td>\n",
       "      <td>0.0</td>\n",
       "      <td>-0.362526</td>\n",
       "    </tr>\n",
       "    <tr>\n",
       "      <th>106781</th>\n",
       "      <td>8.0</td>\n",
       "      <td>1.279128</td>\n",
       "      <td>1.0</td>\n",
       "      <td>0.718419</td>\n",
       "      <td>29.0</td>\n",
       "      <td>-0.095965</td>\n",
       "      <td>0.542724</td>\n",
       "      <td>6.0</td>\n",
       "      <td>1.0</td>\n",
       "      <td>0.0</td>\n",
       "      <td>0.880778</td>\n",
       "    </tr>\n",
       "    <tr>\n",
       "      <th>18406</th>\n",
       "      <td>2.0</td>\n",
       "      <td>-3.346640</td>\n",
       "      <td>1.0</td>\n",
       "      <td>0.775157</td>\n",
       "      <td>166.0</td>\n",
       "      <td>0.587743</td>\n",
       "      <td>0.841712</td>\n",
       "      <td>6.0</td>\n",
       "      <td>26.0</td>\n",
       "      <td>0.0</td>\n",
       "      <td>0.051908</td>\n",
       "    </tr>\n",
       "    <tr>\n",
       "      <th>75208</th>\n",
       "      <td>6.0</td>\n",
       "      <td>1.438638</td>\n",
       "      <td>1.0</td>\n",
       "      <td>-0.889171</td>\n",
       "      <td>226.0</td>\n",
       "      <td>-1.326639</td>\n",
       "      <td>1.140700</td>\n",
       "      <td>6.0</td>\n",
       "      <td>27.0</td>\n",
       "      <td>0.0</td>\n",
       "      <td>0.051908</td>\n",
       "    </tr>\n",
       "  </tbody>\n",
       "</table>\n",
       "</div>"
      ],
      "text/plain": [
       "        vehicle_type  registration_year  gearbox     power  model  kilometer  \\\n",
       "107006           5.0          -1.113510      0.0  1.682973  164.0   0.587743   \n",
       "266566           0.0          -0.634982      1.0 -1.210690  133.0   0.587743   \n",
       "106781           8.0           1.279128      1.0  0.718419   29.0  -0.095965   \n",
       "18406            2.0          -3.346640      1.0  0.775157  166.0   0.587743   \n",
       "75208            6.0           1.438638      1.0 -0.889171  226.0  -1.326639   \n",
       "\n",
       "        registration_month  fuel_type  brand  repaired  postal_code  \n",
       "107006            0.542724        6.0   24.0       0.0    -1.191396  \n",
       "266566           -0.653230        6.0   27.0       0.0    -0.362526  \n",
       "106781            0.542724        6.0    1.0       0.0     0.880778  \n",
       "18406             0.841712        6.0   26.0       0.0     0.051908  \n",
       "75208             1.140700        6.0   27.0       0.0     0.051908  "
      ]
     },
     "metadata": {},
     "output_type": "display_data"
    },
    {
     "data": {
      "text/html": [
       "<div>\n",
       "<style scoped>\n",
       "    .dataframe tbody tr th:only-of-type {\n",
       "        vertical-align: middle;\n",
       "    }\n",
       "\n",
       "    .dataframe tbody tr th {\n",
       "        vertical-align: top;\n",
       "    }\n",
       "\n",
       "    .dataframe thead th {\n",
       "        text-align: right;\n",
       "    }\n",
       "</style>\n",
       "<table border=\"1\" class=\"dataframe\">\n",
       "  <thead>\n",
       "    <tr style=\"text-align: right;\">\n",
       "      <th></th>\n",
       "      <th>vehicle_type</th>\n",
       "      <th>registration_year</th>\n",
       "      <th>gearbox</th>\n",
       "      <th>power</th>\n",
       "      <th>model</th>\n",
       "      <th>kilometer</th>\n",
       "      <th>registration_month</th>\n",
       "      <th>fuel_type</th>\n",
       "      <th>brand</th>\n",
       "      <th>repaired</th>\n",
       "      <th>postal_code</th>\n",
       "    </tr>\n",
       "  </thead>\n",
       "  <tbody>\n",
       "    <tr>\n",
       "      <th>39598</th>\n",
       "      <td>8.0</td>\n",
       "      <td>0.003054</td>\n",
       "      <td>0.0</td>\n",
       "      <td>1.077763</td>\n",
       "      <td>31.0</td>\n",
       "      <td>0.587743</td>\n",
       "      <td>1.140700</td>\n",
       "      <td>2.0</td>\n",
       "      <td>1.0</td>\n",
       "      <td>0.0</td>\n",
       "      <td>1.295213</td>\n",
       "    </tr>\n",
       "    <tr>\n",
       "      <th>147683</th>\n",
       "      <td>0.0</td>\n",
       "      <td>-0.794492</td>\n",
       "      <td>1.0</td>\n",
       "      <td>-1.021561</td>\n",
       "      <td>223.0</td>\n",
       "      <td>0.587743</td>\n",
       "      <td>-0.055253</td>\n",
       "      <td>2.0</td>\n",
       "      <td>38.0</td>\n",
       "      <td>1.0</td>\n",
       "      <td>-1.191396</td>\n",
       "    </tr>\n",
       "    <tr>\n",
       "      <th>52759</th>\n",
       "      <td>0.0</td>\n",
       "      <td>-0.794492</td>\n",
       "      <td>1.0</td>\n",
       "      <td>-0.378525</td>\n",
       "      <td>223.0</td>\n",
       "      <td>0.587743</td>\n",
       "      <td>-0.055253</td>\n",
       "      <td>2.0</td>\n",
       "      <td>38.0</td>\n",
       "      <td>0.0</td>\n",
       "      <td>0.466343</td>\n",
       "    </tr>\n",
       "    <tr>\n",
       "      <th>288881</th>\n",
       "      <td>5.0</td>\n",
       "      <td>1.119619</td>\n",
       "      <td>1.0</td>\n",
       "      <td>-0.756782</td>\n",
       "      <td>102.0</td>\n",
       "      <td>-1.053156</td>\n",
       "      <td>-0.952218</td>\n",
       "      <td>6.0</td>\n",
       "      <td>10.0</td>\n",
       "      <td>0.0</td>\n",
       "      <td>-0.362526</td>\n",
       "    </tr>\n",
       "    <tr>\n",
       "      <th>157781</th>\n",
       "      <td>8.0</td>\n",
       "      <td>-0.156455</td>\n",
       "      <td>1.0</td>\n",
       "      <td>1.323630</td>\n",
       "      <td>11.0</td>\n",
       "      <td>0.587743</td>\n",
       "      <td>-0.653230</td>\n",
       "      <td>6.0</td>\n",
       "      <td>2.0</td>\n",
       "      <td>0.0</td>\n",
       "      <td>1.295213</td>\n",
       "    </tr>\n",
       "  </tbody>\n",
       "</table>\n",
       "</div>"
      ],
      "text/plain": [
       "        vehicle_type  registration_year  gearbox     power  model  kilometer  \\\n",
       "39598            8.0           0.003054      0.0  1.077763   31.0   0.587743   \n",
       "147683           0.0          -0.794492      1.0 -1.021561  223.0   0.587743   \n",
       "52759            0.0          -0.794492      1.0 -0.378525  223.0   0.587743   \n",
       "288881           5.0           1.119619      1.0 -0.756782  102.0  -1.053156   \n",
       "157781           8.0          -0.156455      1.0  1.323630   11.0   0.587743   \n",
       "\n",
       "        registration_month  fuel_type  brand  repaired  postal_code  \n",
       "39598             1.140700        2.0    1.0       0.0     1.295213  \n",
       "147683           -0.055253        2.0   38.0       1.0    -1.191396  \n",
       "52759            -0.055253        2.0   38.0       0.0     0.466343  \n",
       "288881           -0.952218        6.0   10.0       0.0    -0.362526  \n",
       "157781           -0.653230        6.0    2.0       0.0     1.295213  "
      ]
     },
     "metadata": {},
     "output_type": "display_data"
    }
   ],
   "source": [
    "numerical_columns = ['registration_year',\n",
    " 'power',\n",
    " 'kilometer',\n",
    " 'registration_month',\n",
    " 'postal_code']\n",
    "\n",
    "scaler = StandardScaler()\n",
    "scaler.fit(features_train_forest[numerical_columns])\n",
    "\n",
    "\n",
    "features_train_forest[numerical_columns] = scaler.transform(\n",
    "    features_train_forest[numerical_columns]\n",
    ")\n",
    "\n",
    "features_valid_forest[numerical_columns] = scaler.transform(\n",
    "    features_valid_forest[numerical_columns]\n",
    ")\n",
    "\n",
    "features_test_forest[numerical_columns] = scaler.transform(\n",
    "    features_test_forest[numerical_columns]\n",
    ")\n",
    "\n",
    "display(features_train_forest.head())\n",
    "display()\n",
    "display(features_valid_forest.head())\n",
    "display()\n",
    "display(features_test_forest.head())\n",
    "display()"
   ]
  },
  {
   "cell_type": "markdown",
   "id": "c1cf856e",
   "metadata": {},
   "source": [
    "Перейдем к обучению модели"
   ]
  },
  {
   "cell_type": "code",
   "execution_count": 108,
   "id": "c4e2ecd9",
   "metadata": {
    "ExecuteTime": {
     "end_time": "2022-12-02T20:51:33.447695Z",
     "start_time": "2022-12-02T20:50:07.341188Z"
    }
   },
   "outputs": [
    {
     "name": "stdout",
     "output_type": "stream",
     "text": [
      "CPU times: total: 1min 19s\n",
      "Wall time: 1min 26s\n"
     ]
    }
   ],
   "source": [
    "%%time\n",
    "\n",
    "start = time.time()\n",
    "model_forest = RandomForestRegressor(random_state=12345)\n",
    "model_forest.fit(features_train_forest, target_train_forest)\n",
    "finish = time.time()\n",
    "time_forest=round(finish-start,3)"
   ]
  },
  {
   "cell_type": "code",
   "execution_count": 109,
   "id": "5cc4476f",
   "metadata": {
    "ExecuteTime": {
     "end_time": "2022-12-02T20:52:22.721193Z",
     "start_time": "2022-12-02T20:52:16.392249Z"
    }
   },
   "outputs": [
    {
     "name": "stdout",
     "output_type": "stream",
     "text": [
      "CPU times: total: 5.23 s\n",
      "Wall time: 6.29 s\n"
     ]
    }
   ],
   "source": [
    "%%time\n",
    "\n",
    "start = time.time()\n",
    "predict_model_forest = model_forest.predict(features_valid_forest)\n",
    "finish = time.time()\n",
    "time_predict_model_forest = round(finish-start,3)"
   ]
  },
  {
   "cell_type": "code",
   "execution_count": 110,
   "id": "ec1906a3",
   "metadata": {
    "ExecuteTime": {
     "end_time": "2022-12-02T20:52:23.617997Z",
     "start_time": "2022-12-02T20:52:23.555033Z"
    },
    "scrolled": true
   },
   "outputs": [
    {
     "name": "stdout",
     "output_type": "stream",
     "text": [
      "RMSE RandomForestRegressor составляет: 1543.0\n"
     ]
    }
   ],
   "source": [
    "mae_model_forest =  mean_squared_error(target_valid_forest, predict_model_forest).round(2)\n",
    "rmse_model_forest = math.sqrt(mae_model_forest)\n",
    "print('RMSE RandomForestRegressor составляет:', round(rmse_model_forest, 0))"
   ]
  },
  {
   "cell_type": "code",
   "execution_count": 111,
   "id": "4e0cbd98",
   "metadata": {
    "ExecuteTime": {
     "end_time": "2022-12-02T20:52:25.935277Z",
     "start_time": "2022-12-02T20:52:25.916463Z"
    }
   },
   "outputs": [],
   "source": [
    "forest_for_grid_search = RandomForestRegressor()"
   ]
  },
  {
   "cell_type": "code",
   "execution_count": 112,
   "id": "21100aaa",
   "metadata": {
    "ExecuteTime": {
     "end_time": "2022-12-02T20:52:27.011625Z",
     "start_time": "2022-12-02T20:52:27.003633Z"
    }
   },
   "outputs": [],
   "source": [
    "# grid = {\n",
    "#     'criterion': ['squared_error'],\n",
    "#     'n_estimators': [100, 200, 20],\n",
    "#     'max_depth': [2, 20, 2],\n",
    "#     'random_state': [12345]\n",
    "# }\n",
    "\n",
    "# grid_forest = GridSearchCV(\n",
    "#     forest_for_grid_search,\n",
    "#     param_grid = grid,\n",
    "# )\n",
    "\n",
    "# grid_forest.fit(features_train_forest, target_train_forest)\n",
    "\n",
    "# print(grid_forest.best_params_)"
   ]
  },
  {
   "cell_type": "code",
   "execution_count": 113,
   "id": "88a9ef46",
   "metadata": {
    "ExecuteTime": {
     "end_time": "2022-12-02T20:52:27.668614Z",
     "start_time": "2022-12-02T20:52:27.652104Z"
    }
   },
   "outputs": [],
   "source": [
    "grid_forest_best_params = {'max_depth': 20, 'n_estimators': 200, 'random_state': 12345}"
   ]
  },
  {
   "cell_type": "markdown",
   "id": "6755500a",
   "metadata": {},
   "source": [
    "Теперь попробуем обучить модель на подобранных гридом параметрах."
   ]
  },
  {
   "cell_type": "code",
   "execution_count": 118,
   "id": "e5f43780",
   "metadata": {
    "ExecuteTime": {
     "end_time": "2022-12-02T21:00:53.511369Z",
     "start_time": "2022-12-02T20:58:39.989935Z"
    }
   },
   "outputs": [
    {
     "name": "stdout",
     "output_type": "stream",
     "text": [
      "CPU times: total: 2min 10s\n",
      "Wall time: 2min 13s\n"
     ]
    }
   ],
   "source": [
    "%%time\n",
    "\n",
    "start = time.time()\n",
    "model_forest_grid = RandomForestRegressor(random_state=12345, max_depth=20, n_estimators=200)\n",
    "model_forest_grid.fit(features_train_forest, target_train_forest)\n",
    "finish = time.time()\n",
    "time_forest_grid=round(finish-start,3)"
   ]
  },
  {
   "cell_type": "code",
   "execution_count": 115,
   "id": "f66777cd",
   "metadata": {
    "ExecuteTime": {
     "end_time": "2022-12-02T20:55:43.737188Z",
     "start_time": "2022-12-02T20:55:37.730592Z"
    }
   },
   "outputs": [
    {
     "name": "stdout",
     "output_type": "stream",
     "text": [
      "CPU times: total: 5.39 s\n",
      "Wall time: 5.94 s\n"
     ]
    }
   ],
   "source": [
    "%%time\n",
    "\n",
    "start = time.time()\n",
    "predict_model_forest_grid = model_forest_grid.predict(features_valid_forest)\n",
    "finish = time.time()\n",
    "time_predict_model_forest_grid = round(finish-start,3)"
   ]
  },
  {
   "cell_type": "code",
   "execution_count": 116,
   "id": "0b89b99b",
   "metadata": {
    "ExecuteTime": {
     "end_time": "2022-12-02T20:55:44.932271Z",
     "start_time": "2022-12-02T20:55:44.891297Z"
    },
    "scrolled": true
   },
   "outputs": [
    {
     "name": "stdout",
     "output_type": "stream",
     "text": [
      "RMSE RandomForestRegressor составляет: 1537.0\n"
     ]
    }
   ],
   "source": [
    "mae_model_forest_grid =  mean_squared_error(target_valid_forest, predict_model_forest_grid).round(2)\n",
    "rmse_model_forest_grid = math.sqrt(mae_model_forest_grid)\n",
    "print('RMSE RandomForestRegressor составляет:', round(rmse_model_forest_grid, 0))"
   ]
  },
  {
   "cell_type": "markdown",
   "id": "d5056867",
   "metadata": {},
   "source": [
    "**RMSE RandomForestRegressor с подобранными параметрами чуть ниже чем у модели без гиперпараметров.**"
   ]
  },
  {
   "cell_type": "markdown",
   "id": "a7bb776d",
   "metadata": {},
   "source": [
    "В общем, к данному моменту, мне кажется, что у меня уже ничего не работает. Я всегда использовала GridSearchCV, но я сдаюсь (честно) и не понимаю, почему не работает грид. Я просто обучила несколько моделей с разными параметрами (max_depth=10, min_samples_leaf=12, n_estimators=150) и результат не превышал результата работы модели без параметров. \n",
    "\n",
    "И я решила на этом остановиться."
   ]
  },
  {
   "cell_type": "markdown",
   "id": "41130054",
   "metadata": {},
   "source": [
    "**В результате второго этапа было обучено пять моделей и три из них показали результат меньше чем того требует техническое задание, а именно RMSE должно быть меньше 2500.**\n",
    "\n",
    "**В ходе обучения моделей были предприняты попытки подбора гиперпараметров, но не везде они увенчались успехом.**"
   ]
  },
  {
   "cell_type": "markdown",
   "id": "01afd6bf",
   "metadata": {},
   "source": [
    "## Анализ моделей"
   ]
  },
  {
   "cell_type": "markdown",
   "id": "b066794d",
   "metadata": {},
   "source": [
    "Для анализа моделей я решила создать таблицу и собрать результаты пяти моделей, а именно RMSE модели, время ее обучения и предсказания."
   ]
  },
  {
   "cell_type": "code",
   "execution_count": 119,
   "id": "e1442bf0",
   "metadata": {
    "ExecuteTime": {
     "end_time": "2022-12-02T21:01:18.558574Z",
     "start_time": "2022-12-02T21:01:18.515599Z"
    }
   },
   "outputs": [
    {
     "data": {
      "text/html": [
       "<div>\n",
       "<style scoped>\n",
       "    .dataframe tbody tr th:only-of-type {\n",
       "        vertical-align: middle;\n",
       "    }\n",
       "\n",
       "    .dataframe tbody tr th {\n",
       "        vertical-align: top;\n",
       "    }\n",
       "\n",
       "    .dataframe thead th {\n",
       "        text-align: right;\n",
       "    }\n",
       "</style>\n",
       "<table border=\"1\" class=\"dataframe\">\n",
       "  <thead>\n",
       "    <tr style=\"text-align: right;\">\n",
       "      <th></th>\n",
       "      <th>LinearRegression</th>\n",
       "      <th>SGDRegression</th>\n",
       "      <th>CatBoostRegressor</th>\n",
       "      <th>LightGBM</th>\n",
       "      <th>RandomForestRegressor</th>\n",
       "    </tr>\n",
       "  </thead>\n",
       "  <tbody>\n",
       "    <tr>\n",
       "      <th>RMSE модели</th>\n",
       "      <td>2523.000</td>\n",
       "      <td>2523.000</td>\n",
       "      <td>1526.000</td>\n",
       "      <td>1517.000</td>\n",
       "      <td>1537.000</td>\n",
       "    </tr>\n",
       "    <tr>\n",
       "      <th>Скорость обучения, c</th>\n",
       "      <td>8.752</td>\n",
       "      <td>123.004</td>\n",
       "      <td>301.086</td>\n",
       "      <td>1.820</td>\n",
       "      <td>133.498</td>\n",
       "    </tr>\n",
       "    <tr>\n",
       "      <th>Скорость предсказания, c</th>\n",
       "      <td>0.266</td>\n",
       "      <td>0.226</td>\n",
       "      <td>0.555</td>\n",
       "      <td>0.321</td>\n",
       "      <td>5.939</td>\n",
       "    </tr>\n",
       "  </tbody>\n",
       "</table>\n",
       "</div>"
      ],
      "text/plain": [
       "                          LinearRegression  SGDRegression  CatBoostRegressor  \\\n",
       "RMSE модели                       2523.000       2523.000           1526.000   \n",
       "Скорость обучения, c                 8.752        123.004            301.086   \n",
       "Скорость предсказания, c             0.266          0.226              0.555   \n",
       "\n",
       "                          LightGBM  RandomForestRegressor  \n",
       "RMSE модели               1517.000               1537.000  \n",
       "Скорость обучения, c         1.820                133.498  \n",
       "Скорость предсказания, c     0.321                  5.939  "
      ]
     },
     "metadata": {},
     "output_type": "display_data"
    }
   ],
   "source": [
    "column=['RMSE модели','Время обучения, c','Время предсказания, c']\n",
    "\n",
    "analiz_table = pd.DataFrame(index=['RMSE модели','Скорость обучения, c', 'Скорость предсказания, c'],\n",
    "                            columns=['LinearRegression', 'SGDRegression', 'CatBoostRegressor','LightGBM',\n",
    "                                     'RandomForestRegressor'])\n",
    "\n",
    "analiz_table['LinearRegression'] = round(rmse_linear_regression,0), time_linear_regression, time_predict_linear_regression\n",
    "analiz_table['SGDRegression'] = round(rmse_SGDRegressor,0), time_SGDRegressor, time_predict_SGDRegressor\n",
    "analiz_table['CatBoostRegressor'] = round(rmse_catboost_grid,0), time_catboost_grid, time_cat_predict_grid\n",
    "analiz_table['LightGBM'] = round(rmse_model_lgb_grid_search,0), time_lgb, time_predict_model_lgb_grid_search\n",
    "analiz_table['RandomForestRegressor'] = round(rmse_model_forest_grid,0), time_forest_grid, time_predict_model_forest_grid\n",
    "\n",
    "display(analiz_table)"
   ]
  },
  {
   "cell_type": "markdown",
   "id": "14017665",
   "metadata": {},
   "source": [
    "Из таблицы видно, что RMSE у LinearRegression и SGDRegression самые высокие (а нам нужно наоборот). Самое минимальное значение у CatBoostRegressor (наконец-то не лес).\n",
    "\n",
    " ❑ По времени обучения проиграл лес и CatBoostRegresso, а самой шустрой в обучении оказалась Линейная Регрессия.\n",
    "\n",
    " ❑ LinearRegression также преуспела и в скорости предсказания, но ошибка ее предсказаний слишков велика, как и у SGDRegression (и мне уже начинает казаться, что это одно и тоже).\n",
    "\n",
    " ❑ ПО времени предсказания неплох и CatBoostRegressor.\n",
    "\n",
    " ❑Помня о том, что у CatBoostRegressor самое долгое только время обучения я бы назвала его лучшей моделью (как того требует задание), НО!!! LightGBM не сильно ошиблась, судя по значению ее метрики на валидационной выборке, а по времени, она почти в 19 раз быстрее, то я бы \"скормила\" тестову выборку им обеим и посмотрела бы уже на результат в финале.\n",
    "\n",
    " ❑ Если так нельзя, то я постараюсь определиться уже на этом этапе."
   ]
  },
  {
   "cell_type": "markdown",
   "id": "06d5e863",
   "metadata": {},
   "source": [
    "### Проверка качества модели LightGBM"
   ]
  },
  {
   "cell_type": "markdown",
   "id": "fa9a5cc1",
   "metadata": {},
   "source": [
    "Проверим модель на тестовой выборке, которую мы приберегли для этого этапа."
   ]
  },
  {
   "cell_type": "code",
   "execution_count": 120,
   "id": "e6f687dc",
   "metadata": {
    "ExecuteTime": {
     "end_time": "2022-12-02T21:03:33.015658Z",
     "start_time": "2022-12-02T21:03:32.557004Z"
    }
   },
   "outputs": [
    {
     "name": "stdout",
     "output_type": "stream",
     "text": [
      "RMSE LightGBM на тестовой выборке составляет: 1534.0\n"
     ]
    }
   ],
   "source": [
    "predict_lgb_test = model_lgb.predict(features_test_LightGBM)\n",
    "\n",
    "mae_lgb_test =  mean_squared_error(target_test_LightGBM, predict_lgb_test).round(2)\n",
    "rmse_lgb_test = math.sqrt(mae_lgb_test)\n",
    "print('RMSE LightGBM на тестовой выборке составляет:', round(rmse_lgb_test, 0))"
   ]
  },
  {
   "cell_type": "markdown",
   "id": "61a0c39b",
   "metadata": {},
   "source": [
    "ЮХУУУУУ! Критерий пройден!\n",
    "\n",
    "Получается, что лучшей моделью является именно LightGBM.\n",
    "\n",
    "~аминь~"
   ]
  },
  {
   "cell_type": "markdown",
   "id": "3258d23a",
   "metadata": {},
   "source": [
    "**В ходе исследования датафрейма с информацией о машинах выставленных на продажу было проведено следующее исследование:**\n",
    "\n",
    "1) Переименованы столбцы, заменены пропуски, где возможно, исправлены аномальные значения. \n",
    "\n",
    "2) Удалены ненужные столбцы, чтобы они не загружали и не путали модель при обучении.\n",
    "\n",
    "3) Признак с индексом был упращен до первого знака, чтобы опять же не путать модель и упростить масштабирование.\n",
    "\n",
    "4) Были найдены зависимости в данных, а именно зависимость ценообразования автомобиля : чем старше автомобиль тем цена ниже,а также чем больше пробег, тем цена ниже.\n",
    "\n",
    "5) Для дальнейшего обучения обработанный датафрейм был разделен на целевой признак и обучающие признаки, а также на выборки:\n",
    "\n",
    "  ⎔ тренировочную;\n",
    "  \n",
    "  ⎔ валидационную;\n",
    "    \n",
    "  ⎔ тестовую;\n",
    "  \n",
    "5) После разделения обучающие признаки были закодированы из объектов в числовые значения, а после масштабированы;\n",
    "\n",
    "6) Далее исследовались пять моделей LinearRegression, SGDRegression, CatBoostRegressor, LightGBM, RandomForestRegressor. У них ставнивалось время обучения, время предсказания, а метрикой качества являлась RMSE.\n",
    "\n",
    "7) Итого после тестовой выборки лучшей оказалась LightGBM и по качеству и по скорости."
   ]
  },
  {
   "cell_type": "markdown",
   "id": "c3237ffd",
   "metadata": {},
   "source": [
    "**Рекомендации по сбору данных:**\n",
    "\n",
    "1) Как и упоминалось выше - добавить категорию \"ретро-авто\", \"люкс\", чтобы была зависимость цены от особенностей товара, когда надбавка идет за эксклюзив.\n",
    "\n",
    "2) Не пропускать анкеты с незаполненными датами, как при оформлении кредита.\n",
    "\n",
    "3) Еще бы добавила пункт \"курящий водитель\". Ведь вонючие машины стоят дешевле обычных.\n",
    "\n",
    "4) Также выделить категорию авто \"под автозапчасти\", чтобы не было путанницы. \n",
    "\n",
    "*т.е. речь идет в основном по более расширенной системе загрузки данных, чтобы исключить путанницы.*"
   ]
  }
 ],
 "metadata": {
  "kernelspec": {
   "display_name": "Python 3 (ipykernel)",
   "language": "python",
   "name": "python3"
  },
  "language_info": {
   "codemirror_mode": {
    "name": "ipython",
    "version": 3
   },
   "file_extension": ".py",
   "mimetype": "text/x-python",
   "name": "python",
   "nbconvert_exporter": "python",
   "pygments_lexer": "ipython3",
   "version": "3.9.7"
  },
  "toc": {
   "base_numbering": 1,
   "nav_menu": {},
   "number_sections": true,
   "sideBar": true,
   "skip_h1_title": false,
   "title_cell": "Table of Contents",
   "title_sidebar": "Contents",
   "toc_cell": true,
   "toc_position": {
    "height": "510px",
    "left": "77px",
    "top": "111.051px",
    "width": "249.574px"
   },
   "toc_section_display": true,
   "toc_window_display": true
  }
 },
 "nbformat": 4,
 "nbformat_minor": 5
}
